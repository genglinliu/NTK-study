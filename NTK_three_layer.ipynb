{
 "cells": [
  {
   "cell_type": "markdown",
   "id": "dbedd234-f914-4a44-a1b2-c437dd8128fb",
   "metadata": {},
   "source": [
    "### Three-Layer NTK\n",
    "\n",
    "#### [NTK paper](https://papers.nips.cc/paper/2019/file/c4ef9c39b300931b69a36fb3dbb8d60e-Paper.pdf)\n",
    "\n",
    "#### [REU overleaf doc](https://www.overleaf.com/project/606a0e1c8d7e5e3b95b62e9a)\n",
    "\n",
    "#### [GitHub Repo for this project](https://github.com/genglinliu/NTK-study)"
   ]
  },
  {
   "cell_type": "code",
   "execution_count": 1,
   "id": "5e8c95c0-f769-4af8-a7eb-7333b5cdf811",
   "metadata": {},
   "outputs": [],
   "source": [
    "import numpy as np\n",
    "import matplotlib.pyplot as plt\n",
    "\n",
    "from tqdm import tqdm\n",
    "\n",
    "import warnings\n",
    "warnings.filterwarnings('ignore')"
   ]
  },
  {
   "cell_type": "code",
   "execution_count": 2,
   "id": "df01bbb3-9540-44c7-b898-fd613e52377a",
   "metadata": {},
   "outputs": [],
   "source": [
    "\"\"\"\n",
    "activation functions and their derivatives\n",
    "\"\"\"\n",
    "\n",
    "def relu_k(x, k):\n",
    "    return np.maximum(x**k, 0)\n",
    "\n",
    "def d_relu_k(x, k):\n",
    "    return k * x**(k-1) * (x > 0)\n",
    "\n",
    "def relu(x):\n",
    "    return np.maximum(x, 0)\n",
    "\n",
    "def d_relu(x):\n",
    "    return 1.0 * (x > 0)\n",
    "\n",
    "def sin(x, k=None):\n",
    "    return np.sin(x)\n",
    "\n",
    "def cos(x, k=None):\n",
    "    return np.cos(x)\n",
    "\n",
    "def d_cos(x, k=None):\n",
    "    return -np.sin(x)"
   ]
  },
  {
   "cell_type": "code",
   "execution_count": 3,
   "id": "c851e028-482c-4ae3-abb0-cad9ebb7cd04",
   "metadata": {},
   "outputs": [],
   "source": [
    "def init_inputs(num_inputs=100):\n",
    "    # sin(theta) and cos(theta), theta ~ (0, 2*pi) uniformly sampled\n",
    "    # take 100 points on the unit circle\n",
    "    theta = np.linspace(0.0, 2 * np.pi, num=num_inputs)\n",
    "    x = np.asarray((np.cos(theta), np.sin(theta))) # (2, 100)\n",
    "    return x"
   ]
  },
  {
   "cell_type": "code",
   "execution_count": 4,
   "id": "d4656f7c-ca55-48d1-9a17-081fd7d57fb4",
   "metadata": {},
   "outputs": [],
   "source": [
    "# check kernel symmetry and positive definitiveness\n",
    "def check(matrix, tol=1e-10):\n",
    "    if not np.all(np.abs(matrix-matrix.T) < tol):\n",
    "        print(\"warning: kernel is not symmetric\")\n",
    "    if not np.all(np.linalg.eigvals(matrix) >= -tol):\n",
    "        print(\"warning: kernel is not positive semi-definite\")"
   ]
  },
  {
   "cell_type": "markdown",
   "id": "354d347a-d849-4e48-a72f-de2561c31958",
   "metadata": {},
   "source": [
    "#### Enrty-wise Computation"
   ]
  },
  {
   "cell_type": "code",
   "execution_count": 5,
   "id": "f498dbf2-87fc-4247-90e6-6f8004c72f7d",
   "metadata": {},
   "outputs": [],
   "source": [
    "\"\"\"\n",
    "see page 3-4 of the paper\n",
    "\n",
    "STEP 0\n",
    "    x and x' are 2-dimensional points of shape (2,)\n",
    "    K_0(x, x') = sigma_0(x, x') = <x, x'> = (x^T).dot(x')\n",
    "\n",
    "STEP 1a\n",
    "    B_1 = [sigma_0(x, x),  sigma_0(x, x'),\n",
    "           sigma_0(x, x'), sigma_0(x', x')]\n",
    "           \n",
    "STEP 1b\n",
    "    sigma_1(x, x') = 2 E(u, v)~N(0, B_1) [activation(u) activation(v)]\n",
    "    sigma_1'(x, x') = 2 E(u, v)~N(0, B_1) [activation'(u) activation'(v)]\n",
    "\n",
    "STEP 1c\n",
    "    K_1(x, x') = sigma_1(x, x') + K_0(x, x') sigma_1'(x, x')\n",
    "\n",
    "\"\"\"\n",
    "#------------\n",
    "# step 0\n",
    "#------------\n",
    "x = np.array([1, 2])\n",
    "y = np.array([1, 2])\n",
    "\n",
    "def K_0(x, y):\n",
    "    return np.dot(x.T, y)\n",
    "\n",
    "def sigma_0(x, y):\n",
    "    return np.dot(x.T, y)\n",
    "\n",
    "#------------\n",
    "# step 1a\n",
    "#------------\n",
    "def B_1(x, y):\n",
    "    v1 = np.vstack((sigma_0(x, x), sigma_0(x, y)))\n",
    "    v2 = np.vstack((sigma_0(x, y), sigma_0(y, y)))\n",
    "\n",
    "    B_1 = np.hstack((v1, v2)) \n",
    "    return B_1\n",
    "\n",
    "#------------\n",
    "# step 1b\n",
    "#------------\n",
    "def sigma_1_and_prime(x, y, activation, k):\n",
    "    \n",
    "    activation_map = {\n",
    "        'relu_k': [relu_k, d_relu_k],\n",
    "        'sin': [sin, cos],\n",
    "        'cos': [cos, d_cos]\n",
    "    }\n",
    "        \n",
    "    mean = np.zeros(x.shape[0])\n",
    "    cov = B_1(x, y)\n",
    "    expectation = 0\n",
    "    num_samples = 1000\n",
    "    # generate 1000 pairs of (u, v), apply activation array-wise then take average\n",
    "    sample_1 = np.random.multivariate_normal(mean, cov, num_samples) # (num_samples, 2)\n",
    "    u1, v1 = sample_1[:, 0], sample_1[:, 1] # (num_samples,)\n",
    "    \n",
    "    sample_2 = np.random.multivariate_normal(mean, cov, num_samples) # (num_samples, 2)\n",
    "    u2, v2 = sample_2[:, 0], sample_2[:, 1] # (num_samples,)\n",
    "    \n",
    "    activation_func, d_activation = activation_map[activation]\n",
    "    expectation_1 = np.mean(activation_func(u1, k) * activation_func(v1, k))\n",
    "    expectation_2 = np.mean(d_activation(u2, k) * d_activation(v2, k))\n",
    "\n",
    "    sigma_1 = 2 * expectation_1\n",
    "    sigma_1_prime = 2 * expectation_2\n",
    "    \n",
    "    return sigma_1, sigma_1_prime\n",
    "\n",
    "#------------\n",
    "# step 1c\n",
    "#------------\n",
    "def K_1(x, y, activation, k=1):\n",
    "    sigma_1, sigma_1_prime = sigma_1_and_prime(x, y, activation, k)\n",
    "    return sigma_1 + K_0(x, y) * sigma_1_prime\n",
    "\n"
   ]
  },
  {
   "cell_type": "code",
   "execution_count": 6,
   "id": "216f37a9-7115-4fb9-bbfc-40d8750effbd",
   "metadata": {},
   "outputs": [
    {
     "data": {
      "text/plain": [
       "9.713134641217536"
      ]
     },
     "execution_count": 6,
     "metadata": {},
     "output_type": "execute_result"
    }
   ],
   "source": [
    "K_1(x, y, 'relu_k')"
   ]
  },
  {
   "cell_type": "code",
   "execution_count": 7,
   "id": "d5ade26e-4d14-4e91-8ace-6a611b26a407",
   "metadata": {},
   "outputs": [],
   "source": [
    "\"\"\"\n",
    "------------------------------------------------------------------\n",
    "STEP 2a\n",
    "    B_2 = [sigma_1(x, x),  sigma_1(x, x'),\n",
    "           sigma_1(x, x'), sigma_1(x', x')]\n",
    "           \n",
    "STEP 2b\n",
    "    sigma_2(x, x') = 2 E(u, v)~N(0, B_2) [activation(u) activation(v)]\n",
    "    sigma_2'(x, x') = 2 E(u, v)~N(0, B_2) [activation'(u) activation'(v)]\n",
    "\n",
    "STEP 2c\n",
    "    K_2(x, x') = sigma_2(x, x') + K_1(x, x') sigma_2'(x, x')\n",
    "    \n",
    "    \n",
    "experiment:\n",
    "1. first hidden layer: smooth (sin/cos), second: non-smooth (ReLU^k)\n",
    "2. reverse the order of activation\n",
    "\n",
    "\"\"\"\n",
    "\n",
    "#------------\n",
    "# step 2a\n",
    "#------------\n",
    "def B_2(x, y, activation_h1, k):\n",
    "    sigma_1_xx, _ = sigma_1_and_prime(x, x, activation_h1, k)\n",
    "    sigma_1_xy, _ = sigma_1_and_prime(x, y, activation_h1, k)\n",
    "    sigma_1_yy, _ = sigma_1_and_prime(y, y, activation_h1, k)\n",
    "    \n",
    "    v1 = np.vstack((sigma_1_xx, sigma_1_xy))\n",
    "    v2 = np.vstack((sigma_1_xy, sigma_1_yy))\n",
    "\n",
    "    B_2 = np.hstack((v1, v2)) \n",
    "    return B_2\n",
    "\n",
    "\n",
    "#------------\n",
    "# step 2b\n",
    "#------------\n",
    "def sigma_2_and_prime(x, y, activation_h2, k):\n",
    "    \n",
    "    activation_map = {\n",
    "        'relu_k': [relu_k, d_relu_k],\n",
    "        'sin': [sin, cos],\n",
    "        'cos': [cos, d_cos]\n",
    "    }\n",
    "        \n",
    "    mean = np.zeros(x.shape[0])\n",
    "    cov = B_2(x, y)\n",
    "    expectation = 0\n",
    "    num_samples = 1000\n",
    "    # generate 1000 pairs of (u, v), apply activation array-wise then take average\n",
    "    sample_1 = np.random.multivariate_normal(mean, cov, num_samples) # (num_samples, 2)\n",
    "    u1, v1 = sample_1[:, 0], sample_1[:, 1] # (num_samples,)\n",
    "    \n",
    "    sample_2 = np.random.multivariate_normal(mean, cov, num_samples) # (num_samples, 2)\n",
    "    u2, v2 = sample_2[:, 0], sample_2[:, 1] # (num_samples,)\n",
    "    \n",
    "    activation_func, d_activation = activation_map[activation_h2]\n",
    "    expectation_1 = np.mean(activation_func(u1, k) * activation_func(v1, k))\n",
    "    expectation_2 = np.mean(d_activation(u2, k) * d_activation(v2, k))\n",
    "\n",
    "    sigma_2 = 2 * expectation_1\n",
    "    sigma_2_prime = 2 * expectation_2\n",
    "    \n",
    "    return sigma_2, sigma_2_prime\n",
    "\n",
    "#------------\n",
    "# step 2c\n",
    "#------------\n",
    "def K_2(x, y, activation_h1, activation_h2, k=1):\n",
    "    sigma_2, sigma_2_prime = sigma_1_and_prime(x, y, activation_h2, k)\n",
    "    return sigma_2 + K_1(x, y, activation=activation_h1) * sigma_2_prime\n"
   ]
  },
  {
   "cell_type": "code",
   "execution_count": 8,
   "id": "4bb44aae-3aa2-49d7-8db5-39fa97fb2d6a",
   "metadata": {},
   "outputs": [
    {
     "data": {
      "text/plain": [
       "5.9865501327447115"
      ]
     },
     "execution_count": 8,
     "metadata": {},
     "output_type": "execute_result"
    }
   ],
   "source": [
    "K_1(x, y, 'cos')"
   ]
  },
  {
   "cell_type": "code",
   "execution_count": 9,
   "id": "793157ec-b36e-4218-8d9d-9d5c2f2b3749",
   "metadata": {},
   "outputs": [],
   "source": [
    "# TO FIX: you cannot sample from gaussian entry-wise\n",
    "# look at your previous work!!!\n",
    "\n",
    "# TODO:\n",
    "# 1. get whole kernel working, plot eigen decay\n",
    "# 2. clean up your code make it modular and compact\n",
    "# 3. check with analytic solution\n",
    "# 4. vectorize if you can\n",
    "# 5. when you write up doc, refer to your commit history"
   ]
  },
  {
   "cell_type": "code",
   "execution_count": 12,
   "id": "23b7b0df-9023-44df-a2cf-ec887cd6c3ba",
   "metadata": {},
   "outputs": [],
   "source": [
    "# execute\n",
    "def calc_NTK(activation_h1='relu_k', activation_h2='sin', k=1):\n",
    "    \"\"\"\n",
    "    activation = ['relu_k', 'trig', 'laplace']\n",
    "    \"\"\"\n",
    "    x = init_inputs() # (2, 100)\n",
    "    num_inputs = x.shape[1]\n",
    "\n",
    "    # initialize kernel and sample weights\n",
    "    kernel = np.zeros((num_inputs, num_inputs))\n",
    "    num_samples = 1000\n",
    "    w1, w2 = np.random.normal(0.0, 1.0, size=[2, num_samples, 2])\n",
    "    \n",
    "    for i in range(num_inputs):\n",
    "        for j in range(num_inputs):\n",
    "            kernel[i][j] = K_2(x[:, i], x[:, j], activation_h1, activation_h2, k)\n",
    "    \n",
    "    check(kernel)\n",
    "    \n",
    "    return kernel"
   ]
  },
  {
   "cell_type": "code",
   "execution_count": 17,
   "id": "6a68986d-6db1-4b99-a858-98d21b8fc9d2",
   "metadata": {},
   "outputs": [
    {
     "name": "stdout",
     "output_type": "stream",
     "text": [
      "warning: kernel is not symmetric\n",
      "warning: kernel is not positive semi-definite\n",
      "warning: kernel is not symmetric\n",
      "warning: kernel is not positive semi-definite\n"
     ]
    }
   ],
   "source": [
    "kernel_1 = calc_NTK(activation_h1='relu_k', activation_h2='sin', k=1)\n",
    "kernel_2 = calc_NTK(activation_h1='sin', activation_h2='relu_k', k=1)"
   ]
  },
  {
   "cell_type": "code",
   "execution_count": 15,
   "id": "bcb22f09-d1db-4935-a834-f2f3463453dd",
   "metadata": {},
   "outputs": [],
   "source": [
    "def plot_eigendecay(kernel, label):\n",
    "    # plot\n",
    "    eigenvalues = np.linalg.eigvals(kernel)\n",
    "    # sort in descending order\n",
    "    sorted_eigenvalues = np.sort(eigenvalues)[::-1]\n",
    "    plt.loglog(sorted_eigenvalues[:-1], label=label)\n",
    "    plt.legend(loc='center left', bbox_to_anchor=(1, 0.5))\n",
    "    \n",
    "def plot_eigendecay_trig(kernel, label):\n",
    "    # plot\n",
    "    eigenvalues = np.linalg.eigvals(kernel)\n",
    "    # sort in descending order\n",
    "    sorted_eigenvalues = np.sort(eigenvalues)[::-1]\n",
    "    plt.yscale('log')\n",
    "    plt.plot(sorted_eigenvalues[:-100], label=label)\n",
    "    plt.legend(loc='center left', bbox_to_anchor=(1, 0.5))"
   ]
  },
  {
   "cell_type": "code",
   "execution_count": 18,
   "id": "2ae6de12-3655-45a8-8820-b6014c6565d5",
   "metadata": {},
   "outputs": [
    {
     "data": {
      "image/png": "[encoded data removed]",
      "text/plain": [
       "<Figure size 432x288 with 1 Axes>"
      ]
     },
     "metadata": {
      "needs_background": "light"
     },
     "output_type": "display_data"
    }
   ],
   "source": [
    "plot_eigendecay(kernel_1, 'relu+sin')\n",
    "plot_eigendecay(kernel_2, 'sin+relu')"
   ]
  },
  {
   "cell_type": "code",
   "execution_count": null,
   "id": "0578793b-3846-4364-88c7-d04e6f39176c",
   "metadata": {},
   "outputs": [],
   "source": []
  },
  {
   "cell_type": "code",
   "execution_count": null,
   "id": "d7ba02f4-3d72-464c-b6f7-4e9b06d5ade6",
   "metadata": {},
   "outputs": [],
   "source": []
  }
 ],
 "metadata": {
  "kernelspec": {
   "display_name": "Python 3",
   "language": "python",
   "name": "python3"
  },
  "language_info": {
   "codemirror_mode": {
    "name": "ipython",
    "version": 3
   },
   "file_extension": ".py",
   "mimetype": "text/x-python",
   "name": "python",
   "nbconvert_exporter": "python",
   "pygments_lexer": "ipython3",
   "version": "3.8.8"
  }
 },
 "nbformat": 4,
 "nbformat_minor": 5
}
