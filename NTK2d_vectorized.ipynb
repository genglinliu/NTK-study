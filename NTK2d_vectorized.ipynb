{
 "cells": [
  {
   "cell_type": "code",
   "execution_count": 1,
   "id": "e97e2436-bdb9-4a84-b08b-e2f3f2eb270e",
   "metadata": {},
   "outputs": [],
   "source": [
    "import numpy as np\n",
    "import matplotlib.pyplot as plt"
   ]
  },
  {
   "cell_type": "code",
   "execution_count": 2,
   "id": "8db7d78b-b9e2-4892-9db3-9f90a65f38cb",
   "metadata": {},
   "outputs": [],
   "source": [
    "\"\"\"\n",
    "activation functions and their derivatives\n",
    "\"\"\"\n",
    "\n",
    "def relu_k(x, k):\n",
    "    return np.maximum(x**k, 0)\n",
    "\n",
    "def d_relu_k(x, k):\n",
    "    return k * x**(k-1) * (x > 0)\n",
    "\n",
    "def relu(x):\n",
    "    return np.maximum(x, 0)\n",
    "\n",
    "def d_relu(x):\n",
    "    return 1.0 * (x > 0)\n",
    "\n",
    "def sin(x, k=None):\n",
    "    return np.sin(x)\n",
    "\n",
    "def cos(x, k=None):\n",
    "    return np.cos(x)\n",
    "\n",
    "def d_cos(x, k=None):\n",
    "    return -np.sin(x)"
   ]
  },
  {
   "cell_type": "code",
   "execution_count": 84,
   "id": "cf4c9a30-e79a-4126-a52e-2ecad82e95e8",
   "metadata": {},
   "outputs": [],
   "source": [
    "\"\"\"\n",
    "analytic solution: Equation (4)-(5) on page 3\n",
    "\n",
    "u = <x, x'> / ||x|| ||x'||\n",
    "\n",
    "k(u) = u k_0(u) + k_1(u)\n",
    "\n",
    "k_0 = 1/pi (pi - arccos(u))\n",
    "k_1 = 1/pi (u (pi - arccos(u)) + sqrt(1 - u^2))\n",
    "\n",
    "assuming x == x'\n",
    "\"\"\"\n",
    "\n",
    "def kappa(u):\n",
    "    pi = np.pi\n",
    "    k_0 = (1/pi) * (pi - np.arccos(u))\n",
    "    k_1 = (1/pi) * (u * (pi - np.arccos(u)) + np.sqrt(1 - u**2))\n",
    "    return u * k_0 + k_1\n",
    "\n",
    "num_inputs = 100\n",
    "pi = np.pi\n",
    "# sin(theta) and cos(theta), theta ~ (0, 2*pi) uniform\n",
    "# take 100 points on the unit circle\n",
    "theta = np.linspace(0.0, 2 * pi, num=num_inputs)\n",
    "x = np.asarray((np.cos(theta), np.sin(theta))) # (2, 100)\n",
    "\n",
    "kernel = np.zeros((num_inputs, num_inputs)) #(100, 100)\n",
    "\n",
    "norm = np.linalg.norm(x, axis=0) # (100,)\n",
    "norm_prod = np.outer(norm, norm) # (100, 100)\n",
    "inner_prod = np.dot(x.T, x) #(100, 100)\n",
    "\n",
    "inner_prod[inner_prod > 1.0] = 1.0\n",
    "\n",
    "u = inner_prod\n",
    "\n",
    "kernel = kappa(u)"
   ]
  },
  {
   "cell_type": "code",
   "execution_count": 87,
   "id": "cc56d4a2-17af-4f2b-a96f-3d326b60b187",
   "metadata": {},
   "outputs": [
    {
     "data": {
      "text/plain": [
       "[<matplotlib.lines.Line2D at 0x235f36ad700>]"
      ]
     },
     "execution_count": 87,
     "metadata": {},
     "output_type": "execute_result"
    },
    {
     "data": {
      "image/png": "[encoded data removed]",
      "text/plain": [
       "<Figure size 432x288 with 1 Axes>"
      ]
     },
     "metadata": {
      "needs_background": "light"
     },
     "output_type": "display_data"
    }
   ],
   "source": [
    "eigenvalues = np.linalg.eigvals(kernel)\n",
    "# sort in descending order\n",
    "sorted_eigenvalues = np.sort(eigenvalues)[::-1]\n",
    "plt.loglog(sorted_eigenvalues[:-1])"
   ]
  },
  {
   "cell_type": "code",
   "execution_count": 10,
   "id": "dd619035-0c35-4b3c-9109-677747aea0c4",
   "metadata": {},
   "outputs": [
    {
     "data": {
      "text/plain": [
       "(1000, 2)"
      ]
     },
     "execution_count": 10,
     "metadata": {},
     "output_type": "execute_result"
    }
   ],
   "source": [
    "w1.shape"
   ]
  },
  {
   "cell_type": "code",
   "execution_count": 4,
   "id": "689bfa6a-cead-4f7a-a3f5-c1be2c1a2c7b",
   "metadata": {},
   "outputs": [],
   "source": [
    "# execute\n",
    "def calc_NTK_2d(kernel_entry_func, k=1, activation='relu_k'):\n",
    "    \"\"\"\n",
    "    labels = ['relu_k', 'trig', 'laplace']\n",
    "    \"\"\"\n",
    "    num_inputs = 100\n",
    "    pi = np.pi\n",
    "    # sin(theta) and cos(theta), theta ~ (0, 2*pi) uniform\n",
    "    # take 100 points on the unit circle\n",
    "    theta = np.linspace(0.0, 2 * pi, num=num_inputs)\n",
    "    x = np.asarray((np.cos(theta), np.sin(theta))) # (2, 100)\n",
    "  \n",
    "\n",
    "    # initialize kernel and sample weights\n",
    "    kernel = np.zeros((num_inputs, num_inputs)) #(100, 100)\n",
    "    \n",
    "    \n",
    "    kernel = \n",
    "    \n",
    "    \"\"\"plot\"\"\"\n",
    "    eigenvalues = np.linalg.eigvals(kernel)\n",
    "    # sort in descending order\n",
    "    sorted_eigenvalues = np.sort(eigenvalues)[::-1]\n",
    "    plt.loglog(sorted_eigenvalues[:-1])\n",
    "    plt.legend(['analytic', 'k=1', 'k=2', 'k=3', 'k=4'])\n",
    "    \n",
    "    return kernel"
   ]
  },
  {
   "cell_type": "code",
   "execution_count": 5,
   "id": "b7112706-ad30-45ec-ae18-c085268c41e8",
   "metadata": {},
   "outputs": [
    {
     "data": {
      "image/png": "[encoded data removed]",
      "text/plain": [
       "<Figure size 432x288 with 1 Axes>"
      ]
     },
     "metadata": {
      "needs_background": "light"
     },
     "output_type": "display_data"
    }
   ],
   "source": [
    "kernel_analytic = calc_NTK_2d(analytic_kernel_entry_2d)\n"
   ]
  },
  {
   "cell_type": "code",
   "execution_count": null,
   "id": "12cb1961-70ef-4fe6-833f-4d115b2f1745",
   "metadata": {},
   "outputs": [],
   "source": [
    "num_samples = 1000\n",
    "w1, w2 = np.random.normal(0.0, 1.0, size=[2, num_samples, 2]) # (1000, 2)"
   ]
  },
  {
   "cell_type": "code",
   "execution_count": 60,
   "id": "f6ede868-afbf-4050-81b6-9ec9628f37b5",
   "metadata": {},
   "outputs": [],
   "source": [
    "a = np.linspace((1,2),(5,10),5).T\n",
    "b = np.linspace((1,2),(5,10),5)"
   ]
  },
  {
   "cell_type": "code",
   "execution_count": 61,
   "id": "7b33fc7b-db16-447b-a9ef-4f16c01a009d",
   "metadata": {},
   "outputs": [
    {
     "data": {
      "text/plain": [
       "(2, 5)"
      ]
     },
     "execution_count": 61,
     "metadata": {},
     "output_type": "execute_result"
    }
   ],
   "source": [
    "a.shape"
   ]
  },
  {
   "cell_type": "code",
   "execution_count": 62,
   "id": "21a55d47-6db7-45ce-ba50-8da0f19d60cc",
   "metadata": {},
   "outputs": [
    {
     "data": {
      "text/plain": [
       "array([[ 1.,  2.,  3.,  4.,  5.],\n",
       "       [ 2.,  4.,  6.,  8., 10.]])"
      ]
     },
     "execution_count": 62,
     "metadata": {},
     "output_type": "execute_result"
    }
   ],
   "source": [
    "a"
   ]
  },
  {
   "cell_type": "code",
   "execution_count": 72,
   "id": "fb836e74-c6cc-4eb2-8ba8-4191e4010c14",
   "metadata": {},
   "outputs": [],
   "source": [
    "n = np.linalg.norm(a, axis=0)"
   ]
  },
  {
   "cell_type": "code",
   "execution_count": 76,
   "id": "2e997692-4a5b-44e7-a997-2af974d171e9",
   "metadata": {},
   "outputs": [
    {
     "data": {
      "text/plain": [
       "array([ 2.23606798,  4.47213595,  6.70820393,  8.94427191, 11.18033989])"
      ]
     },
     "execution_count": 76,
     "metadata": {},
     "output_type": "execute_result"
    }
   ],
   "source": [
    "n"
   ]
  },
  {
   "cell_type": "code",
   "execution_count": 79,
   "id": "708f05a2-53a8-404d-b8cc-d58181c3bb77",
   "metadata": {},
   "outputs": [
    {
     "data": {
      "text/plain": [
       "15.000000011183161"
      ]
     },
     "execution_count": 79,
     "metadata": {},
     "output_type": "execute_result"
    }
   ],
   "source": [
    "2.23606798 *6.70820393"
   ]
  },
  {
   "cell_type": "code",
   "execution_count": 75,
   "id": "efd013a6-316a-432b-adf8-f26617bfc96b",
   "metadata": {},
   "outputs": [
    {
     "data": {
      "text/plain": [
       "array([[  5.,  10.,  15.,  20.,  25.],\n",
       "       [ 10.,  20.,  30.,  40.,  50.],\n",
       "       [ 15.,  30.,  45.,  60.,  75.],\n",
       "       [ 20.,  40.,  60.,  80., 100.],\n",
       "       [ 25.,  50.,  75., 100., 125.]])"
      ]
     },
     "execution_count": 75,
     "metadata": {},
     "output_type": "execute_result"
    }
   ],
   "source": [
    "np.outer(n, n)"
   ]
  },
  {
   "cell_type": "code",
   "execution_count": 63,
   "id": "8408efd3-70b7-4a68-a274-01b065c2089c",
   "metadata": {},
   "outputs": [
    {
     "data": {
      "text/plain": [
       "array([[ 1.,  2.],\n",
       "       [ 2.,  4.],\n",
       "       [ 3.,  6.],\n",
       "       [ 4.,  8.],\n",
       "       [ 5., 10.]])"
      ]
     },
     "execution_count": 63,
     "metadata": {},
     "output_type": "execute_result"
    }
   ],
   "source": [
    "b"
   ]
  },
  {
   "cell_type": "code",
   "execution_count": 71,
   "id": "42d5fd0f-4cd9-46b5-8b8c-5f551db1d52e",
   "metadata": {},
   "outputs": [
    {
     "data": {
      "text/plain": [
       "array([ 2.23606798,  4.47213595,  6.70820393,  8.94427191, 11.18033989])"
      ]
     },
     "execution_count": 71,
     "metadata": {},
     "output_type": "execute_result"
    }
   ],
   "source": [
    "np.linalg.norm(b, axis=1)"
   ]
  },
  {
   "cell_type": "code",
   "execution_count": 64,
   "id": "5a963a5b-d079-455d-8dc9-e7c02ab352b1",
   "metadata": {},
   "outputs": [
    {
     "data": {
      "text/plain": [
       "array([[  5.,  10.,  15.,  20.,  25.],\n",
       "       [ 10.,  20.,  30.,  40.,  50.],\n",
       "       [ 15.,  30.,  45.,  60.,  75.],\n",
       "       [ 20.,  40.,  60.,  80., 100.],\n",
       "       [ 25.,  50.,  75., 100., 125.]])"
      ]
     },
     "execution_count": 64,
     "metadata": {},
     "output_type": "execute_result"
    }
   ],
   "source": [
    "b@a"
   ]
  },
  {
   "cell_type": "code",
   "execution_count": 65,
   "id": "dc5d6c24-bb79-41c5-8f04-ea7f4e0b9ee9",
   "metadata": {},
   "outputs": [
    {
     "data": {
      "text/plain": [
       "array([[  1.,   2.,   3.,   4.,   5.,   2.,   4.,   6.,   8.,  10.],\n",
       "       [  2.,   4.,   6.,   8.,  10.,   4.,   8.,  12.,  16.,  20.],\n",
       "       [  2.,   4.,   6.,   8.,  10.,   4.,   8.,  12.,  16.,  20.],\n",
       "       [  4.,   8.,  12.,  16.,  20.,   8.,  16.,  24.,  32.,  40.],\n",
       "       [  3.,   6.,   9.,  12.,  15.,   6.,  12.,  18.,  24.,  30.],\n",
       "       [  6.,  12.,  18.,  24.,  30.,  12.,  24.,  36.,  48.,  60.],\n",
       "       [  4.,   8.,  12.,  16.,  20.,   8.,  16.,  24.,  32.,  40.],\n",
       "       [  8.,  16.,  24.,  32.,  40.,  16.,  32.,  48.,  64.,  80.],\n",
       "       [  5.,  10.,  15.,  20.,  25.,  10.,  20.,  30.,  40.,  50.],\n",
       "       [ 10.,  20.,  30.,  40.,  50.,  20.,  40.,  60.,  80., 100.]])"
      ]
     },
     "execution_count": 65,
     "metadata": {},
     "output_type": "execute_result"
    }
   ],
   "source": [
    "np.outer(b, a)"
   ]
  },
  {
   "cell_type": "code",
   "execution_count": 66,
   "id": "255047bf-5232-4759-9898-07067d114c2e",
   "metadata": {},
   "outputs": [
    {
     "data": {
      "text/plain": [
       "array([[  1.,   2.,   2.,   4.,   3.,   6.,   4.,   8.,   5.,  10.],\n",
       "       [  2.,   4.,   4.,   8.,   6.,  12.,   8.,  16.,  10.,  20.],\n",
       "       [  3.,   6.,   6.,  12.,   9.,  18.,  12.,  24.,  15.,  30.],\n",
       "       [  4.,   8.,   8.,  16.,  12.,  24.,  16.,  32.,  20.,  40.],\n",
       "       [  5.,  10.,  10.,  20.,  15.,  30.,  20.,  40.,  25.,  50.],\n",
       "       [  2.,   4.,   4.,   8.,   6.,  12.,   8.,  16.,  10.,  20.],\n",
       "       [  4.,   8.,   8.,  16.,  12.,  24.,  16.,  32.,  20.,  40.],\n",
       "       [  6.,  12.,  12.,  24.,  18.,  36.,  24.,  48.,  30.,  60.],\n",
       "       [  8.,  16.,  16.,  32.,  24.,  48.,  32.,  64.,  40.,  80.],\n",
       "       [ 10.,  20.,  20.,  40.,  30.,  60.,  40.,  80.,  50., 100.]])"
      ]
     },
     "execution_count": 66,
     "metadata": {},
     "output_type": "execute_result"
    }
   ],
   "source": [
    "np.outer(a, b)"
   ]
  },
  {
   "cell_type": "code",
   "execution_count": null,
   "id": "eaf0419e-9543-4c9b-8fc7-edcfc6a2b5d0",
   "metadata": {},
   "outputs": [],
   "source": []
  }
 ],
 "metadata": {
  "kernelspec": {
   "display_name": "Python 3",
   "language": "python",
   "name": "python3"
  },
  "language_info": {
   "codemirror_mode": {
    "name": "ipython",
    "version": 3
   },
   "file_extension": ".py",
   "mimetype": "text/x-python",
   "name": "python",
   "nbconvert_exporter": "python",
   "pygments_lexer": "ipython3",
   "version": "3.8.8"
  }
 },
 "nbformat": 4,
 "nbformat_minor": 5
}
