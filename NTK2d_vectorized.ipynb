{
 "cells": [
  {
   "cell_type": "code",
   "execution_count": 1,
   "id": "e97e2436-bdb9-4a84-b08b-e2f3f2eb270e",
   "metadata": {},
   "outputs": [],
   "source": [
    "import numpy as np\n",
    "import matplotlib.pyplot as plt\n",
    "\n",
    "import warnings\n",
    "warnings.filterwarnings('ignore')"
   ]
  },
  {
   "cell_type": "markdown",
   "id": "33656182-de61-48e9-a206-0253038273d6",
   "metadata": {},
   "source": [
    "#### Initialize Input Vectors, activation functions and helper functions"
   ]
  },
  {
   "cell_type": "code",
   "execution_count": 2,
   "id": "8db7d78b-b9e2-4892-9db3-9f90a65f38cb",
   "metadata": {},
   "outputs": [],
   "source": [
    "\"\"\"\n",
    "activation functions and their derivatives\n",
    "\"\"\"\n",
    "\n",
    "def relu_k(x, k):\n",
    "    return np.maximum(x**k, 0)\n",
    "\n",
    "def d_relu_k(x, k):\n",
    "    return k * x**(k-1) * (x > 0)\n",
    "\n",
    "def relu(x):\n",
    "    return np.maximum(x, 0)\n",
    "\n",
    "def d_relu(x):\n",
    "    return 1.0 * (x > 0)\n",
    "\n",
    "def sin(x, k=None):\n",
    "    return np.sin(x)\n",
    "\n",
    "def cos(x, k=None):\n",
    "    return np.cos(x)\n",
    "\n",
    "def d_cos(x, k=None):\n",
    "    return -np.sin(x)"
   ]
  },
  {
   "cell_type": "code",
   "execution_count": 3,
   "id": "e10a46b1-8053-4209-99d3-64f42324f422",
   "metadata": {},
   "outputs": [],
   "source": [
    "def init_inputs(num_inputs=200):\n",
    "    # sin(theta) and cos(theta), theta ~ (0, 2*pi) uniformly sampled\n",
    "    # take 100 points on the unit circle\n",
    "    theta = np.linspace(0.0, 2 * np.pi, num=num_inputs)\n",
    "    x = np.asarray((np.cos(theta), np.sin(theta))) # (2, 100)\n",
    "    return x"
   ]
  },
  {
   "cell_type": "code",
   "execution_count": 4,
   "id": "80ecaed9-1e2d-4caf-a11f-5d45dfc62b96",
   "metadata": {},
   "outputs": [],
   "source": [
    "# check kernel symmetry and positive definitiveness\n",
    "def check(matrix, tol=1e-10):\n",
    "    if not np.all(np.abs(matrix-matrix.T) < tol):\n",
    "        print(\"warning: kernel is not symmetric\")\n",
    "    if not np.all(np.linalg.eigvals(matrix) >= -tol):\n",
    "        print(\"warning: kernel is not positive semi-definite\")"
   ]
  },
  {
   "cell_type": "markdown",
   "id": "32136c4b-d1b4-46fa-ab58-1981a01b1642",
   "metadata": {},
   "source": [
    "#### Analytical Solution for ReLU NTK"
   ]
  },
  {
   "cell_type": "code",
   "execution_count": 5,
   "id": "cf4c9a30-e79a-4126-a52e-2ecad82e95e8",
   "metadata": {},
   "outputs": [],
   "source": [
    "\"\"\"\n",
    "analytic solution: Equation (4)-(5) on page 3\n",
    "\n",
    "u = <x, x'> / ||x|| ||x'||\n",
    "\n",
    "k(u) = u k_0(u) + k_1(u)\n",
    "\n",
    "k_0 = 1/pi (pi - arccos(u))\n",
    "k_1 = 1/pi (u (pi - arccos(u)) + sqrt(1 - u^2))\n",
    "\n",
    "assuming x == x'\n",
    "\n",
    "norm = np.linalg.norm(x, axis=0) # (100,)\n",
    "norm_prod = np.outer(norm, norm) # (100, 100)\n",
    "but norms are all 1 in theory but their numerical values are unstable\n",
    "so we don't include norm_prod in the actual calculation\n",
    "\"\"\"\n",
    "\n",
    "def kappa(u):\n",
    "    pi = np.pi\n",
    "    k_0 = (1/pi) * (pi - np.arccos(u))\n",
    "    k_1 = (1/pi) * (u * (pi - np.arccos(u)) + np.sqrt(1 - u**2))\n",
    "    return u * k_0 + k_1\n",
    "\n",
    "def calc_NTK_analytical():\n",
    "    x = init_inputs() # (2, 100)\n",
    "\n",
    "    inner_prod = np.dot(x.T, x) # (100, 100)\n",
    "    inner_prod[inner_prod > 1.0] = 1.0 # numerical fix => values slightly > 1 will be capped\n",
    "\n",
    "    u = inner_prod\n",
    "    kernel = kappa(u)\n",
    "    check(kernel)\n",
    "    \n",
    "    return kernel"
   ]
  },
  {
   "cell_type": "markdown",
   "id": "5e17480b-860f-48fb-886d-bf479f22d092",
   "metadata": {},
   "source": [
    "#### Numerical Approximation for ReLU NTK"
   ]
  },
  {
   "cell_type": "code",
   "execution_count": 6,
   "id": "689bfa6a-cead-4f7a-a3f5-c1be2c1a2c7b",
   "metadata": {},
   "outputs": [],
   "source": [
    "def calc_NTK_numerical(activation='relu_k', k=1):\n",
    "    \"\"\"\n",
    "    numerical kernel calculation - vectorized version\n",
    "\n",
    "    https://papers.nips.cc/paper/2019/file/c4ef9c39b300931b69a36fb3dbb8d60e-Paper.pdf\n",
    "    equation (3) on page 3 and section 3.3 on page 7 \n",
    "\n",
    "    x, y are vectors\n",
    "    activation = ['relu_k', 'sin', 'cos']\n",
    "    d_activation is the derivative of activation function\n",
    "\n",
    "    k=1 means regular relu\n",
    "\n",
    "    K(x, x') = <x, x'> E[sig'(<w, x>)sig'(<w, x'>)] + E[sig(<w, x>)sig(<w, x'>)]\n",
    "    E {w ~ N(0, 1)}\n",
    "\n",
    "    \"\"\"\n",
    "    # init input\n",
    "    x = init_inputs() # (2, 100)\n",
    "    \n",
    "    num_inputs = x.shape[1]\n",
    "    # init kernel and weight\n",
    "    kernel = np.zeros((num_inputs, num_inputs))\n",
    "    num_samples = 40000\n",
    "    w1, w2 = np.random.normal(0.0, 1.0, size=[2, num_samples, 2]) # (1000, 2)\n",
    "\n",
    "    xx = np.dot(x.T, x) #(100, 100)\n",
    "    xx[xx > 1.0] = 1.0\n",
    "\n",
    "    w1x = np.dot(w1, x) # (num_samples, 100)\n",
    "    w2x = np.dot(w2, x) # (num_samples, 100)\n",
    "\n",
    "    if activation == 'relu_k':\n",
    "        activation_func = relu_k\n",
    "        d_activation = d_relu_k\n",
    "    elif activation == 'sin':\n",
    "        activation_func = sin\n",
    "        d_activation = cos\n",
    "    elif activation == 'cos':\n",
    "        activation_func = cos\n",
    "        d_activation = d_cos        \n",
    "\n",
    "    sigma_w1x = np.asarray(activation_func(w1x, k)) # (num_samples, 100)\n",
    "    sigma_w2x = np.asarray(d_activation(w2x, k))    # (num_samples, 100)\n",
    "\n",
    "    expection_1 = np.dot(sigma_w1x.T, sigma_w1x) / num_samples\n",
    "    expection_2 = np.dot(sigma_w2x.T, sigma_w2x) / num_samples\n",
    "\n",
    "    kernel = 2 * xx * expection_2 + 2 * expection_1\n",
    "   \n",
    "    check(kernel)\n",
    "    \n",
    "    return kernel"
   ]
  },
  {
   "cell_type": "markdown",
   "id": "7f049eec-ff1b-48c1-baaf-269959381d7a",
   "metadata": {},
   "source": [
    "#### Numerical Approximation to Laplace Kernel "
   ]
  },
  {
   "cell_type": "code",
   "execution_count": 7,
   "id": "4da690ad-5a03-48cf-a7f2-8185d06e95b7",
   "metadata": {},
   "outputs": [],
   "source": [
    "# calculate Laplace Kernel\n",
    "\n",
    "def laplace_kernel_entry(x, y, sigma):\n",
    "    \"\"\"\n",
    "    x are y in R^2\n",
    "\n",
    "    K(x, y) = exp(-||x - y||^a / sigma)\n",
    "    \n",
    "    TODO: define |x-y|^alpha\n",
    "    find alpha that matches slope of ReLU k decay for different k\n",
    "    \n",
    "    k=1 ----> alpha = 1\n",
    "    k=2 ----> alpha = ?\n",
    "    k=n ----> alpha = f(n)\n",
    "    \"\"\"\n",
    "    norm = np.linalg.norm(x - y)\n",
    "    return np.exp(-norm**alpha / sigma)\n",
    "\n",
    "# execute\n",
    "def calc_laplace_2d(alpha=1.0, sigma=1.0):\n",
    "    x = init_inputs()\n",
    "    num_inputs = x.shape[1]\n",
    "    # init kernel\n",
    "    kernel = np.zeros((num_inputs, num_inputs))\n",
    "\n",
    "    for i in range(num_inputs):\n",
    "        for j in range(num_inputs):\n",
    "            kernel[i][j] = laplace_kernel_entry(x[:, i], x[:, j], sigma)\n",
    "    \n",
    "    check(kernel)\n",
    "    \n",
    "    return kernel"
   ]
  },
  {
   "cell_type": "markdown",
   "id": "816476d3-e93d-45fb-a2a5-54757e4d0b89",
   "metadata": {},
   "source": [
    "#### Gaussian Kernel Entry-wise "
   ]
  },
  {
   "cell_type": "code",
   "execution_count": 12,
   "id": "7b4e9beb-d3d4-4a4f-b2a2-2cfb17aa4c97",
   "metadata": {},
   "outputs": [],
   "source": [
    "# calculate Laplace Kernel\n",
    "\n",
    "def gaussian_kernel_entry(x, y, sigma):\n",
    "    \"\"\"\n",
    "    x are y in R^2\n",
    "\n",
    "    K(x, y) = exp(-||x - y||^2 / 2*(sigma**2))\n",
    "\n",
    "    plot gaussian too and compare with sin/cos\n",
    "    \"\"\"\n",
    "    norm = np.linalg.norm(x - y)\n",
    "    return np.exp(-norm**2 / 2 * (sigma**2))\n",
    "\n",
    "# execute\n",
    "def calc_gaussian_2d(sigma=1.0):\n",
    "    x = init_inputs()\n",
    "    num_inputs = x.shape[1]\n",
    "    # init kernel\n",
    "    kernel = np.zeros((num_inputs, num_inputs))\n",
    "\n",
    "    for i in range(num_inputs):\n",
    "        for j in range(num_inputs):\n",
    "            kernel[i][j] = gaussian_kernel_entry(x[:, i], x[:, j], sigma)\n",
    "    \n",
    "    check(kernel)\n",
    "    \n",
    "    return kernel"
   ]
  },
  {
   "cell_type": "markdown",
   "id": "e5ab3e2b-e17a-43b1-bcc2-0d417bf09dec",
   "metadata": {},
   "source": [
    "#### Plot Functionality"
   ]
  },
  {
   "cell_type": "code",
   "execution_count": 8,
   "id": "1272127f-1876-47fd-9401-0fa4a1d451f0",
   "metadata": {},
   "outputs": [],
   "source": [
    "def plot_eigendecay(kernel, label):\n",
    "    # plot\n",
    "    eigenvalues = np.linalg.eigvals(kernel)\n",
    "    # sort in descending order\n",
    "    sorted_eigenvalues = np.sort(eigenvalues)[::-1]\n",
    "    plt.loglog(sorted_eigenvalues[:-1], label=label)\n",
    "    plt.legend()\n",
    "    \n",
    "def plot_eigendecay_trig(kernel, label):\n",
    "    # plot\n",
    "    eigenvalues = np.linalg.eigvals(kernel)\n",
    "    # sort in descending order\n",
    "    sorted_eigenvalues = np.sort(eigenvalues)[::-1]\n",
    "    plt.yscale('log')\n",
    "    plt.plot(np.arange(100), sorted_eigenvalues[:-100], label=label)\n",
    "    plt.legend()"
   ]
  },
  {
   "cell_type": "markdown",
   "id": "dbe7ffbd-2408-44fd-b167-1491e6c485ff",
   "metadata": {},
   "source": [
    "#### Plot ReLU Activated Kernel Eigenvalue Decays"
   ]
  },
  {
   "cell_type": "code",
   "execution_count": 9,
   "id": "41584a8a-7d43-49a2-80b7-b53456d86a26",
   "metadata": {},
   "outputs": [
    {
     "data": {
      "image/png": "[encoded data removed]",
      "text/plain": [
       "<Figure size 432x288 with 1 Axes>"
      ]
     },
     "metadata": {
      "needs_background": "light"
     },
     "output_type": "display_data"
    }
   ],
   "source": [
    "kernel_analytical = calc_NTK_analytical()\n",
    "kernel_k1 = calc_NTK_numerical(k=1)\n",
    "kernel_k2 = calc_NTK_numerical(k=2)\n",
    "kernel_k3 = calc_NTK_numerical(k=3)\n",
    "kernel_k4 = calc_NTK_numerical(k=4)\n",
    "\n",
    "plot_eigendecay(kernel_analytical, 'analytical')\n",
    "plot_eigendecay(kernel_k1, 'k=1')\n",
    "plot_eigendecay(kernel_k2, 'k=2')\n",
    "plot_eigendecay(kernel_k3, 'k=3')\n",
    "plot_eigendecay(kernel_k4, 'k=4')"
   ]
  },
  {
   "cell_type": "markdown",
   "id": "2efeb647-e05b-4032-9aa3-bd5a23598e62",
   "metadata": {},
   "source": [
    "#### Plot Sine/Cosine Activated Kernel Eigenvalue Decays"
   ]
  },
  {
   "cell_type": "code",
   "execution_count": 10,
   "id": "dc3b3442-b79e-4a83-99fc-fad265540f0e",
   "metadata": {},
   "outputs": [
    {
     "data": {
      "image/png": "[encoded data removed]",
      "text/plain": [
       "<Figure size 432x288 with 1 Axes>"
      ]
     },
     "metadata": {
      "needs_background": "light"
     },
     "output_type": "display_data"
    }
   ],
   "source": [
    "kernel_sin = calc_NTK_numerical('sin')\n",
    "kernel_cos = calc_NTK_numerical('cos')\n",
    "\n",
    "plot_eigendecay_trig(kernel_sin, 'sin')\n",
    "plot_eigendecay_trig(kernel_cos, 'cos')"
   ]
  },
  {
   "cell_type": "markdown",
   "id": "849d9472-f455-4661-bf74-737098f3f7df",
   "metadata": {},
   "source": [
    "#### Finding the Relationship Between alpha and k"
   ]
  },
  {
   "cell_type": "code",
   "execution_count": null,
   "id": "c40f6323-d0b1-4242-8aa9-a041c2ba8b44",
   "metadata": {},
   "outputs": [],
   "source": []
  },
  {
   "cell_type": "markdown",
   "id": "71338511-0850-403d-b97b-9d2a4f88ad90",
   "metadata": {},
   "source": [
    "#### Plot Comparison:\n",
    "Laplace <-> ReLU and Gaussian <-> Trig "
   ]
  },
  {
   "cell_type": "code",
   "execution_count": 17,
   "id": "4f566fe8-16c8-4495-9f93-16f82ce56a4b",
   "metadata": {},
   "outputs": [
    {
     "data": {
      "image/png": "[encoded data removed]",
      "text/plain": [
       "<Figure size 432x288 with 1 Axes>"
      ]
     },
     "metadata": {
      "needs_background": "light"
     },
     "output_type": "display_data"
    }
   ],
   "source": [
    "kernel_laplace = calc_laplace_2d()\n",
    "kernel_gaussian = calc_gaussian_2d()\n",
    "\n",
    "plot_eigendecay(kernel_analytical, 'ReLU')\n",
    "plot_eigendecay(kernel_laplace, 'Laplace')\n",
    "plot_eigendecay(kernel_gaussian, 'Gaussian')\n",
    "plot_eigendecay_trig(kernel_sin, 'Sine')"
   ]
  },
  {
   "cell_type": "code",
   "execution_count": null,
   "id": "1248bf5b-d870-47c7-a704-7dec13faa1f3",
   "metadata": {},
   "outputs": [],
   "source": []
  }
 ],
 "metadata": {
  "kernelspec": {
   "display_name": "Python 3",
   "language": "python",
   "name": "python3"
  },
  "language_info": {
   "codemirror_mode": {
    "name": "ipython",
    "version": 3
   },
   "file_extension": ".py",
   "mimetype": "text/x-python",
   "name": "python",
   "nbconvert_exporter": "python",
   "pygments_lexer": "ipython3",
   "version": "3.8.8"
  }
 },
 "nbformat": 4,
 "nbformat_minor": 5
}
