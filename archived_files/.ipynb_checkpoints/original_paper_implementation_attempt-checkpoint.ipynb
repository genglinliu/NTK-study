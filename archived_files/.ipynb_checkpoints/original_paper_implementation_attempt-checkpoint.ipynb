{
 "cells": [
  {
   "cell_type": "markdown",
   "id": "51d6cfbf-a61a-4fd9-a73d-492c0b43dd3b",
   "metadata": {
    "tags": []
   },
   "source": [
    "## Legacy Code from https://arxiv.org/pdf/1806.07572.pdf section 4.1 page 5"
   ]
  },
  {
   "cell_type": "code",
   "execution_count": 1,
   "id": "5cd8e4cc-5537-4b66-9b37-f20a1e6a1def",
   "metadata": {},
   "outputs": [],
   "source": [
    "import numpy as np\n",
    "import matplotlib.pyplot as plt"
   ]
  },
  {
   "cell_type": "code",
   "execution_count": 2,
   "id": "8e7f4c76-71d3-44ba-81e8-98fa4e16807a",
   "metadata": {
    "tags": []
   },
   "outputs": [],
   "source": [
    "\"\"\"\n",
    "1d input x_i and x_j, alias to x and x' in the paper\n",
    "for 2d input we should use np.meshgrid or np.mgrid\n",
    "\"\"\"\n",
    "\n",
    "num_input = 100\n",
    "\n",
    "x_i = np.linspace(0.0, 1.0, num=num_input)\n",
    "x_j = np.linspace(0.0, 1.0, num=num_input)\n",
    "# x = np.random.uniform(size=num_input)\n",
    "\n",
    "# take outer product of x_i and x_j to get 100 x 100 matrix\n",
    "# in the paper sigma was defined entry-wise, but we want to compute the matrix at once\n",
    "n_0 = 1\n",
    "beta = 0.01\n",
    "\n",
    "def calc_sigma_1(x_i, x_j):\n",
    "    return np.outer(x_i, x_j) / n_0 + beta**2"
   ]
  },
  {
   "cell_type": "code",
   "execution_count": 3,
   "id": "84deb069-acd6-449a-a812-f4892abf6ad0",
   "metadata": {
    "tags": []
   },
   "outputs": [],
   "source": [
    "\"\"\"\n",
    "f(x_i) and f(x_j) follow N(0, cov) where cov is a contatenation of 4 smaller matrices\n",
    "\"\"\"\n",
    "cov_ii = calc_sigma_1(x_i, x_i)\n",
    "cov_ij = calc_sigma_1(x_i, x_j)\n",
    "cov_ji = calc_sigma_1(x_j, x_i)\n",
    "cov_jj = calc_sigma_1(x_j, x_j)\n",
    "\n",
    "# concatenate the 4 sigmas\n",
    "v1 = np.vstack((cov_ii, cov_ji))\n",
    "v2 = np.vstack((cov_ij, cov_jj))\n",
    "\n",
    "cov = np.hstack((v1, v2))"
   ]
  },
  {
   "cell_type": "code",
   "execution_count": 4,
   "id": "aaac0ad8-2001-4da4-b9a0-441254a62fab",
   "metadata": {
    "tags": []
   },
   "outputs": [],
   "source": [
    "\n",
    "\n",
    "\"\"\"\n",
    "activation functions and their derivatives\n",
    "\"\"\"\n",
    "\n",
    "def relu_kth(x, k):\n",
    "    return np.maximum(x**k, 0)\n",
    "\n",
    "def relu(x):\n",
    "    return np.maximum(x, 0)\n",
    "\n",
    "def d_relu(x):\n",
    "    return 1.0 * (x > 0)\n",
    "\n",
    "def d_relu_kth(x, k):\n",
    "    return k * x**(k-1) * (x > 0)\n",
    "\n",
    "# def is_pos_def(x):\n",
    "#     return np.all(np.linalg.eigvals(x) > 0)"
   ]
  },
  {
   "cell_type": "code",
   "execution_count": 5,
   "id": "b870448c-89d1-4f6a-ad08-ec852c91acb8",
   "metadata": {
    "tags": []
   },
   "outputs": [],
   "source": [
    "\"\"\"\n",
    "gaol: approximate expectation using a finite sum and take the mean\n",
    "now sample Y_i, Y_j from this distribution N(0, cov)\n",
    "sample and compute outer product first, then take mean\n",
    "\"\"\"\n",
    "def calc_sigma_2(activation):\n",
    "    mean = [0] * 2 * num_input\n",
    "    num_samples = 1000\n",
    "    sum_N = np.zeros((num_input, num_input))\n",
    "    for i in range(num_samples):\n",
    "        sample = np.random.multivariate_normal(mean, cov, size=1)[0]\n",
    "        f_xi = sample[:num_input]\n",
    "        prod = np.outer(activation(f_xi), activation(f_xi))\n",
    "        sum_N += np.outer(activation(f_xi), activation(f_xi))\n",
    "\n",
    "    sigma_2 = (sum_N / num_samples) + beta**2\n",
    "    \n",
    "    return sigma_2"
   ]
  },
  {
   "cell_type": "code",
   "execution_count": 6,
   "id": "c97228ae-ae3c-41d2-b1e9-000907dd767c",
   "metadata": {
    "tags": []
   },
   "outputs": [
    {
     "data": {
      "text/plain": [
       "[<matplotlib.lines.Line2D at 0x2317d397670>]"
      ]
     },
     "execution_count": 6,
     "metadata": {},
     "output_type": "execute_result"
    },
    {
     "data": {
      "image/png": "[encoded data removed]",
      "text/plain": [
       "<Figure size 432x288 with 1 Axes>"
      ]
     },
     "metadata": {
      "needs_background": "light"
     },
     "output_type": "display_data"
    }
   ],
   "source": [
    "\"\"\"\n",
    "Compute Theta 1 and 2 using Sigma\n",
    "\"\"\"\n",
    "\n",
    "THETA_1 = calc_sigma_1(x_i, x_j)\n",
    "\n",
    "sigma_2 = calc_sigma_2(relu)\n",
    "sigma_2_prime = calc_sigma_2(d_relu)\n",
    "\n",
    "THETA_2 = np.multiply(THETA_1, sigma_2_prime) + sigma_2\n",
    "\n",
    "eigenvalues = np.linalg.eigvals(THETA_2)\n",
    "plt.loglog(eigenvalues[1:])"
   ]
  }
 ],
 "metadata": {
  "kernelspec": {
   "display_name": "Python 3",
   "language": "python",
   "name": "python3"
  },
  "language_info": {
   "codemirror_mode": {
    "name": "ipython",
    "version": 3
   },
   "file_extension": ".py",
   "mimetype": "text/x-python",
   "name": "python",
   "nbconvert_exporter": "python",
   "pygments_lexer": "ipython3",
   "version": "3.8.8"
  }
 },
 "nbformat": 4,
 "nbformat_minor": 5
}
