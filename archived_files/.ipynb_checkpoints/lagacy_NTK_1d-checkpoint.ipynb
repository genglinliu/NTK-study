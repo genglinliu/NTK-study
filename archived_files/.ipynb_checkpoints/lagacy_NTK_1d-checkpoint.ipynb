{
 "cells": [
  {
   "cell_type": "code",
   "execution_count": 1,
   "id": "8a851c99-1422-434f-b01a-1512b12c80b2",
   "metadata": {},
   "outputs": [],
   "source": [
    "import numpy as np\n",
    "import matplotlib.pyplot as plt"
   ]
  },
  {
   "cell_type": "code",
   "execution_count": 2,
   "id": "ef9696f2-b0fa-4416-87c1-9e4a92fc19e6",
   "metadata": {},
   "outputs": [],
   "source": [
    "\"\"\"\n",
    "activation functions and their derivatives\n",
    "\"\"\"\n",
    "\n",
    "def relu_kth(x, k):\n",
    "    return np.maximum(x**k, 0)\n",
    "\n",
    "def relu(x):\n",
    "    return np.maximum(x, 0)\n",
    "\n",
    "def d_relu(x):\n",
    "    return 1.0 * (x > 0)\n",
    "\n",
    "def d_relu_kth(x, k):\n",
    "    return k * x**(k-1) * (x > 0)\n",
    "\n",
    "# display(relu(f_xi))\n",
    "# display(d_relu(f_xi))"
   ]
  },
  {
   "cell_type": "code",
   "execution_count": 3,
   "id": "724c8c5f-90eb-44cb-be52-d7a652148b0c",
   "metadata": {},
   "outputs": [],
   "source": [
    "\"\"\"\n",
    "Numerical approach at\n",
    "https://papers.nips.cc/paper/2019/file/c4ef9c39b300931b69a36fb3dbb8d60e-Paper.pdf\n",
    "equation (3) on page 3 and section 3.3 on page 7 \n",
    "\"\"\"\n",
    "\n",
    "# K(x, x') = <x, x'> E[sig'(<w, x>)sig'(<w, x'>)] + E[sig(<w, x>)sig(<w, x'>)]\n",
    "# E {w ~ N(0, 1)}\n",
    "\n",
    "def numerical_kernel_entry(x, y, num_samples=1000):\n",
    "\n",
    "    w1, w2 = np.random.normal(0.0, 1.0, size=[2, num_samples])\n",
    "\n",
    "    w1x = w1 * x\n",
    "    w1y = w1 * y\n",
    "    sigma_w1x = relu(w1x)\n",
    "    sigma_w1y = relu(w1y)\n",
    "\n",
    "    w2x = w2 * x\n",
    "    w2y = w2 * y\n",
    "    sigma_w2x = d_relu(w2x)\n",
    "    sigma_w2y = d_relu(w2y)\n",
    "\n",
    "    expection_1 = sigma_w1x.dot(sigma_w1y) / num_samples\n",
    "    expection_2 = sigma_w2x.dot(sigma_w2y) / num_samples\n",
    "    \n",
    "    return (x * y) * expection_1 + expection_2"
   ]
  },
  {
   "cell_type": "code",
   "execution_count": 8,
   "id": "74b35f64-abee-4dec-a8ec-46a357d05aaf",
   "metadata": {},
   "outputs": [],
   "source": [
    "\"\"\"\n",
    "analytic solution: Equation (4)-(5) on page 3\n",
    "\n",
    "u = <x, x'> / ||x|| ||x'||\n",
    "\n",
    "k(u) = u k_0(u) + k_1(u)\n",
    "\n",
    "k_0 = 1/pi (pi - arccos(u))\n",
    "k_1 = 1/pi (u (pi - arccos(u)) + sqrt(1 - u^2))\n",
    "\n",
    "assuming x == x'\n",
    "\"\"\"\n",
    "\n",
    "def kappa(u):\n",
    "    pi = np.pi\n",
    "    k_0 = (1/pi) * (pi - np.arccos(u))\n",
    "    k_1 = (1/pi) * (u * (pi - np.arccos(u)) + np.sqrt(1 - u**2))\n",
    "    return u * k_0 + k_1\n",
    "\n",
    "def analytic_kernel_entry(x, y): # x, y vector\n",
    "    # don't need norm_prod because x y are both unit vector, norm=1\n",
    "    norm_prod = np.linalg.norm(x) * np.linalg.norm(y)\n",
    "    # for 1d input on line, it's just x * y\n",
    "    inner_prod = x * y\n",
    "    # for numeircal stability: if not -1 < u < 1, arccos(u) is undefined\n",
    "    if (inner_prod > 1.0):\n",
    "        inner_prod = 1.0\n",
    "    if (inner_prod < -1.0):\n",
    "        inner_prod = -1.0\n",
    "    u = inner_prod\n",
    "    \n",
    "    return kappa(u)"
   ]
  },
  {
   "cell_type": "code",
   "execution_count": 9,
   "id": "f7f26887-6c7d-43e7-93be-9c5c982af8f8",
   "metadata": {},
   "outputs": [],
   "source": [
    "# lagacy code for 1d input\n",
    "def calc_NTK_1d(kernel_entry_func):\n",
    "    num_inputs = 100\n",
    "    x = np.linspace(-1.0, 1.0, num=num_inputs)\n",
    "\n",
    "    # make kernel\n",
    "    kernel = np.zeros((num_inputs, num_inputs))\n",
    "\n",
    "    for i in range(num_inputs):\n",
    "        for j in range(num_inputs):\n",
    "            kernel[i][j] = kernel_entry_func(x[i], x[j])\n",
    "    \n",
    "    # sort eigenvalues in descending order\n",
    "    eigenvalues = np.linalg.eigvals(kernel)\n",
    "    sorted_eigenvalues = np.sort(np.linalg.eigvals(kernel))[::-1] \n",
    "    plt.plot(sorted_eigenvalues)"
   ]
  },
  {
   "cell_type": "code",
   "execution_count": 10,
   "id": "18304c55-7732-40cd-97d8-42d4c1005fa7",
   "metadata": {},
   "outputs": [
    {
     "name": "stderr",
     "output_type": "stream",
     "text": [
      "C:\\Users\\genglinliu\\anaconda3\\lib\\site-packages\\numpy\\core\\_asarray.py:102: ComplexWarning: Casting complex values to real discards the imaginary part\n",
      "  return array(a, dtype, copy=False, order=order)\n"
     ]
    },
    {
     "data": {
      "image/png": "[encoded data removed]",
      "text/plain": [
       "<Figure size 432x288 with 1 Axes>"
      ]
     },
     "metadata": {
      "needs_background": "light"
     },
     "output_type": "display_data"
    }
   ],
   "source": [
    "calc_NTK_1d(numerical_kernel_entry)"
   ]
  },
  {
   "cell_type": "code",
   "execution_count": 11,
   "id": "91395619-a8af-4864-a0f4-30933886f709",
   "metadata": {},
   "outputs": [
    {
     "name": "stderr",
     "output_type": "stream",
     "text": [
      "C:\\Users\\genglinliu\\anaconda3\\lib\\site-packages\\numpy\\core\\_asarray.py:102: ComplexWarning: Casting complex values to real discards the imaginary part\n",
      "  return array(a, dtype, copy=False, order=order)\n"
     ]
    },
    {
     "data": {
      "image/png": "[encoded data removed]",
      "text/plain": [
       "<Figure size 432x288 with 1 Axes>"
      ]
     },
     "metadata": {
      "needs_background": "light"
     },
     "output_type": "display_data"
    }
   ],
   "source": [
    "calc_NTK_1d(analytic_kernel_entry)"
   ]
  },
  {
   "cell_type": "code",
   "execution_count": null,
   "id": "ac20ce2b-6ded-49ab-89a1-4746c571c29a",
   "metadata": {},
   "outputs": [],
   "source": []
  }
 ],
 "metadata": {
  "kernelspec": {
   "display_name": "Python 3",
   "language": "python",
   "name": "python3"
  },
  "language_info": {
   "codemirror_mode": {
    "name": "ipython",
    "version": 3
   },
   "file_extension": ".py",
   "mimetype": "text/x-python",
   "name": "python",
   "nbconvert_exporter": "python",
   "pygments_lexer": "ipython3",
   "version": "3.8.8"
  }
 },
 "nbformat": 4,
 "nbformat_minor": 5
}
