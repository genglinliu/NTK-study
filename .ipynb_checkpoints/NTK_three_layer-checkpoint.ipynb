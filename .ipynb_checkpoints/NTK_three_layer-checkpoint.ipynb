{
 "cells": [
  {
   "cell_type": "markdown",
   "id": "dbedd234-f914-4a44-a1b2-c437dd8128fb",
   "metadata": {},
   "source": [
    "### Three-Layer NTK\n",
    "\n",
    "#### [NTK paper](https://papers.nips.cc/paper/2019/file/c4ef9c39b300931b69a36fb3dbb8d60e-Paper.pdf)\n",
    "\n",
    "#### [REU overleaf doc](https://www.overleaf.com/project/606a0e1c8d7e5e3b95b62e9a)\n",
    "\n",
    "#### [GitHub Repo for this project](https://github.com/genglinliu/NTK-study)"
   ]
  },
  {
   "cell_type": "code",
   "execution_count": 1,
   "id": "5e8c95c0-f769-4af8-a7eb-7333b5cdf811",
   "metadata": {},
   "outputs": [],
   "source": [
    "import numpy as np\n",
    "import matplotlib.pyplot as plt\n",
    "\n",
    "from tqdm import tqdm\n",
    "\n",
    "import warnings\n",
    "warnings.filterwarnings('ignore')"
   ]
  },
  {
   "cell_type": "code",
   "execution_count": 2,
   "id": "df01bbb3-9540-44c7-b898-fd613e52377a",
   "metadata": {},
   "outputs": [],
   "source": [
    "\"\"\"\n",
    "activation functions and their derivatives\n",
    "\"\"\"\n",
    "\n",
    "def relu_k(x, k):\n",
    "    return np.maximum(x**k, 0)\n",
    "\n",
    "def d_relu_k(x, k):\n",
    "    return k * x**(k-1) * (x > 0)\n",
    "\n",
    "def relu(x):\n",
    "    return np.maximum(x, 0)\n",
    "\n",
    "def d_relu(x):\n",
    "    return 1.0 * (x > 0)\n",
    "\n",
    "def sin(x, k=None):\n",
    "    return np.sin(x)\n",
    "\n",
    "def cos(x, k=None):\n",
    "    return np.cos(x)\n",
    "\n",
    "def d_cos(x, k=None):\n",
    "    return -np.sin(x)"
   ]
  },
  {
   "cell_type": "code",
   "execution_count": 3,
   "id": "c851e028-482c-4ae3-abb0-cad9ebb7cd04",
   "metadata": {},
   "outputs": [],
   "source": [
    "def init_inputs(num_inputs=100):\n",
    "    # sin(theta) and cos(theta), theta ~ (0, 2*pi) uniformly sampled\n",
    "    # take 100 points on the unit circle\n",
    "    theta = np.linspace(0.0, 2 * np.pi, num=num_inputs)\n",
    "    x = np.asarray((np.cos(theta), np.sin(theta))) # (2, 100)\n",
    "    return x"
   ]
  },
  {
   "cell_type": "code",
   "execution_count": 135,
   "id": "d4656f7c-ca55-48d1-9a17-081fd7d57fb4",
   "metadata": {},
   "outputs": [],
   "source": [
    "# check kernel symmetry and positive definitiveness\n",
    "def check(matrix, tol=1e-7):\n",
    "    if not np.all(np.abs(matrix-matrix.T) < tol):\n",
    "        print(\"warning: kernel is not symmetric\")\n",
    "    if not np.all(np.linalg.eigvals(matrix) >= -tol):\n",
    "        print(\"warning: kernel is not positive semi-definite\")"
   ]
  },
  {
   "cell_type": "markdown",
   "id": "354d347a-d849-4e48-a72f-de2561c31958",
   "metadata": {},
   "source": [
    "#### Enrty-wise Computation - following the formulas on the Paper"
   ]
  },
  {
   "cell_type": "code",
   "execution_count": 58,
   "id": "f498dbf2-87fc-4247-90e6-6f8004c72f7d",
   "metadata": {},
   "outputs": [],
   "source": [
    "\"\"\"\n",
    "see page 3-4 of the paper\n",
    "\n",
    "STEP 0\n",
    "    x and x' are 2-dimensional points of shape (2,)\n",
    "    K_0(x, x') = sigma_0(x, x') = <x, x'> = (x^T).dot(x')\n",
    "\n",
    "STEP 1a\n",
    "    B_1 = [sigma_0(x, x),  sigma_0(x, x'),\n",
    "           sigma_0(x, x'), sigma_0(x', x')]\n",
    "           \n",
    "STEP 1b\n",
    "    sigma_1(x, x') = 2 E(u, v)~N(0, B_1) [activation(u) activation(v)]\n",
    "    sigma_1'(x, x') = 2 E(u, v)~N(0, B_1) [activation'(u) activation'(v)]\n",
    "\n",
    "STEP 1c\n",
    "    K_1(x, x') = sigma_1(x, x') + K_0(x, x') sigma_1'(x, x')\n",
    "\n",
    "\"\"\"\n",
    "#------------\n",
    "# step 0\n",
    "#------------   \n",
    "def K_0(x, y):\n",
    "    return np.dot(x.T, y)\n",
    "\n",
    "def sigma_0(x, y):\n",
    "    return np.dot(x.T, y)\n",
    "\n",
    "#------------\n",
    "# step 1a\n",
    "#------------\n",
    "def B_1(x, y):\n",
    "    v1 = np.vstack((sigma_0(x, x), sigma_0(x, y)))\n",
    "    v2 = np.vstack((sigma_0(x, y), sigma_0(y, y)))\n",
    "\n",
    "    return np.hstack((v1, v2))\n",
    "\n",
    "#------------\n",
    "# step 1b\n",
    "#------------\n",
    "def sigma_1_and_prime(x, y, activation, k):\n",
    "    \n",
    "    activation_map = {\n",
    "        'relu_k': [relu_k, d_relu_k],\n",
    "        'sin': [sin, cos],\n",
    "        'cos': [cos, d_cos]\n",
    "    }\n",
    "        \n",
    "#     mean = np.zeros(x.shape[0])\n",
    "#     cov = B_1(x, y)\n",
    "#     num_samples = 1000\n",
    "#     # generate 1000 pairs of (u, v), apply activation array-wise then take average\n",
    "#     sample_1 = np.random.multivariate_normal(mean, cov, num_samples) # (num_samples, 2)\n",
    "#     u1, v1 = sample_1[:, 0], sample_1[:, 1] # (num_samples,)\n",
    "    \n",
    "#     sample_2 = np.random.multivariate_normal(mean, cov, num_samples) # (num_samples, 2)\n",
    "#     u2, v2 = sample_2[:, 0], sample_2[:, 1] # (num_samples,)\n",
    "    \n",
    "    activation_func, d_activation = activation_map[activation]\n",
    "    expectation_1 = np.mean(activation_func(u1, k) * activation_func(v1, k))\n",
    "    expectation_2 = np.mean(d_activation(u2, k) * d_activation(v2, k))\n",
    "\n",
    "    sigma_1 = 2 * expectation_1\n",
    "    sigma_1_prime = 2 * expectation_2\n",
    "    \n",
    "    return sigma_1, sigma_1_prime\n",
    "\n",
    "#------------\n",
    "# step 1c\n",
    "#------------\n",
    "def K_1(x, y, activation, k=1):\n",
    "    sigma_1, sigma_1_prime = sigma_1_and_prime(x, y, activation, k)\n",
    "    return sigma_1 + K_0(x, y) * sigma_1_prime\n",
    "\n"
   ]
  },
  {
   "cell_type": "code",
   "execution_count": 59,
   "id": "d5ade26e-4d14-4e91-8ace-6a611b26a407",
   "metadata": {},
   "outputs": [],
   "source": [
    "\"\"\"\n",
    "STEP 2a\n",
    "    B_2 = [sigma_1(x, x),  sigma_1(x, x'),\n",
    "           sigma_1(x, x'), sigma_1(x', x')]\n",
    "           \n",
    "STEP 2b\n",
    "    sigma_2(x, x') = 2 E(u, v)~N(0, B_2) [activation(u) activation(v)]\n",
    "    sigma_2'(x, x') = 2 E(u, v)~N(0, B_2) [activation'(u) activation'(v)]\n",
    "\n",
    "STEP 2c\n",
    "    K_2(x, x') = sigma_2(x, x') + K_1(x, x') sigma_2'(x, x')\n",
    "\n",
    "\"\"\"\n",
    "\n",
    "#------------\n",
    "# step 2a\n",
    "#------------\n",
    "def B_2(x, y, activation_h1, k):\n",
    "    sigma_1_xx, _ = sigma_1_and_prime(x, x, activation_h1, k)\n",
    "    sigma_1_xy, _ = sigma_1_and_prime(x, y, activation_h1, k)\n",
    "    sigma_1_yy, _ = sigma_1_and_prime(y, y, activation_h1, k)\n",
    "    \n",
    "    v1 = np.vstack((sigma_1_xx, sigma_1_xy))\n",
    "    v2 = np.vstack((sigma_1_xy, sigma_1_yy))\n",
    "\n",
    "    return np.hstack((v1, v2))\n",
    "\n",
    "\n",
    "#------------\n",
    "# step 2b\n",
    "#------------\n",
    "def sigma_2_and_prime(x, y, activation_h2, k):\n",
    "    \n",
    "    activation_map = {\n",
    "        'relu_k': [relu_k, d_relu_k],\n",
    "        'sin': [sin, cos],\n",
    "        'cos': [cos, d_cos]\n",
    "    }\n",
    "        \n",
    "    mean = np.zeros(x.shape[0])\n",
    "    cov = B_2(x, y)\n",
    "    num_samples = 1000\n",
    "    # generate 1000 pairs of (u, v), apply activation array-wise then take average\n",
    "    sample_1 = np.random.multivariate_normal(mean, cov, num_samples) # (num_samples, 2)\n",
    "    u1, v1 = sample_1[:, 0], sample_1[:, 1] # (num_samples,)\n",
    "    \n",
    "    sample_2 = np.random.multivariate_normal(mean, cov, num_samples) # (num_samples, 2)\n",
    "    u2, v2 = sample_2[:, 0], sample_2[:, 1] # (num_samples,)\n",
    "    \n",
    "    activation_func, d_activation = activation_map[activation_h2]\n",
    "    expectation_1 = np.mean(activation_func(u1, k) * activation_func(v1, k))\n",
    "    expectation_2 = np.mean(d_activation(u2, k) * d_activation(v2, k))\n",
    "\n",
    "    sigma_2 = 2 * expectation_1\n",
    "    sigma_2_prime = 2 * expectation_2\n",
    "    \n",
    "    return sigma_2, sigma_2_prime\n",
    "\n",
    "#------------\n",
    "# step 2c\n",
    "#------------\n",
    "def K_2(x, y, activation_h1, activation_h2, k=1):\n",
    "    sigma_2, sigma_2_prime = sigma_1_and_prime(x, y, activation_h2, k)\n",
    "    return sigma_2 + K_1(x, y, activation=activation_h1) * sigma_2_prime\n"
   ]
  },
  {
   "cell_type": "markdown",
   "id": "b67320df-db22-49e0-b16d-51ff0c810ab4",
   "metadata": {},
   "source": [
    "#### Calculate the NTK - Build the Matrices one by one"
   ]
  },
  {
   "cell_type": "code",
   "execution_count": 130,
   "id": "f840b238-fccc-4081-9cea-876f24ba7c67",
   "metadata": {},
   "outputs": [],
   "source": [
    "# step 0: \n",
    "# init input\n",
    "X = init_inputs() # (2, 100)\n",
    "num_inputs = X.shape[1]\n",
    "\n",
    "K_0 = np.dot(X.T, X) # (100, 100)\n",
    "\n",
    "# quick entry-wise check\n",
    "# temp_K = np.zeros((num_inputs, num_inputs))\n",
    "\n",
    "# for i in range(num_inputs):\n",
    "#     for j in range(num_inputs):\n",
    "#         x = X[:, i]\n",
    "#         y = X[:, j]\n",
    "#         temp_K[i][j] = np.dot(x, y)\n",
    "\n",
    "# np.all(K_0 - temp_K < 0.01) # true"
   ]
  },
  {
   "cell_type": "code",
   "execution_count": 131,
   "id": "d9e24370-edfd-4478-80c8-2d7ac3c0dc6e",
   "metadata": {},
   "outputs": [
    {
     "data": {
      "text/plain": [
       "(200, 200)"
      ]
     },
     "execution_count": 131,
     "metadata": {},
     "output_type": "execute_result"
    }
   ],
   "source": [
    "# step 1a: calculate B1\n",
    "\n",
    "# # first calculate B_1 and then we sample\n",
    "# B1 = np.zeros((2*num_inputs, 2*num_inputs))\n",
    "\n",
    "# # initialize sigma_0(x, x), (x, y) and (y, y)\n",
    "# s0_xx = np.zeros((num_inputs, num_inputs))\n",
    "# s0_xy = np.zeros((num_inputs, num_inputs))\n",
    "# s0_yy = np.zeros((num_inputs, num_inputs))\n",
    "    \n",
    "# for i in range(num_inputs):\n",
    "#     for j in range(num_inputs):\n",
    "#         x = X[:, i]\n",
    "#         y = X[:, j]\n",
    "        \n",
    "#         s0_xx[i][j] = sigma_0(x, x)\n",
    "#         s0_xy[i][j] = sigma_0(x, y)\n",
    "#         s0_yy[i][j] = sigma_0(y, y)\n",
    "\n",
    "# # concatenate to build B1\n",
    "# v1 = np.vstack((s0_xx, s0_xy))\n",
    "# v2 = np.vstack((s0_xy, s0_yy))\n",
    "\n",
    "# B1 = np.hstack((v1, v2))\n",
    "# check(B1)\n",
    "# B1.shape\n",
    "\n",
    "sigma_0 = np.dot(X.T, X)\n",
    "\n",
    "# step 1a: because x == x', all the sigma_0's are the same\n",
    "# B_1 is a concatenation of 4 of them\n",
    "v1 = np.vstack((sigma_0, sigma_0))\n",
    "v2 = np.vstack((sigma_0, sigma_0))\n",
    "\n",
    "B_1 = np.hstack((v1, v2))\n",
    "\n",
    "B_1.shape"
   ]
  },
  {
   "cell_type": "code",
   "execution_count": 132,
   "id": "3f1a9105-79f4-4686-9aa7-1f27953808cb",
   "metadata": {},
   "outputs": [],
   "source": [
    "# step 1b: sigma_1\n",
    "\n",
    "# activation function setup\n",
    "activation_h1 = 'relu_k'\n",
    "k = 1\n",
    "\n",
    "activation_map = {\n",
    "    'relu_k': [relu_k, d_relu_k],\n",
    "    'sin': [sin, cos],\n",
    "    'cos': [cos, d_cos]\n",
    "}\n",
    "\n",
    "activation_func, d_activation = activation_map[activation_h1]\n",
    "\n",
    "num_samples = 1000\n",
    "\n",
    "mean = np.zeros(2 * num_inputs)\n",
    "cov = B_1\n",
    "# generate 1000 pairs of (u, v), apply activation array-wise then take average\n",
    "sample_1, sample_2 = np.random.multivariate_normal(mean, cov, (2, num_samples)) # each (num_samples, 2*num_inputs)\n",
    "u1, v1 = sample_1[:, :num_inputs], sample_1[:, num_inputs:] # (num_samples, num_inputs)\n",
    "u2, v2 = sample_2[:, :num_inputs], sample_2[:, num_inputs:] # (1000, 100)\n",
    "\n",
    "expectation_1 = np.dot(activation_func(u1, k).T, activation_func(v1, k)) / num_samples\n",
    "expectation_2 = np.dot(d_activation(u2, k).T, d_activation(v2, k)) / num_samples\n",
    "\n",
    "sigma_1 = 2 * expectation_1\n",
    "sigma_1_prime = 2 * expectation_2"
   ]
  },
  {
   "cell_type": "code",
   "execution_count": 136,
   "id": "d083561d-7eb0-46bc-99e3-0697f60ae2f7",
   "metadata": {},
   "outputs": [],
   "source": [
    "# step 1c: K1\n",
    "K1 = sigma_1 + K_0 * sigma_1_prime\n",
    "\n",
    "check(K1)"
   ]
  },
  {
   "cell_type": "code",
   "execution_count": 137,
   "id": "0557593f-937d-4982-8d60-f00fede52420",
   "metadata": {},
   "outputs": [
    {
     "data": {
      "image/png": "[encoded data removed]",
      "text/plain": [
       "<Figure size 432x288 with 1 Axes>"
      ]
     },
     "metadata": {
      "needs_background": "light"
     },
     "output_type": "display_data"
    }
   ],
   "source": [
    "plot_eigendecay(K1, 'k1')"
   ]
  },
  {
   "cell_type": "code",
   "execution_count": null,
   "id": "19102924-6207-40d3-8486-4522f25c5b68",
   "metadata": {},
   "outputs": [],
   "source": [
    "# 2a: B2"
   ]
  },
  {
   "cell_type": "code",
   "execution_count": 53,
   "id": "23b7b0df-9023-44df-a2cf-ec887cd6c3ba",
   "metadata": {},
   "outputs": [],
   "source": [
    "# execute\n",
    "\"\"\"\n",
    "experiment:\n",
    "1. first hidden layer: smooth (sin/cos), second: non-smooth (ReLU^k)\n",
    "2. reverse the order of activation\n",
    "\"\"\"    \n",
    "def calc_NTK(activation_h1='relu_k', activation_h2='sin', k=1):   \n",
    "\n",
    "    # init input\n",
    "    x = init_inputs() # (2, 100)\n",
    "    num_inputs = x.shape[1]\n",
    "    \n",
    "    # first calculate B_k and then we sample\n",
    "    B1 = np.zeros((2*num_inputs, 2*num_inputs))\n",
    "    B2 = np.zeros((2*num_inputs, 2*num_inputs))\n",
    "    \n",
    "\n",
    "    # initialize kernel \n",
    "    kernel = np.zeros((num_inputs, num_inputs))\n",
    "    \n",
    "    for i in range(num_inputs):\n",
    "        for j in range(num_inputs):\n",
    "            kernel[i][j] = K_2(x[:, i], x[:, j], activation_h1, activation_h2, k)\n",
    "    \n",
    "    check(kernel)\n",
    "    \n",
    "    return kernel"
   ]
  },
  {
   "cell_type": "code",
   "execution_count": 54,
   "id": "7a91e6d7-3436-40b7-afc5-667bda9ed4a0",
   "metadata": {},
   "outputs": [],
   "source": [
    "def plot_eigendecay(kernel, label):\n",
    "    # plot\n",
    "    eigenvalues = np.linalg.eigvals(kernel)\n",
    "    # sort in descending order\n",
    "    sorted_eigenvalues = np.sort(eigenvalues)[::-1]\n",
    "    plt.loglog(sorted_eigenvalues[:-1], label=label)\n",
    "    plt.legend(loc='center left', bbox_to_anchor=(1, 0.5))\n",
    "    \n",
    "def plot_eigendecay_trig(kernel, label):\n",
    "    # plot\n",
    "    eigenvalues = np.linalg.eigvals(kernel)\n",
    "    # sort in descending order\n",
    "    sorted_eigenvalues = np.sort(eigenvalues)[::-1]\n",
    "    plt.yscale('log')\n",
    "    plt.plot(sorted_eigenvalues[:-100], label=label)\n",
    "    plt.legend(loc='center left', bbox_to_anchor=(1, 0.5))"
   ]
  },
  {
   "cell_type": "code",
   "execution_count": 55,
   "id": "6a68986d-6db1-4b99-a858-98d21b8fc9d2",
   "metadata": {},
   "outputs": [
    {
     "name": "stdout",
     "output_type": "stream",
     "text": [
      "warning: kernel is not symmetric\n",
      "warning: kernel is not positive semi-definite\n",
      "warning: kernel is not symmetric\n",
      "warning: kernel is not positive semi-definite\n",
      "warning: kernel is not symmetric\n",
      "warning: kernel is not positive semi-definite\n"
     ]
    }
   ],
   "source": [
    "kernel_1 = calc_NTK(activation_h1='relu_k', activation_h2='sin', k=1)\n",
    "kernel_2 = calc_NTK(activation_h1='sin', activation_h2='relu_k', k=1)\n",
    "kernel_3 = calc_NTK(activation_h1='relu_k', activation_h2='relu_k', k=1)"
   ]
  },
  {
   "cell_type": "code",
   "execution_count": 56,
   "id": "2ae6de12-3655-45a8-8820-b6014c6565d5",
   "metadata": {},
   "outputs": [
    {
     "data": {
      "image/png": "[encoded data removed]",
      "text/plain": [
       "<Figure size 432x288 with 1 Axes>"
      ]
     },
     "metadata": {
      "needs_background": "light"
     },
     "output_type": "display_data"
    }
   ],
   "source": [
    "plot_eigendecay(kernel_1, 'relu+sin')\n",
    "plot_eigendecay(kernel_2, 'sin+relu')\n",
    "plot_eigendecay(kernel_3, 'relu+relu')"
   ]
  },
  {
   "cell_type": "code",
   "execution_count": 17,
   "id": "0578793b-3846-4364-88c7-d04e6f39176c",
   "metadata": {},
   "outputs": [
    {
     "data": {
      "image/png": "[encoded data removed]",
      "text/plain": [
       "<Figure size 432x288 with 1 Axes>"
      ]
     },
     "metadata": {
      "needs_background": "light"
     },
     "output_type": "display_data"
    }
   ],
   "source": [
    "plot_eigendecay(kernel_3, 'relu+relu')"
   ]
  },
  {
   "cell_type": "code",
   "execution_count": 9,
   "id": "50da0d5f-b9cb-4f6e-9f02-941f805f8de1",
   "metadata": {},
   "outputs": [],
   "source": [
    "# TO FIX: you cannot sample from gaussian entry-wise\n",
    "# look at your previous work!!!\n",
    "# solution: maybe get the B_1 and B_2 first then sample once for all entries?\n",
    "\n",
    "# TODO:\n",
    "# 1. get whole kernel working, plot eigen decay\n",
    "# 2. clean up your code make it modular and compact\n",
    "# 4. vectorize if you can\n",
    "# 5. when you write up doc, refer to your commit history"
   ]
  },
  {
   "cell_type": "code",
   "execution_count": 48,
   "id": "d7ba02f4-3d72-464c-b6f7-4e9b06d5ade6",
   "metadata": {},
   "outputs": [],
   "source": [
    "\"\"\"\n",
    "Analytic Solution\n",
    "page 4 equation (6)-(7)\n",
    "\"\"\"\n",
    "def kappa_0(u):\n",
    "    pi = np.pi\n",
    "    k_0 = (1/pi) * (pi - np.arccos(u))\n",
    "    return k_0\n",
    "\n",
    "def kappa_1(u):\n",
    "    pi = np.pi\n",
    "    k_1 = (1/pi) * (u * (pi - np.arccos(u)) + np.sqrt(1 - u**2))\n",
    "    return k_1\n",
    "\n",
    "def K_0_analytical(x, y):\n",
    "    return np.dot(x.T, y)\n",
    "\n",
    "def sigma_0_analytical(x, y):\n",
    "    return np.dot(x.T, y)\n",
    "\n",
    "def sigma_1_and_prime_analytical(x, y):\n",
    "    sig_0_xx = sigma_0_analytical(x, x)\n",
    "    sig_0_yy = sigma_0_analytical(y, y)\n",
    "    sig_0_xy = sigma_0_analytical(x, y)\n",
    "    sqrt_term = np.sqrt(sig_0_xx * sig_0_yy)\n",
    "    \n",
    "    u = sig_0_xy / sqrt_term\n",
    "    k_1 = kappa_1(u)\n",
    "    sigma_1 = sqrt_term * k_1\n",
    "    sigma_1_prime = kappa_0(u)\n",
    "    \n",
    "    return sigma_1, sigma_1_prime\n",
    "    \n",
    "def sigma_2_prime_analytical(x, y):\n",
    "    sig_1_xx, _ = sigma_1_and_prime_analytical(x, y)\n",
    "    sig_1_xy, _ = sigma_1_and_prime_analytical(x, y)\n",
    "    sig_1_yy, _ = sigma_1_and_prime_analytical(y, y)\n",
    "    sqrt_term = np.sqrt(sig_1_xx * sig_1_yy)\n",
    "    \n",
    "    u = sig_1_xy / sqrt_term\n",
    "    k_1 = kappa_1(u)\n",
    "    sigma_2 = sqrt_term * k_1\n",
    "    sigma_2_prime = kappa_0(u)\n",
    "    \n",
    "    return sigma_2, sigma_2_prime\n",
    "\n",
    "def K_1_analytical(x, y):\n",
    "    sigma_1, sigma_1_prime = sigma_1_and_prime_analytical(x, y)\n",
    "    K_0 = K_0_analytical(x, y)\n",
    "    K_1 = sigma_1 + 2 * K_0 * sigma_1_prime\n",
    "    return K_1\n",
    "\n",
    "def K_2_analytical(x, y):\n",
    "    sigma_2, sigma_2_prime = sigma_2_prime_analytical(x, y)\n",
    "    K_1 = K_1_analytical(x, y)\n",
    "    K_2 = sigma_2 + 2 * K_1 * sigma_2_prime\n",
    "    return K_2"
   ]
  },
  {
   "cell_type": "code",
   "execution_count": 49,
   "id": "9f9a687d-e80e-4de7-ac06-063d7a77df80",
   "metadata": {},
   "outputs": [],
   "source": [
    "# execute\n",
    "\"\"\"\n",
    "experiment:\n",
    "1. first hidden layer: smooth (sin/cos), second: non-smooth (ReLU^k)\n",
    "2. reverse the order of activation\n",
    "\"\"\"    \n",
    "def calc_NTK_analytical():   \n",
    "\n",
    "    # init input\n",
    "    x = init_inputs() # (2, 100)\n",
    "    num_inputs = x.shape[1]\n",
    "\n",
    "    # initialize kernel and sample weights\n",
    "    kernel = np.zeros((num_inputs, num_inputs))\n",
    "    \n",
    "    for i in range(num_inputs):\n",
    "        for j in range(num_inputs):\n",
    "            kernel[i][j] = K_2_analytical(x[:, i], x[:, j])\n",
    "    \n",
    "    check(kernel)\n",
    "    \n",
    "    return kernel"
   ]
  },
  {
   "cell_type": "code",
   "execution_count": 73,
   "id": "fa069142-9bfc-4530-b39b-f4721011baad",
   "metadata": {},
   "outputs": [
    {
     "data": {
      "image/png": "[encoded data removed]",
      "text/plain": [
       "<Figure size 432x288 with 1 Axes>"
      ]
     },
     "metadata": {
      "needs_background": "light"
     },
     "output_type": "display_data"
    }
   ],
   "source": [
    "kernel_analytical = calc_NTK_analytical()\n",
    "\n",
    "plot_eigendecay(kernel_analytical, 'analytical')\n",
    "plot_eigendecay(kernel_3, 'numerical relu+relu')"
   ]
  },
  {
   "cell_type": "code",
   "execution_count": null,
   "id": "384000fb-d6a4-482f-a236-f399c0c37a93",
   "metadata": {},
   "outputs": [],
   "source": []
  }
 ],
 "metadata": {
  "kernelspec": {
   "display_name": "Python 3",
   "language": "python",
   "name": "python3"
  },
  "language_info": {
   "codemirror_mode": {
    "name": "ipython",
    "version": 3
   },
   "file_extension": ".py",
   "mimetype": "text/x-python",
   "name": "python",
   "nbconvert_exporter": "python",
   "pygments_lexer": "ipython3",
   "version": "3.8.8"
  }
 },
 "nbformat": 4,
 "nbformat_minor": 5
}
