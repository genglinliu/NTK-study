{
 "cells": [
  {
   "cell_type": "markdown",
   "id": "dbedd234-f914-4a44-a1b2-c437dd8128fb",
   "metadata": {},
   "source": [
    "### Three-Layer NTK\n",
    "\n",
    "#### [NTK paper](https://papers.nips.cc/paper/2019/file/c4ef9c39b300931b69a36fb3dbb8d60e-Paper.pdf)\n",
    "\n",
    "#### [REU overleaf doc](https://www.overleaf.com/project/606a0e1c8d7e5e3b95b62e9a)\n",
    "\n",
    "#### [GitHub Repo for this project](https://github.com/genglinliu/NTK-study)"
   ]
  },
  {
   "cell_type": "code",
   "execution_count": 1,
   "id": "5e8c95c0-f769-4af8-a7eb-7333b5cdf811",
   "metadata": {},
   "outputs": [],
   "source": [
    "import numpy as np\n",
    "import matplotlib.pyplot as plt\n",
    "\n",
    "from tqdm import tqdm\n",
    "\n",
    "import warnings\n",
    "warnings.filterwarnings('ignore')"
   ]
  },
  {
   "cell_type": "code",
   "execution_count": 2,
   "id": "df01bbb3-9540-44c7-b898-fd613e52377a",
   "metadata": {},
   "outputs": [],
   "source": [
    "\"\"\"\n",
    "activation functions and their derivatives\n",
    "\"\"\"\n",
    "\n",
    "def relu_k(x, k):\n",
    "    return np.maximum(x**k, 0)\n",
    "\n",
    "def d_relu_k(x, k):\n",
    "    return k * x**(k-1) * (x > 0)\n",
    "\n",
    "def relu(x):\n",
    "    return np.maximum(x, 0)\n",
    "\n",
    "def d_relu(x):\n",
    "    return 1.0 * (x > 0)\n",
    "\n",
    "def sin(x, k=None):\n",
    "    return np.sin(x)\n",
    "\n",
    "def cos(x, k=None):\n",
    "    return np.cos(x)\n",
    "\n",
    "def d_cos(x, k=None):\n",
    "    return -np.sin(x)"
   ]
  },
  {
   "cell_type": "code",
   "execution_count": 3,
   "id": "c851e028-482c-4ae3-abb0-cad9ebb7cd04",
   "metadata": {},
   "outputs": [],
   "source": [
    "def init_inputs(num_inputs=200):\n",
    "    # sin(theta) and cos(theta), theta ~ (0, 2*pi) uniformly sampled\n",
    "    # take 100 points on the unit circle\n",
    "    theta = np.linspace(0.0, 2 * np.pi, num=num_inputs)\n",
    "    x = np.asarray((np.cos(theta), np.sin(theta))) # (2, 100)\n",
    "    return x"
   ]
  },
  {
   "cell_type": "code",
   "execution_count": 4,
   "id": "d4656f7c-ca55-48d1-9a17-081fd7d57fb4",
   "metadata": {},
   "outputs": [],
   "source": [
    "# check kernel symmetry and positive definitiveness\n",
    "def check(matrix, tol=1e-10):\n",
    "    if not np.all(np.abs(matrix-matrix.T) < tol):\n",
    "        print(\"warning: kernel is not symmetric\")\n",
    "    if not np.all(np.linalg.eigvals(matrix) >= -tol):\n",
    "        print(\"warning: kernel is not positive semi-definite\")"
   ]
  },
  {
   "cell_type": "markdown",
   "id": "354d347a-d849-4e48-a72f-de2561c31958",
   "metadata": {},
   "source": [
    "#### Enrty-wise Computation"
   ]
  },
  {
   "cell_type": "code",
   "execution_count": 83,
   "id": "f498dbf2-87fc-4247-90e6-6f8004c72f7d",
   "metadata": {},
   "outputs": [],
   "source": [
    "\"\"\"\n",
    "see page 3-4 of the paper\n",
    "\n",
    "STEP 0\n",
    "    x and x' are 2-dimensional points of shape (2,)\n",
    "    K_0(x, x') = sigma_0(x, x') = <x, x'> = (x^T).dot(x')\n",
    "\n",
    "STEP 1a\n",
    "    B_1 = [sigma_0(x, x),  sigma_0(x, x'),\n",
    "           sigma_0(x, x'), sigma_0(x', x')]\n",
    "           \n",
    "STEP 1b\n",
    "    sigma_1(x, x') = 2 E(u, v)~N(0, B_1) [activation(u) activation(v)]\n",
    "    sigma_1'(x, x') = 2 E(u, v)~N(0, B_1) [activation'(u) activation'(v)]\n",
    "\n",
    "STEP 1c\n",
    "    K_1(x, x') = sigma_1(x, x') + K_0(x, x') sigma_1'(x, x')\n",
    "\n",
    "\"\"\"\n",
    "#------------\n",
    "# step 0\n",
    "#------------\n",
    "x = np.array([1, 2])\n",
    "y = np.array([1, 2])\n",
    "\n",
    "def K_0(x, y):\n",
    "    return np.dot(x.T, y)\n",
    "\n",
    "def sigma_0(x, y):\n",
    "    return np.dot(x.T, y)\n",
    "\n",
    "#------------\n",
    "# step 1a\n",
    "#------------\n",
    "def B_1(x, y):\n",
    "    v1 = np.vstack((sigma_0(x, x), sigma_0(x, y)))\n",
    "    v2 = np.vstack((sigma_0(x, y), sigma_0(y, y)))\n",
    "\n",
    "    B_1 = np.hstack((v1, v2)) # (400, 400)\n",
    "    return B_1\n",
    "\n",
    "#------------\n",
    "# step 1b\n",
    "#------------\n",
    "def sigma_1_and_prime(x, y, activation, k):\n",
    "    \n",
    "    activation_map = {\n",
    "        'relu_k': [relu_k, d_relu_k],\n",
    "        'sin': [sin, cos],\n",
    "        'cos': [cos, d_cos]\n",
    "    }\n",
    "        \n",
    "    mean = np.zeros(x.shape[0])\n",
    "    cov = B_1(x, y)\n",
    "    expectation = 0\n",
    "    num_samples = 1000\n",
    "    # generate 1000 pairs of (u, v), apply activation array-wise then take average\n",
    "    sample_1 = np.random.multivariate_normal(mean, cov, num_samples) # (num_samples, 2)\n",
    "    u1, v1 = sample_1[:, 0], sample_1[:, 1] # (num_samples,)\n",
    "    \n",
    "    sample_2 = np.random.multivariate_normal(mean, cov, num_samples) # (num_samples, 2)\n",
    "    u2, v2 = sample_2[:, 0], sample_2[:, 1] # (num_samples,)\n",
    "    \n",
    "    activation_func, d_activation = activation_map[activation]\n",
    "    expectation_1 = np.mean(activation_func(u1, k) * activation_func(v1, k))\n",
    "    expectation_2 = np.mean(d_activation(u2, k) * d_activation(v2, k))\n",
    "\n",
    "    sigma_1 = 2 * expectation_1\n",
    "    sigma_1_prime = 2 * expectation_2\n",
    "    \n",
    "    return sigma_1, sigma_1_prime\n",
    "\n",
    "#------------\n",
    "# step 1c\n",
    "#------------\n",
    "def K_1(x, y, activation, k=1):\n",
    "    sigma_1, sigma_1_prime = sigma_1_and_prime(x, y, activation, k)\n",
    "    return sigma_1 + K_0(x, y) * sigma_1_prime"
   ]
  },
  {
   "cell_type": "code",
   "execution_count": 84,
   "id": "216f37a9-7115-4fb9-bbfc-40d8750effbd",
   "metadata": {},
   "outputs": [
    {
     "data": {
      "text/plain": [
       "10.355288932403742"
      ]
     },
     "execution_count": 84,
     "metadata": {},
     "output_type": "execute_result"
    }
   ],
   "source": [
    "K_1(x, y, 'relu_k')"
   ]
  },
  {
   "cell_type": "code",
   "execution_count": null,
   "id": "d5ade26e-4d14-4e91-8ace-6a611b26a407",
   "metadata": {},
   "outputs": [],
   "source": [
    "\"\"\"\n",
    "------------------------------------------------------------------\n",
    "STEP 2a\n",
    "    B_2 = [sigma_1(x, x),  sigma_1(x, x'),\n",
    "           sigma_1(x, x'), sigma_1(x', x')]\n",
    "           \n",
    "STEP 2b\n",
    "    sigma_2(x, x') = 2 E(u, v)~N(0, B_2) [activation(u) activation(v)]\n",
    "    sigma_2'(x, x') = 2 E(u, v)~N(0, B_2) [activation'(u) activation'(v)]\n",
    "\n",
    "STEP 2c\n",
    "    K_2(x, x') = sigma_2(x, x') + K_1(x, x') sigma_2'(x, x')\n",
    "    \n",
    "    \n",
    "experiment:\n",
    "1. first hidden layer: smooth (sin/cos), second: non-smooth (ReLU^k)\n",
    "2. reverse the order of activation\n",
    "\n",
    "\"\"\""
   ]
  }
 ],
 "metadata": {
  "kernelspec": {
   "display_name": "Python 3",
   "language": "python",
   "name": "python3"
  },
  "language_info": {
   "codemirror_mode": {
    "name": "ipython",
    "version": 3
   },
   "file_extension": ".py",
   "mimetype": "text/x-python",
   "name": "python",
   "nbconvert_exporter": "python",
   "pygments_lexer": "ipython3",
   "version": "3.8.8"
  }
 },
 "nbformat": 4,
 "nbformat_minor": 5
}
