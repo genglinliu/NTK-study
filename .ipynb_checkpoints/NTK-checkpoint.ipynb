{
 "cells": [
  {
   "cell_type": "code",
   "execution_count": 1,
   "id": "c0b8c6a4-315b-4925-9089-b2ce85d2b8bc",
   "metadata": {},
   "outputs": [],
   "source": [
    "import numpy as np"
   ]
  },
  {
   "cell_type": "code",
   "execution_count": 2,
   "id": "59ec6167-1efc-4e55-b61e-d5b282b652ce",
   "metadata": {},
   "outputs": [],
   "source": [
    "\"\"\"\n",
    "1d input x_i and x_j, alias to x and x' in the paper\n",
    "for 2d input we should use np.meshgrid or np.mgrid\n",
    "\"\"\"\n",
    "\n",
    "num_input = 50\n",
    "\n",
    "# x_i = np.linspace(0.0, 1.0, num=num_input)\n",
    "# x_j = np.linspace(0.1, 0.5, num=num_input)\n",
    "\n",
    "x_i = np.random.uniform(size=num_input)\n",
    "x_j = np.random.uniform(size=num_input)\n",
    "\n",
    "# display(x_i)\n",
    "# display(x_j)\n"
   ]
  },
  {
   "cell_type": "code",
   "execution_count": 3,
   "id": "a6e5e6d5-2cf6-4585-9458-3da7cbf20ae8",
   "metadata": {},
   "outputs": [
    {
     "data": {
      "text/plain": [
       "array([[1.40085623, 1.04720925, 1.4505732 , ..., 1.26952259, 1.37277366,\n",
       "        1.69758009],\n",
       "       [1.06741091, 1.00793905, 1.07577167, ..., 1.04532488, 1.06268834,\n",
       "        1.11731015],\n",
       "       [1.38338023, 1.04515108, 1.43092971, ..., 1.2577723 , 1.35652197,\n",
       "        1.66716792],\n",
       "       ...,\n",
       "       [1.35785584, 1.04214505, 1.40223961, ..., 1.24061054, 1.33278573,\n",
       "        1.62274973],\n",
       "       [1.04503299, 1.00530358, 1.05061829, ..., 1.0302787 , 1.04187813,\n",
       "        1.07836753],\n",
       "       [1.37340972, 1.04397684, 1.41972258, ..., 1.25106845, 1.34724995,\n",
       "        1.64981697]])"
      ]
     },
     "metadata": {},
     "output_type": "display_data"
    }
   ],
   "source": [
    "# take outer product of x_i and x_j to get 100 x 100 matrix\n",
    "# in the paper sigma was defined entry-wise, but we want to compute the matrix at once\n",
    "n_0 = 1\n",
    "beta = 1\n",
    "\n",
    "def calc_sigma_1(x_i, x_j):\n",
    "    return np.outer(x_i, x_j) / n_0 + beta**2\n",
    "\n",
    "display(calc_sigma_1(x_i, x_j))"
   ]
  },
  {
   "cell_type": "code",
   "execution_count": 42,
   "id": "1d514972-b1af-4412-9991-07aaba5622d5",
   "metadata": {},
   "outputs": [],
   "source": [
    "\"\"\"\n",
    "f(x_i) and f(x_j) follow N(0, cov) where cov is a contatenation of 4 smaller matrices\n",
    "\"\"\"\n",
    "\n",
    "cov_ii = calc_sigma_1(x_i, x_i)\n",
    "cov_ij = calc_sigma_1(x_i, x_j)\n",
    "cov_ji = calc_sigma_1(x_j, x_i)\n",
    "cov_jj = calc_sigma_1(x_j, x_j)\n",
    "\n",
    "# cov_ij == cov_ji.T"
   ]
  },
  {
   "cell_type": "code",
   "execution_count": 46,
   "id": "f0e7f64e-fca6-45b4-b52d-0512d5672010",
   "metadata": {},
   "outputs": [
    {
     "data": {
      "text/plain": [
       "array([[ True, False, False, ..., False, False, False],\n",
       "       [False,  True, False, ..., False, False, False],\n",
       "       [False, False,  True, ..., False, False, False],\n",
       "       ...,\n",
       "       [False, False, False, ...,  True, False, False],\n",
       "       [False, False, False, ..., False,  True, False],\n",
       "       [False, False, False, ..., False, False,  True]])"
      ]
     },
     "execution_count": 46,
     "metadata": {},
     "output_type": "execute_result"
    }
   ],
   "source": [
    "a = np.outer(x_i, x_j)\n",
    "\n",
    "a == a.T"
   ]
  },
  {
   "cell_type": "code",
   "execution_count": null,
   "id": "82a1278f-4631-413e-a3d1-0a7d8d6cd349",
   "metadata": {},
   "outputs": [],
   "source": []
  },
  {
   "cell_type": "code",
   "execution_count": 5,
   "id": "36c45c66-5bb2-4f88-bb79-a7ab9573ff06",
   "metadata": {},
   "outputs": [],
   "source": [
    "# is_pos_def(cov_ij)"
   ]
  },
  {
   "cell_type": "code",
   "execution_count": 6,
   "id": "0a1f03ed-84ea-49b8-815e-b6fe547bacb9",
   "metadata": {},
   "outputs": [],
   "source": [
    "# cov_ij"
   ]
  },
  {
   "cell_type": "code",
   "execution_count": 7,
   "id": "cd8d795f-99de-4068-97f7-0127daec35aa",
   "metadata": {},
   "outputs": [],
   "source": [
    "# cov_ji"
   ]
  },
  {
   "cell_type": "code",
   "execution_count": 8,
   "id": "ca7bf002-f088-46a5-af94-8089851d059f",
   "metadata": {},
   "outputs": [],
   "source": [
    "# cov_ij == cov_ji.T"
   ]
  },
  {
   "cell_type": "code",
   "execution_count": 9,
   "id": "0f5d1c0e-f652-4e14-9c19-d21204e04523",
   "metadata": {},
   "outputs": [
    {
     "data": {
      "text/plain": [
       "(100, 100)"
      ]
     },
     "metadata": {},
     "output_type": "display_data"
    }
   ],
   "source": [
    "# concatenate the 4 sigmas\n",
    "\n",
    "v1 = np.vstack((cov_ii, cov_ji))\n",
    "v2 = np.vstack((cov_ij, cov_jj))\n",
    "\n",
    "cov = np.hstack((v1, v2))\n",
    "\n",
    "display(cov.shape)"
   ]
  },
  {
   "cell_type": "code",
   "execution_count": 38,
   "id": "1b08f7d9-9098-4d72-8e4f-befb0ba79253",
   "metadata": {},
   "outputs": [
    {
     "data": {
      "text/plain": [
       "array([[ True,  True,  True, ...,  True,  True,  True],\n",
       "       [ True,  True,  True, ...,  True,  True,  True],\n",
       "       [ True,  True,  True, ...,  True,  True,  True],\n",
       "       ...,\n",
       "       [ True,  True,  True, ...,  True,  True,  True],\n",
       "       [ True,  True,  True, ...,  True,  True,  True],\n",
       "       [ True,  True,  True, ...,  True,  True,  True]])"
      ]
     },
     "execution_count": 38,
     "metadata": {},
     "output_type": "execute_result"
    }
   ],
   "source": [
    "cov == cov.T"
   ]
  },
  {
   "cell_type": "code",
   "execution_count": 11,
   "id": "38a11913-d5b5-4c76-87a5-ae7a16da3297",
   "metadata": {},
   "outputs": [
    {
     "data": {
      "text/plain": [
       "False"
      ]
     },
     "execution_count": 11,
     "metadata": {},
     "output_type": "execute_result"
    }
   ],
   "source": [
    "def is_pos_def(x):\n",
    "    return np.all(np.linalg.eigvals(x) > 0)\n",
    "\n",
    "is_pos_def(cov)"
   ]
  },
  {
   "cell_type": "code",
   "execution_count": 12,
   "id": "384a0763-d1da-4d3f-80d1-31412f3a80a7",
   "metadata": {},
   "outputs": [
    {
     "data": {
      "text/plain": [
       "array([ 1.25135729e+02+0.00000000e+00j,  7.01407530e+00+0.00000000e+00j,\n",
       "       -3.32162507e-15+0.00000000e+00j,  1.58465248e-15+1.42271122e-15j,\n",
       "        1.58465248e-15-1.42271122e-15j,  1.33824908e-15+0.00000000e+00j,\n",
       "        1.24225548e-15+0.00000000e+00j, -1.24663725e-15+0.00000000e+00j,\n",
       "       -1.21007595e-15+0.00000000e+00j,  1.17789355e-15+0.00000000e+00j,\n",
       "        1.14842867e-15+0.00000000e+00j, -1.13592417e-15+0.00000000e+00j,\n",
       "        1.06904482e-15+0.00000000e+00j,  1.04240352e-15+0.00000000e+00j,\n",
       "        1.03287867e-15+0.00000000e+00j, -1.01255712e-15+1.75344704e-16j,\n",
       "       -1.01255712e-15-1.75344704e-16j, -1.06333400e-15+2.18923323e-17j,\n",
       "       -1.06333400e-15-2.18923323e-17j,  9.79125240e-16+0.00000000e+00j,\n",
       "       -1.02839397e-15+0.00000000e+00j,  9.25573675e-16+1.13022766e-17j,\n",
       "        9.25573675e-16-1.13022766e-17j, -9.76364544e-16+0.00000000e+00j,\n",
       "       -9.59978502e-16+0.00000000e+00j, -9.17892084e-16+0.00000000e+00j,\n",
       "        8.12326662e-16+1.34874232e-16j,  8.12326662e-16-1.34874232e-16j,\n",
       "        8.60620353e-16+0.00000000e+00j,  8.17897380e-16+1.15078696e-17j,\n",
       "        8.17897380e-16-1.15078696e-17j,  8.03216944e-16+0.00000000e+00j,\n",
       "       -8.47006447e-16+0.00000000e+00j, -7.99343513e-16+5.06352682e-17j,\n",
       "       -7.99343513e-16-5.06352682e-17j, -7.92796219e-16+0.00000000e+00j,\n",
       "        7.50887755e-16+0.00000000e+00j, -7.55985429e-16+0.00000000e+00j,\n",
       "        7.20456279e-16+0.00000000e+00j,  6.95402895e-16+0.00000000e+00j,\n",
       "        6.42681440e-16+0.00000000e+00j,  6.18481046e-16+0.00000000e+00j,\n",
       "        6.06332175e-16+2.35495203e-17j,  6.06332175e-16-2.35495203e-17j,\n",
       "        5.85349854e-16+0.00000000e+00j, -7.05239938e-16+1.20172701e-17j,\n",
       "       -7.05239938e-16-1.20172701e-17j,  5.39027262e-16+0.00000000e+00j,\n",
       "        4.78635387e-16+0.00000000e+00j,  4.65637602e-16+1.16685225e-17j,\n",
       "        4.65637602e-16-1.16685225e-17j,  4.28939714e-16+2.99996471e-18j,\n",
       "        4.28939714e-16-2.99996471e-18j,  3.86106239e-16+2.85509192e-17j,\n",
       "        3.86106239e-16-2.85509192e-17j,  3.73386362e-16+0.00000000e+00j,\n",
       "       -6.20866868e-16+1.28106966e-17j, -6.20866868e-16-1.28106966e-17j,\n",
       "       -5.94093234e-16+0.00000000e+00j, -5.08654781e-16+1.05198468e-16j,\n",
       "       -5.08654781e-16-1.05198468e-16j, -5.66926512e-16+0.00000000e+00j,\n",
       "       -5.45261438e-16+0.00000000e+00j, -5.05301626e-16+0.00000000e+00j,\n",
       "        3.19852847e-16+0.00000000e+00j,  2.93452486e-16+0.00000000e+00j,\n",
       "        2.62571913e-16+0.00000000e+00j,  2.41066050e-16+2.79150025e-17j,\n",
       "        2.41066050e-16-2.79150025e-17j,  2.17462282e-16+0.00000000e+00j,\n",
       "        1.91757920e-16+0.00000000e+00j,  1.74584957e-16+0.00000000e+00j,\n",
       "        7.19745716e-17+7.71169434e-17j,  7.19745716e-17-7.71169434e-17j,\n",
       "        1.13631855e-16+0.00000000e+00j,  8.43388376e-17+2.68780422e-17j,\n",
       "        8.43388376e-17-2.68780422e-17j, -4.75665834e-16+0.00000000e+00j,\n",
       "       -4.45994834e-16+5.35747955e-18j, -4.45994834e-16-5.35747955e-18j,\n",
       "       -4.06268903e-16+0.00000000e+00j, -3.86283493e-16+0.00000000e+00j,\n",
       "       -3.70334272e-16+0.00000000e+00j, -1.70166096e-16+1.21003263e-16j,\n",
       "       -1.70166096e-16-1.21003263e-16j, -3.25351745e-16+0.00000000e+00j,\n",
       "       -2.93880677e-16+0.00000000e+00j,  3.21460632e-17+0.00000000e+00j,\n",
       "       -1.08747516e-17+0.00000000e+00j, -4.78059925e-17+3.57357344e-17j,\n",
       "       -4.78059925e-17-3.57357344e-17j, -5.78458881e-17+0.00000000e+00j,\n",
       "       -9.39251000e-17+0.00000000e+00j, -1.00220981e-16+0.00000000e+00j,\n",
       "       -2.34573515e-16+6.39943457e-18j, -2.34573515e-16-6.39943457e-18j,\n",
       "       -2.17470715e-16+6.58632161e-18j, -2.17470715e-16-6.58632161e-18j,\n",
       "       -1.70257206e-16+2.23236586e-18j, -1.70257206e-16-2.23236586e-18j])"
      ]
     },
     "execution_count": 12,
     "metadata": {},
     "output_type": "execute_result"
    }
   ],
   "source": [
    "np.linalg.eigvals(cov)"
   ]
  },
  {
   "cell_type": "code",
   "execution_count": 13,
   "id": "b90ba849-c433-4fd1-87b5-35e6cacaee56",
   "metadata": {},
   "outputs": [
    {
     "data": {
      "text/plain": [
       "array([[-1.77799261, -0.45758656, -1.70878971, -1.16565954, -1.30369325,\n",
       "        -0.85885433, -0.78902215, -0.29230709, -1.73952806, -0.37796309,\n",
       "        -0.22726201, -0.79005544, -1.77534182, -1.34848445, -1.75796255,\n",
       "        -0.98930746, -1.44032258, -1.00928676, -1.9108657 , -0.9785132 ,\n",
       "        -0.55087345, -1.47250961, -1.5967266 , -0.42519045, -1.10795561,\n",
       "        -0.75800948, -0.22690504, -1.50753165, -0.7908904 , -0.80660598,\n",
       "        -0.77390254, -0.67044183, -0.6600855 , -0.71347881, -0.27787209,\n",
       "        -0.91443994, -0.85345118, -0.51936057, -1.89896637, -0.25455689,\n",
       "        -1.49275172, -1.57601327, -0.23977018, -0.97632957, -1.14994963,\n",
       "        -0.32361097, -0.40111946, -1.60771596, -0.36897216, -1.66930757,\n",
       "        -1.03076011, -0.28958769, -1.13495703, -1.11866893, -1.54573889,\n",
       "        -0.25774912, -0.53543113, -1.99604878, -0.69887071, -1.55440807,\n",
       "        -1.026216  , -0.47032781, -1.18331139, -1.37004399, -1.7265353 ,\n",
       "        -0.9582585 , -1.68355294, -1.72793893, -0.81527126, -0.87673319,\n",
       "        -1.77113261, -1.3931264 , -1.81914355, -0.33979043, -0.81518345,\n",
       "        -1.37581361, -1.57948966, -1.42188375, -1.84872266, -0.29263583,\n",
       "        -0.2462485 , -0.26713298, -0.94499791, -1.58301922, -1.11117378,\n",
       "        -1.36324495, -1.21754338, -1.80023815, -1.95952003, -1.50460647,\n",
       "        -1.9455877 , -0.29227424, -1.80847847, -0.73528116, -0.85969873,\n",
       "        -1.85081735, -0.43225505, -0.75551143, -0.97190508, -1.65263352]])"
      ]
     },
     "execution_count": 13,
     "metadata": {},
     "output_type": "execute_result"
    }
   ],
   "source": [
    "\"\"\"\n",
    "now sample Y_i, Y_j from this distribution N(0, cov)\n",
    "\"\"\"\n",
    "mean = [0] * 2 * num_input\n",
    "\n",
    "# sample once\n",
    "# np.random.seed(26)\n",
    "sample = np.random.multivariate_normal(mean, cov, size=1, check_valid='warn')\n",
    "# f_xi = sample[:num_input]\n",
    "# f_xj = sample[num_input:]\n",
    "# display(f_xi)\n",
    "# display(f_xj)\n",
    "sample"
   ]
  },
  {
   "cell_type": "code",
   "execution_count": 23,
   "id": "7342b53b-e696-439f-8743-2f44ab29f82f",
   "metadata": {},
   "outputs": [],
   "source": [
    "# gaol: approximate expectation using a finite sum and take the mean\n",
    "# approach 1: sample and compute outer product first, then take mean\n",
    "def calc_sigma_2_v1(activation):\n",
    "    num_samples = 1000\n",
    "    sum_N = np.zeros((num_input, num_input))\n",
    "    np.random.seed(26)\n",
    "    for i in range(num_samples):\n",
    "        sample = np.random.multivariate_normal(mean, cov, size=1)[0]\n",
    "        f_xi = sample[:num_input]\n",
    "        f_xj = sample[num_input:]\n",
    "        sum_N += np.outer(activation(f_xi), activation(f_xj))\n",
    "\n",
    "    sigma_2 = (sum_N / num_samples) + beta**2\n",
    "    \n",
    "    return sigma_2\n",
    "\n",
    "#     display(sigma_2)"
   ]
  },
  {
   "cell_type": "code",
   "execution_count": 25,
   "id": "53939ad2-f9ee-40b3-a970-b3273dbdd530",
   "metadata": {},
   "outputs": [],
   "source": [
    "# # approach 2: vectorize the sampling and take mean of activated f, then do outer product\n",
    "# def calc_sigma_2_v2(activation):\n",
    "#     num_samples = 1000\n",
    "#     np.random.seed(26)\n",
    "#     s = np.random.multivariate_normal(mean, cov, size=num_samples)\n",
    "#     # s: (num_samples, 10)\n",
    "\n",
    "#     f_xi = s[:, :num_input]\n",
    "#     f_xj = s[:, num_input:]\n",
    "\n",
    "#     # we may take the mean of the relu and then do outer product\n",
    "#     sig_f_xi = np.mean(activation(f_xi), axis=0)\n",
    "#     sig_f_xj = np.mean(activation(f_xj), axis=0)\n",
    "\n",
    "#     sigma_2 = np.outer(sig_f_xi, sig_f_xj) + beta**2\n",
    "    \n",
    "#     return sigma_2\n",
    "\n",
    "# #     display(sigma_2)"
   ]
  },
  {
   "cell_type": "code",
   "execution_count": 26,
   "id": "480c0dd0-58f6-41b4-871b-580e4ede1aab",
   "metadata": {},
   "outputs": [],
   "source": [
    "\"\"\"\n",
    "activation functions and their derivatives\n",
    "\"\"\"\n",
    "\n",
    "def relu_kth(x, k):\n",
    "    return np.maximum(x**k, 0)\n",
    "\n",
    "def relu(x):\n",
    "    return np.maximum(x, 0)\n",
    "\n",
    "def d_relu(x):\n",
    "    return 1.0 * (x > 0)\n",
    "\n",
    "def d_relu_kth(x, k):\n",
    "    return k * x**(k-1) * (x > 0)\n",
    "\n",
    "# display(relu(f_xi))\n",
    "# display(d_relu(f_xi))\n"
   ]
  },
  {
   "cell_type": "code",
   "execution_count": 28,
   "id": "411ba97e-2817-4266-a4be-6eae4806fb7b",
   "metadata": {},
   "outputs": [
    {
     "data": {
      "text/plain": [
       "(50, 50)"
      ]
     },
     "execution_count": 28,
     "metadata": {},
     "output_type": "execute_result"
    }
   ],
   "source": [
    "calc_sigma_2_v1(relu).shape"
   ]
  },
  {
   "cell_type": "code",
   "execution_count": null,
   "id": "4369c838-6484-4d47-ba27-eeb760b8438c",
   "metadata": {},
   "outputs": [],
   "source": [
    "# calc_sigma_2_v2(relu)"
   ]
  },
  {
   "cell_type": "code",
   "execution_count": 29,
   "id": "828b1381-6528-427a-9569-25c6579e9684",
   "metadata": {},
   "outputs": [],
   "source": [
    "\"\"\"\n",
    "Compute Theta 1 and 2 using Sigma\n",
    "\"\"\"\n",
    "\n",
    "THETA_1 = calc_sigma_1(x_i, x_j) # actually make a copy\n",
    "\n",
    "sigma_2 = calc_sigma_2_v1(relu)\n",
    "sigma_2_prime = calc_sigma_2_v1(d_relu)\n",
    "\n",
    "THETA_2 = np.multiply(THETA_1, sigma_2_prime) + sigma_2"
   ]
  },
  {
   "cell_type": "code",
   "execution_count": 30,
   "id": "8910f281-5fe0-4180-b770-5c899881552e",
   "metadata": {},
   "outputs": [
    {
     "data": {
      "text/plain": [
       "(50, 50)"
      ]
     },
     "metadata": {},
     "output_type": "display_data"
    },
    {
     "data": {
      "text/plain": [
       "(50, 50)"
      ]
     },
     "metadata": {},
     "output_type": "display_data"
    }
   ],
   "source": [
    "display(THETA_1.shape)\n",
    "display(THETA_2.shape)"
   ]
  },
  {
   "cell_type": "code",
   "execution_count": 31,
   "id": "389b0259-c843-4992-b242-ab25e132d758",
   "metadata": {},
   "outputs": [
    {
     "data": {
      "text/plain": [
       "array([ 1.65156929e+02+0.00000000e+00j,  2.74651485e-01+3.84616308e-01j,\n",
       "        2.74651485e-01-3.84616308e-01j,  7.30260702e-02+0.00000000e+00j,\n",
       "        1.65396762e-02+1.18135828e-02j,  1.65396762e-02-1.18135828e-02j,\n",
       "       -7.77309527e-03+1.20775122e-02j, -7.77309527e-03-1.20775122e-02j,\n",
       "        1.40435643e-02+0.00000000e+00j, -1.16361593e-02+0.00000000e+00j,\n",
       "        1.02077089e-02+0.00000000e+00j, -4.24716599e-04+4.67794469e-03j,\n",
       "       -4.24716599e-04-4.67794469e-03j,  3.50258610e-03+1.94275917e-03j,\n",
       "        3.50258610e-03-1.94275917e-03j, -7.69532604e-04+3.21898567e-03j,\n",
       "       -7.69532604e-04-3.21898567e-03j,  1.87578375e-03+1.17497806e-03j,\n",
       "        1.87578375e-03-1.17497806e-03j, -1.81747341e-03+0.00000000e+00j,\n",
       "       -3.27506278e-04+1.58929462e-03j, -3.27506278e-04-1.58929462e-03j,\n",
       "       -1.18896250e-03+0.00000000e+00j,  8.91068061e-04+0.00000000e+00j,\n",
       "        8.51939046e-05+5.06116329e-04j,  8.51939046e-05-5.06116329e-04j,\n",
       "        1.20788983e-04+0.00000000e+00j, -7.62752948e-05+0.00000000e+00j,\n",
       "       -4.41345924e-05+0.00000000e+00j, -1.96280882e-05+0.00000000e+00j,\n",
       "        1.94206121e-05+0.00000000e+00j,  3.65989160e-06+1.43363582e-05j,\n",
       "        3.65989160e-06-1.43363582e-05j,  8.44284305e-07+0.00000000e+00j,\n",
       "       -1.83199196e-07+4.91385224e-07j, -1.83199196e-07-4.91385224e-07j,\n",
       "        1.32267084e-07+2.13029957e-08j,  1.32267084e-07-2.13029957e-08j,\n",
       "       -7.66152634e-08+5.66129254e-08j, -7.66152634e-08-5.66129254e-08j,\n",
       "        5.16130584e-08+6.17669689e-08j,  5.16130584e-08-6.17669689e-08j,\n",
       "       -2.78006776e-08+0.00000000e+00j, -2.04636864e-12+3.55353790e-11j,\n",
       "       -2.04636864e-12-3.55353790e-11j,  1.60946910e-11+0.00000000e+00j,\n",
       "       -2.61654115e-12+6.38585561e-12j, -2.61654115e-12-6.38585561e-12j,\n",
       "       -5.58136520e-13+0.00000000e+00j, -2.08688707e-13+0.00000000e+00j])"
      ]
     },
     "execution_count": 31,
     "metadata": {},
     "output_type": "execute_result"
    }
   ],
   "source": [
    "np.linalg.eigvals(THETA_2)"
   ]
  },
  {
   "cell_type": "code",
   "execution_count": 33,
   "id": "021100a8-33bd-46ee-92e9-882d303c63d1",
   "metadata": {},
   "outputs": [
    {
     "data": {
      "text/plain": [
       "array([[ True, False, False, ..., False, False, False],\n",
       "       [False,  True, False, ..., False, False, False],\n",
       "       [False, False,  True, ..., False, False, False],\n",
       "       ...,\n",
       "       [False, False, False, ...,  True, False, False],\n",
       "       [False, False, False, ..., False,  True, False],\n",
       "       [False, False, False, ..., False, False,  True]])"
      ]
     },
     "execution_count": 33,
     "metadata": {},
     "output_type": "execute_result"
    }
   ],
   "source": [
    "THETA_2 == THETA_2.T"
   ]
  },
  {
   "cell_type": "code",
   "execution_count": 36,
   "id": "30a9bb07-e9aa-4892-a4e2-5a151a32bdb1",
   "metadata": {},
   "outputs": [
    {
     "data": {
      "text/plain": [
       "array([[ True, False, False, ..., False, False, False],\n",
       "       [False,  True, False, ..., False, False, False],\n",
       "       [False, False,  True, ..., False, False, False],\n",
       "       ...,\n",
       "       [False, False, False, ...,  True, False, False],\n",
       "       [False, False, False, ..., False,  True, False],\n",
       "       [False, False, False, ..., False, False,  True]])"
      ]
     },
     "execution_count": 36,
     "metadata": {},
     "output_type": "execute_result"
    }
   ],
   "source": [
    "sigma_2 == sigma_2.T"
   ]
  },
  {
   "cell_type": "code",
   "execution_count": 37,
   "id": "01abd202-e3a4-4da0-8923-229394d9f81a",
   "metadata": {},
   "outputs": [
    {
     "data": {
      "text/plain": [
       "array([[1.40085623, 1.04720925, 1.4505732 , ..., 1.26952259, 1.37277366,\n",
       "        1.69758009],\n",
       "       [1.06741091, 1.00793905, 1.07577167, ..., 1.04532488, 1.06268834,\n",
       "        1.11731015],\n",
       "       [1.38338023, 1.04515108, 1.43092971, ..., 1.2577723 , 1.35652197,\n",
       "        1.66716792],\n",
       "       ...,\n",
       "       [1.35785584, 1.04214505, 1.40223961, ..., 1.24061054, 1.33278573,\n",
       "        1.62274973],\n",
       "       [1.04503299, 1.00530358, 1.05061829, ..., 1.0302787 , 1.04187813,\n",
       "        1.07836753],\n",
       "       [1.37340972, 1.04397684, 1.41972258, ..., 1.25106845, 1.34724995,\n",
       "        1.64981697]])"
      ]
     },
     "execution_count": 37,
     "metadata": {},
     "output_type": "execute_result"
    }
   ],
   "source": [
    "calc_sigma_1(x_i, x_j)"
   ]
  },
  {
   "cell_type": "code",
   "execution_count": null,
   "id": "ec5cedc1-e19c-4472-80f7-0522549d942a",
   "metadata": {},
   "outputs": [],
   "source": []
  }
 ],
 "metadata": {
  "kernelspec": {
   "display_name": "Python 3",
   "language": "python",
   "name": "python3"
  },
  "language_info": {
   "codemirror_mode": {
    "name": "ipython",
    "version": 3
   },
   "file_extension": ".py",
   "mimetype": "text/x-python",
   "name": "python",
   "nbconvert_exporter": "python",
   "pygments_lexer": "ipython3",
   "version": "3.8.8"
  }
 },
 "nbformat": 4,
 "nbformat_minor": 5
}
