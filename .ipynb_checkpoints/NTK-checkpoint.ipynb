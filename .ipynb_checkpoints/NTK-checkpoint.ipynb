{
 "cells": [
  {
   "cell_type": "code",
   "execution_count": 1,
   "id": "c0b8c6a4-315b-4925-9089-b2ce85d2b8bc",
   "metadata": {},
   "outputs": [],
   "source": [
    "import numpy as np"
   ]
  },
  {
   "cell_type": "code",
   "execution_count": 2,
   "id": "59ec6167-1efc-4e55-b61e-d5b282b652ce",
   "metadata": {},
   "outputs": [],
   "source": [
    "\"\"\"\n",
    "1d input x_i and x_j, alias to x and x' in the paper\n",
    "for 2d input we should use np.meshgrid or np.mgrid\n",
    "\"\"\"\n",
    "\n",
    "num_input = 100\n",
    "\n",
    "x_i = np.linspace(0.0, 1.0, num=num_input)\n",
    "x_j = np.linspace(0.0, 1.0, num=num_input)\n",
    "\n",
    "# x_i = np.random.uniform(size=num_input)\n",
    "# x_j = np.random.uniform(size=num_input)\n",
    "\n",
    "# display(x_i)\n",
    "# display(x_j)\n"
   ]
  },
  {
   "cell_type": "code",
   "execution_count": 3,
   "id": "a6e5e6d5-2cf6-4585-9458-3da7cbf20ae8",
   "metadata": {},
   "outputs": [],
   "source": [
    "# take outer product of x_i and x_j to get 100 x 100 matrix\n",
    "# in the paper sigma was defined entry-wise, but we want to compute the matrix at once\n",
    "n_0 = 1\n",
    "beta = 0.01\n",
    "\n",
    "def calc_sigma_1(x_i, x_j):\n",
    "    return np.outer(x_i, x_j) / n_0 + beta**2\n",
    "\n",
    "# display(calc_sigma_1(x_i, x_j))"
   ]
  },
  {
   "cell_type": "code",
   "execution_count": 4,
   "id": "1d514972-b1af-4412-9991-07aaba5622d5",
   "metadata": {},
   "outputs": [],
   "source": [
    "\"\"\"\n",
    "f(x_i) and f(x_j) follow N(0, cov) where cov is a contatenation of 4 smaller matrices\n",
    "\"\"\"\n",
    "\n",
    "cov_ii = calc_sigma_1(x_i, x_i)\n",
    "cov_ij = calc_sigma_1(x_i, x_j)\n",
    "cov_ji = calc_sigma_1(x_j, x_i)\n",
    "cov_jj = calc_sigma_1(x_j, x_j)\n",
    "\n",
    "# cov_ij == cov_ji.T"
   ]
  },
  {
   "cell_type": "code",
   "execution_count": 5,
   "id": "0f5d1c0e-f652-4e14-9c19-d21204e04523",
   "metadata": {},
   "outputs": [
    {
     "data": {
      "text/plain": [
       "(200, 200)"
      ]
     },
     "metadata": {},
     "output_type": "display_data"
    }
   ],
   "source": [
    "# concatenate the 4 sigmas\n",
    "\n",
    "v1 = np.vstack((cov_ii, cov_ji))\n",
    "v2 = np.vstack((cov_ij, cov_jj))\n",
    "\n",
    "cov = np.hstack((v1, v2))\n",
    "\n",
    "display(cov.shape)\n",
    "# cov == cov.T"
   ]
  },
  {
   "cell_type": "code",
   "execution_count": 6,
   "id": "38a11913-d5b5-4c76-87a5-ae7a16da3297",
   "metadata": {},
   "outputs": [],
   "source": [
    "def is_pos_def(x):\n",
    "    return np.all(np.linalg.eigvals(x) > 0)\n",
    "\n",
    "# is_pos_def(cov)"
   ]
  },
  {
   "cell_type": "code",
   "execution_count": 7,
   "id": "7342b53b-e696-439f-8743-2f44ab29f82f",
   "metadata": {},
   "outputs": [],
   "source": [
    "\"\"\"\n",
    "gaol: approximate expectation using a finite sum and take the mean\n",
    "now sample Y_i, Y_j from this distribution N(0, cov)\n",
    "sample and compute outer product first, then take mean\n",
    "\"\"\"\n",
    "def calc_sigma_2(activation):\n",
    "    mean = [0] * 2 * num_input\n",
    "    num_samples = 1000\n",
    "    sum_N = np.zeros((num_input, num_input))\n",
    "    for i in range(num_samples):\n",
    "        sample = np.random.multivariate_normal(mean, cov, size=1)[0]\n",
    "        f_xi = sample[:num_input]\n",
    "#         f_xj = sample[num_input:]\n",
    "        prod = np.outer(activation(f_xi), activation(f_xi))\n",
    "#         print(prod == prod.T)\n",
    "        sum_N += np.outer(activation(f_xi), activation(f_xi))\n",
    "\n",
    "    sigma_2 = (sum_N / num_samples) + beta**2\n",
    "    \n",
    "    return sigma_2\n",
    "\n",
    "#     display(sigma_2)"
   ]
  },
  {
   "cell_type": "code",
   "execution_count": 8,
   "id": "480c0dd0-58f6-41b4-871b-580e4ede1aab",
   "metadata": {},
   "outputs": [],
   "source": [
    "\"\"\"\n",
    "activation functions and their derivatives\n",
    "\"\"\"\n",
    "\n",
    "def relu_kth(x, k):\n",
    "    return np.maximum(x**k, 0)\n",
    "\n",
    "def relu(x):\n",
    "    return np.maximum(x, 0)\n",
    "\n",
    "def d_relu(x):\n",
    "    return 1.0 * (x > 0)\n",
    "\n",
    "def d_relu_kth(x, k):\n",
    "    return k * x**(k-1) * (x > 0)\n",
    "\n",
    "# display(relu(f_xi))\n",
    "# display(d_relu(f_xi))\n"
   ]
  },
  {
   "cell_type": "code",
   "execution_count": 9,
   "id": "828b1381-6528-427a-9569-25c6579e9684",
   "metadata": {},
   "outputs": [],
   "source": [
    "\"\"\"\n",
    "Compute Theta 1 and 2 using Sigma\n",
    "\"\"\"\n",
    "\n",
    "THETA_1 = calc_sigma_1(x_i, x_j) # actually make a copy\n",
    "\n",
    "sigma_2 = calc_sigma_2(relu)\n",
    "sigma_2_prime = calc_sigma_2(d_relu)\n",
    "\n",
    "THETA_2 = np.multiply(THETA_1, sigma_2_prime) + sigma_2"
   ]
  },
  {
   "cell_type": "code",
   "execution_count": 10,
   "id": "8910f281-5fe0-4180-b770-5c899881552e",
   "metadata": {},
   "outputs": [
    {
     "data": {
      "text/plain": [
       "(100, 100)"
      ]
     },
     "metadata": {},
     "output_type": "display_data"
    },
    {
     "data": {
      "text/plain": [
       "(100, 100)"
      ]
     },
     "metadata": {},
     "output_type": "display_data"
    }
   ],
   "source": [
    "display(THETA_1.shape)\n",
    "display(THETA_2.shape)"
   ]
  },
  {
   "cell_type": "code",
   "execution_count": 11,
   "id": "03f8b2df-1164-4980-99b0-a790c99c9bee",
   "metadata": {},
   "outputs": [],
   "source": [
    "eigenvalues = np.linalg.eigvals(THETA_2)"
   ]
  },
  {
   "cell_type": "code",
   "execution_count": 12,
   "id": "26d53446-4707-4088-95c4-0eef8fbf2cd2",
   "metadata": {},
   "outputs": [
    {
     "data": {
      "text/plain": [
       "[<matplotlib.lines.Line2D at 0x1b85e52da60>]"
      ]
     },
     "execution_count": 12,
     "metadata": {},
     "output_type": "execute_result"
    },
    {
     "data": {
      "image/png": "[encoded data removed]",
      "text/plain": [
       "<Figure size 432x288 with 1 Axes>"
      ]
     },
     "metadata": {
      "needs_background": "light"
     },
     "output_type": "display_data"
    }
   ],
   "source": [
    "import matplotlib.pyplot as plt\n",
    "\n",
    "plt.plot(eigenvalues[1:])"
   ]
  },
  {
   "cell_type": "code",
   "execution_count": 13,
   "id": "81d25a41-3664-40eb-87da-83de06ce6c4d",
   "metadata": {},
   "outputs": [
    {
     "data": {
      "text/plain": [
       "array([3.33902780e+01, 2.97280542e-02, 8.62021354e-03, 3.70967685e-03,\n",
       "       2.55664191e-03, 1.32521485e-03, 1.05757510e-03, 7.62470377e-04,\n",
       "       6.77833878e-04, 4.21273595e-04, 2.82336623e-04, 1.70986045e-04,\n",
       "       1.44207360e-04, 1.43041598e-04, 9.75794464e-05, 7.66936806e-05,\n",
       "       6.93246768e-05, 6.67170058e-05, 5.14875312e-05, 3.79267501e-05,\n",
       "       3.60104971e-05, 2.86219654e-05, 2.13356142e-05, 1.86081437e-05,\n",
       "       1.51791187e-05, 1.46870381e-05, 1.36539496e-05, 1.04430404e-05,\n",
       "       8.56341227e-06, 7.47873350e-06, 4.20099664e-06, 2.70933813e-06,\n",
       "       1.54000322e-07, 3.31031317e-08, 1.61398701e-08, 6.17656350e-09,\n",
       "       5.26798191e-09, 3.37923257e-09, 8.07913929e-10, 2.83961524e-10,\n",
       "       2.69290513e-10, 1.73045634e-10, 1.28005418e-10, 1.23896886e-10,\n",
       "       5.47264305e-11, 3.47532322e-11, 2.68474130e-11, 2.73108283e-11,\n",
       "       9.39270664e-13, 6.91566048e-13, 6.02518209e-15, 5.39302981e-15,\n",
       "       5.30287047e-15, 5.12513188e-15, 5.01350081e-15, 3.81911085e-16,\n",
       "       4.91881700e-16, 5.38740850e-16, 6.81124694e-16, 4.74816418e-15,\n",
       "       4.64282396e-15, 4.59091602e-15, 4.47348497e-15, 8.99618777e-16,\n",
       "       4.19458344e-15, 4.05196240e-15, 4.02900006e-15, 3.97444984e-15,\n",
       "       1.06843833e-15, 1.16569142e-15, 3.80946364e-15, 1.33579927e-15,\n",
       "       1.38373152e-15, 1.45729270e-15, 3.70405808e-15, 1.58553632e-15,\n",
       "       1.63218489e-15, 3.54572074e-15, 1.82826678e-15, 1.86855913e-15,\n",
       "       1.93496150e-15, 1.96932476e-15, 2.07445187e-15, 2.20132448e-15,\n",
       "       2.18869328e-15, 3.41182344e-15, 3.38957683e-15, 3.33436051e-15,\n",
       "       3.24692937e-15, 3.15257404e-15, 3.05335059e-15, 2.37749097e-15,\n",
       "       2.47773599e-15, 2.50832757e-15, 2.55499772e-15, 2.66955857e-15,\n",
       "       2.69989770e-15, 2.80739038e-15, 2.91466162e-15, 2.89462043e-15])"
      ]
     },
     "execution_count": 13,
     "metadata": {},
     "output_type": "execute_result"
    }
   ],
   "source": [
    "eigenvalues"
   ]
  },
  {
   "cell_type": "code",
   "execution_count": 14,
   "id": "155a06db-e860-493d-b577-17657a11e298",
   "metadata": {},
   "outputs": [
    {
     "data": {
      "text/plain": [
       "array([[ True,  True,  True, ...,  True,  True,  True],\n",
       "       [ True,  True,  True, ...,  True,  True,  True],\n",
       "       [ True,  True,  True, ...,  True,  True,  True],\n",
       "       ...,\n",
       "       [ True,  True,  True, ...,  True,  True,  True],\n",
       "       [ True,  True,  True, ...,  True,  True,  True],\n",
       "       [ True,  True,  True, ...,  True,  True,  True]])"
      ]
     },
     "execution_count": 14,
     "metadata": {},
     "output_type": "execute_result"
    }
   ],
   "source": [
    "THETA_2 == THETA_2.T"
   ]
  },
  {
   "cell_type": "code",
   "execution_count": null,
   "id": "5dbed040-ab2c-47bf-8101-3e63fa52d872",
   "metadata": {},
   "outputs": [],
   "source": [
    "\"\"\"\n",
    "\n",
    "\"\"\""
   ]
  }
 ],
 "metadata": {
  "kernelspec": {
   "display_name": "Python 3",
   "language": "python",
   "name": "python3"
  },
  "language_info": {
   "codemirror_mode": {
    "name": "ipython",
    "version": 3
   },
   "file_extension": ".py",
   "mimetype": "text/x-python",
   "name": "python",
   "nbconvert_exporter": "python",
   "pygments_lexer": "ipython3",
   "version": "3.8.8"
  }
 },
 "nbformat": 4,
 "nbformat_minor": 5
}
