{
 "cells": [
  {
   "cell_type": "code",
   "execution_count": 17,
   "id": "c0b8c6a4-315b-4925-9089-b2ce85d2b8bc",
   "metadata": {},
   "outputs": [],
   "source": [
    "import numpy as np\n",
    "import matplotlib.pyplot as plt"
   ]
  },
  {
   "cell_type": "code",
   "execution_count": 2,
   "id": "59ec6167-1efc-4e55-b61e-d5b282b652ce",
   "metadata": {},
   "outputs": [],
   "source": [
    "\"\"\"\n",
    "1d input x_i and x_j, alias to x and x' in the paper\n",
    "for 2d input we should use np.meshgrid or np.mgrid\n",
    "\"\"\"\n",
    "\n",
    "num_input = 100\n",
    "\n",
    "x_i = np.linspace(0.0, 1.0, num=num_input)\n",
    "x_j = np.linspace(0.0, 1.0, num=num_input)\n",
    "\n",
    "# x_i = np.random.uniform(size=num_input)\n",
    "# x_j = np.random.uniform(size=num_input)\n",
    "\n",
    "# display(x_i)\n",
    "# display(x_j)\n"
   ]
  },
  {
   "cell_type": "code",
   "execution_count": 3,
   "id": "5f17e683-ad39-4e6a-8de8-c29f71e302a3",
   "metadata": {},
   "outputs": [],
   "source": [
    "\"\"\"\n",
    "activation functions and their derivatives\n",
    "\"\"\"\n",
    "\n",
    "def relu_kth(x, k):\n",
    "    return np.maximum(x**k, 0)\n",
    "\n",
    "def relu(x):\n",
    "    return np.maximum(x, 0)\n",
    "\n",
    "def d_relu(x):\n",
    "    return 1.0 * (x > 0)\n",
    "\n",
    "def d_relu_kth(x, k):\n",
    "    return k * x**(k-1) * (x > 0)\n",
    "\n",
    "# display(relu(f_xi))\n",
    "# display(d_relu(f_xi))\n"
   ]
  },
  {
   "cell_type": "code",
   "execution_count": 3,
   "id": "a6e5e6d5-2cf6-4585-9458-3da7cbf20ae8",
   "metadata": {},
   "outputs": [],
   "source": [
    "# take outer product of x_i and x_j to get 100 x 100 matrix\n",
    "# in the paper sigma was defined entry-wise, but we want to compute the matrix at once\n",
    "n_0 = 1\n",
    "beta = 0.01\n",
    "\n",
    "def calc_sigma_1(x_i, x_j):\n",
    "    return np.outer(x_i, x_j) / n_0 + beta**2\n",
    "\n",
    "# display(calc_sigma_1(x_i, x_j))"
   ]
  },
  {
   "cell_type": "code",
   "execution_count": 4,
   "id": "1d514972-b1af-4412-9991-07aaba5622d5",
   "metadata": {},
   "outputs": [],
   "source": [
    "\"\"\"\n",
    "f(x_i) and f(x_j) follow N(0, cov) where cov is a contatenation of 4 smaller matrices\n",
    "\"\"\"\n",
    "\n",
    "cov_ii = calc_sigma_1(x_i, x_i)\n",
    "cov_ij = calc_sigma_1(x_i, x_j)\n",
    "cov_ji = calc_sigma_1(x_j, x_i)\n",
    "cov_jj = calc_sigma_1(x_j, x_j)\n",
    "\n",
    "# cov_ij == cov_ji.T\n",
    "\n",
    "# concatenate the 4 sigmas\n",
    "\n",
    "v1 = np.vstack((cov_ii, cov_ji))\n",
    "v2 = np.vstack((cov_ij, cov_jj))\n",
    "\n",
    "cov = np.hstack((v1, v2))\n",
    "\n",
    "display(cov.shape)\n",
    "# cov == cov.T"
   ]
  },
  {
   "cell_type": "code",
   "execution_count": 6,
   "id": "38a11913-d5b5-4c76-87a5-ae7a16da3297",
   "metadata": {},
   "outputs": [],
   "source": [
    "def is_pos_def(x):\n",
    "    return np.all(np.linalg.eigvals(x) > 0)\n",
    "\n",
    "# is_pos_def(cov)"
   ]
  },
  {
   "cell_type": "code",
   "execution_count": 7,
   "id": "7342b53b-e696-439f-8743-2f44ab29f82f",
   "metadata": {},
   "outputs": [],
   "source": [
    "\"\"\"\n",
    "gaol: approximate expectation using a finite sum and take the mean\n",
    "now sample Y_i, Y_j from this distribution N(0, cov)\n",
    "sample and compute outer product first, then take mean\n",
    "\"\"\"\n",
    "def calc_sigma_2(activation):\n",
    "    mean = [0] * 2 * num_input\n",
    "    num_samples = 1000\n",
    "    sum_N = np.zeros((num_input, num_input))\n",
    "    for i in range(num_samples):\n",
    "        sample = np.random.multivariate_normal(mean, cov, size=1)[0]\n",
    "        f_xi = sample[:num_input]\n",
    "#         f_xj = sample[num_input:]\n",
    "        prod = np.outer(activation(f_xi), activation(f_xi))\n",
    "#         print(prod == prod.T)\n",
    "        sum_N += np.outer(activation(f_xi), activation(f_xi))\n",
    "\n",
    "    sigma_2 = (sum_N / num_samples) + beta**2\n",
    "    \n",
    "    return sigma_2\n",
    "\n",
    "#     display(sigma_2)"
   ]
  },
  {
   "cell_type": "code",
   "execution_count": 9,
   "id": "828b1381-6528-427a-9569-25c6579e9684",
   "metadata": {},
   "outputs": [],
   "source": [
    "\"\"\"\n",
    "Compute Theta 1 and 2 using Sigma\n",
    "\"\"\"\n",
    "\n",
    "THETA_1 = calc_sigma_1(x_i, x_j) # actually make a copy\n",
    "\n",
    "sigma_2 = calc_sigma_2(relu)\n",
    "sigma_2_prime = calc_sigma_2(d_relu)\n",
    "\n",
    "THETA_2 = np.multiply(THETA_1, sigma_2_prime) + sigma_2"
   ]
  },
  {
   "cell_type": "code",
   "execution_count": 10,
   "id": "8910f281-5fe0-4180-b770-5c899881552e",
   "metadata": {},
   "outputs": [
    {
     "data": {
      "text/plain": [
       "(100, 100)"
      ]
     },
     "metadata": {},
     "output_type": "display_data"
    },
    {
     "data": {
      "text/plain": [
       "(100, 100)"
      ]
     },
     "metadata": {},
     "output_type": "display_data"
    }
   ],
   "source": [
    "display(THETA_1.shape)\n",
    "display(THETA_2.shape)"
   ]
  },
  {
   "cell_type": "code",
   "execution_count": 12,
   "id": "26d53446-4707-4088-95c4-0eef8fbf2cd2",
   "metadata": {},
   "outputs": [
    {
     "data": {
      "text/plain": [
       "[<matplotlib.lines.Line2D at 0x1b85e52da60>]"
      ]
     },
     "execution_count": 12,
     "metadata": {},
     "output_type": "execute_result"
    },
    {
     "data": {
      "image/png": "[encoded data removed]",
      "text/plain": [
       "<Figure size 432x288 with 1 Axes>"
      ]
     },
     "metadata": {
      "needs_background": "light"
     },
     "output_type": "display_data"
    }
   ],
   "source": [
    "eigenvalues = np.linalg.eigvals(THETA_2)\n",
    "plt.plot(eigenvalues[1:])"
   ]
  },
  {
   "cell_type": "code",
   "execution_count": 36,
   "id": "5dbed040-ab2c-47bf-8101-3e63fa52d872",
   "metadata": {},
   "outputs": [],
   "source": [
    "\"\"\"\n",
    "Check results with another approach at\n",
    "https://papers.nips.cc/paper/2019/file/c4ef9c39b300931b69a36fb3dbb8d60e-Paper.pdf\n",
    "equation (3)-(5) and page 7 section 3.3\n",
    "\"\"\"\n",
    "\n",
    "# K(x, x') = <x, x'> E[sig'(<w, x>)sig'(<w, x'>)] + E[sig(<w, x>)sig(<w, x'>)]\n",
    "# E {w ~ N(0, 1)}\n",
    "def calc_NTK():\n",
    "    num_input = 100\n",
    "    x = np.linspace(0.0, 1.0, num=num_input)\n",
    "\n",
    "    num_samples = 1000\n",
    "    sum_part1 = np.zeros((num_input, num_input))\n",
    "    sum_part2 = np.zeros((num_input, num_input))\n",
    "\n",
    "    for i in range(num_samples):\n",
    "        # sample once from N(0, 1)\n",
    "        w1, w2 = np.random.normal(loc=0.0, scale=1.0, size=[2, num_input])\n",
    "        # <w, x> and <w, x'>\n",
    "        w1x = np.outer(w1, x)\n",
    "        w2x = np.outer(w2, x)\n",
    "        # sig'(<w, x>)sig'(<w, x'>)\n",
    "        part1 = np.multiply(d_relu(w1x), d_relu(w1x))\n",
    "        # sig(<w, x>)sig(<w, x'>)\n",
    "        part2 = np.multiply(relu(w2x), relu(w2x))\n",
    "\n",
    "        sum_part1 += part1\n",
    "        sum_part2 += part2\n",
    "\n",
    "    # <x, x'> => x == x'\n",
    "    xx = np.outer(x, x)\n",
    "    expectation_1 = (sum_part1 / num_samples)\n",
    "    expectation_2 = (sum_part2 / num_samples)\n",
    "    \n",
    "    # final step; 2 is the nomalization constant in equation (3)\n",
    "    res = 2 * ( np.multiply(xx, expectation_1) + expectation_2 )\n",
    "    \n",
    "    # eigenvalue decay\n",
    "    eigenvalues = np.linalg.eigvals(res)\n",
    "    plt.plot(eigenvalues[1:])"
   ]
  },
  {
   "cell_type": "code",
   "execution_count": 37,
   "id": "f1ccd636-9deb-4918-9bcd-f1d5c9890396",
   "metadata": {},
   "outputs": [
    {
     "name": "stderr",
     "output_type": "stream",
     "text": [
      "C:\\Users\\genglinliu\\anaconda3\\lib\\site-packages\\numpy\\core\\_asarray.py:102: ComplexWarning: Casting complex values to real discards the imaginary part\n",
      "  return array(a, dtype, copy=False, order=order)\n"
     ]
    },
    {
     "data": {
      "image/png": "[encoded data removed]",
      "text/plain": [
       "<Figure size 432x288 with 1 Axes>"
      ]
     },
     "metadata": {
      "needs_background": "light"
     },
     "output_type": "display_data"
    }
   ],
   "source": [
    "calc_NTK()"
   ]
  },
  {
   "cell_type": "code",
   "execution_count": null,
   "id": "7bfe1bf9-2d51-4c8a-816e-1275000892eb",
   "metadata": {},
   "outputs": [],
   "source": []
  }
 ],
 "metadata": {
  "kernelspec": {
   "display_name": "Python 3",
   "language": "python",
   "name": "python3"
  },
  "language_info": {
   "codemirror_mode": {
    "name": "ipython",
    "version": 3
   },
   "file_extension": ".py",
   "mimetype": "text/x-python",
   "name": "python",
   "nbconvert_exporter": "python",
   "pygments_lexer": "ipython3",
   "version": "3.8.8"
  }
 },
 "nbformat": 4,
 "nbformat_minor": 5
}
