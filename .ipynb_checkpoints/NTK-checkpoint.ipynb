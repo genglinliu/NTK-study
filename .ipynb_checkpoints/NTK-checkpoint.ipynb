{
 "cells": [
  {
   "cell_type": "code",
   "execution_count": 1,
   "id": "c0b8c6a4-315b-4925-9089-b2ce85d2b8bc",
   "metadata": {},
   "outputs": [],
   "source": [
    "import numpy as np"
   ]
  },
  {
   "cell_type": "code",
   "execution_count": 65,
   "id": "59ec6167-1efc-4e55-b61e-d5b282b652ce",
   "metadata": {},
   "outputs": [
    {
     "data": {
      "text/plain": [
       "array([0.1, 0.2, 0.3, 0.4, 0.5])"
      ]
     },
     "metadata": {},
     "output_type": "display_data"
    },
    {
     "data": {
      "text/plain": [
       "array([0.6, 0.7, 0.8, 0.9, 1. ])"
      ]
     },
     "metadata": {},
     "output_type": "display_data"
    }
   ],
   "source": [
    "num_input = 5\n",
    "\n",
    "x_i = np.linspace(0.1, 0.5, num=num_input)\n",
    "x_j = np.linspace(0.6, 1.0, num=num_input)\n",
    "\n",
    "display(x_i)\n",
    "display(x_j)\n"
   ]
  },
  {
   "cell_type": "code",
   "execution_count": 66,
   "id": "a6e5e6d5-2cf6-4585-9458-3da7cbf20ae8",
   "metadata": {},
   "outputs": [
    {
     "data": {
      "text/plain": [
       "array([[0.07, 0.08, 0.09, 0.1 , 0.11],\n",
       "       [0.13, 0.15, 0.17, 0.19, 0.21],\n",
       "       [0.19, 0.22, 0.25, 0.28, 0.31],\n",
       "       [0.25, 0.29, 0.33, 0.37, 0.41],\n",
       "       [0.31, 0.36, 0.41, 0.46, 0.51]])"
      ]
     },
     "metadata": {},
     "output_type": "display_data"
    }
   ],
   "source": [
    "# outer product of x_i and x_j to get 100 x 100 matrix\n",
    "# in the paper sigma was defined entry-wise, but we want to compute the matrix at once\n",
    "n_0 = 1\n",
    "beta = 0.1\n",
    "\n",
    "def calc_sigma_1(x_i, x_j):\n",
    "    return np.outer(x_i, x_j) / n_0 + beta**2\n",
    "\n",
    "display(calc_sigma_1(x_i, x_j))"
   ]
  },
  {
   "cell_type": "code",
   "execution_count": 67,
   "id": "1d514972-b1af-4412-9991-07aaba5622d5",
   "metadata": {},
   "outputs": [],
   "source": [
    "# f(x_i) and f(x_j) follow N(0, cov) where cov is a contatenation of 4 smaller matrices\n",
    "\n",
    "cov_ii = calc_sigma_1(x_i, x_i)\n",
    "cov_ij = calc_sigma_1(x_i, x_j)\n",
    "cov_ji = calc_sigma_1(x_j, x_i)\n",
    "cov_jj = calc_sigma_1(x_j, x_j)\n",
    "\n",
    "# they are all equal because x_i == x_j for now"
   ]
  },
  {
   "cell_type": "code",
   "execution_count": 68,
   "id": "0f5d1c0e-f652-4e14-9c19-d21204e04523",
   "metadata": {},
   "outputs": [
    {
     "data": {
      "text/plain": [
       "(10, 10)"
      ]
     },
     "metadata": {},
     "output_type": "display_data"
    }
   ],
   "source": [
    "# concatenate\n",
    "\n",
    "v1 = np.vstack((cov_ii, cov_ji))\n",
    "v2 = np.vstack((cov_ij, cov_jj))\n",
    "\n",
    "cov = np.hstack((v1, v2))\n",
    "\n",
    "display(cov.shape)"
   ]
  },
  {
   "cell_type": "code",
   "execution_count": 69,
   "id": "b90ba849-c433-4fd1-87b5-35e6cacaee56",
   "metadata": {},
   "outputs": [
    {
     "data": {
      "text/plain": [
       "array([-0.000281  ,  0.03377949,  0.06783998,  0.10190046,  0.13596095])"
      ]
     },
     "metadata": {},
     "output_type": "display_data"
    },
    {
     "data": {
      "text/plain": [
       "array([0.17002143, 0.20408192, 0.23814241, 0.2722029 , 0.30626339])"
      ]
     },
     "metadata": {},
     "output_type": "display_data"
    }
   ],
   "source": [
    "# now sample Y_i, Y_j from this distribution N(0, cov)\n",
    "mean = [0] * 2 * num_input\n",
    "\n",
    "# sample once\n",
    "sample = np.random.multivariate_normal(mean, cov, size=1, check_valid='warn')[0]\n",
    "f_xi = sample[:num_input]\n",
    "f_xj = sample[num_input:]\n",
    "display(f_xi)\n",
    "display(f_xj)"
   ]
  },
  {
   "cell_type": "code",
   "execution_count": 70,
   "id": "7342b53b-e696-439f-8743-2f44ab29f82f",
   "metadata": {},
   "outputs": [
    {
     "data": {
      "text/plain": [
       "array([0.        , 0.03377949, 0.06783998, 0.10190046, 0.13596095])"
      ]
     },
     "metadata": {},
     "output_type": "display_data"
    },
    {
     "data": {
      "text/plain": [
       "array([0., 1., 1., 1., 1.])"
      ]
     },
     "metadata": {},
     "output_type": "display_data"
    }
   ],
   "source": [
    "def relu_kth(x, k):\n",
    "    return np.maximum(x**k, 0)\n",
    "\n",
    "def relu(x):\n",
    "    return np.maximum(x, 0)\n",
    "\n",
    "def d_relu(x):\n",
    "    return 1.0 * (x > 0)\n",
    "\n",
    "def d_relu_kth(x, k):\n",
    "    return k * x**(k-1) * (x > 0)\n",
    "\n",
    "display(relu(f_xi))\n",
    "display(d_relu(f_xi))\n"
   ]
  },
  {
   "cell_type": "code",
   "execution_count": 71,
   "id": "a5735a2f-2775-45b2-9db0-c6fb093fc706",
   "metadata": {},
   "outputs": [],
   "source": [
    "# gaol: approximate expectation using a finite sum and take the mean"
   ]
  },
  {
   "cell_type": "code",
   "execution_count": 83,
   "id": "94d276a0-905d-4cfd-a2bf-b35a76022de5",
   "metadata": {},
   "outputs": [],
   "source": [
    "# sigma_2 = np.outer(relu(f_xi), relu(f_xj)) + beta**2\n",
    "\n",
    "# approach 1: sample and compute outer product first, then take mean\n",
    "def calc_sigma_2(activation):\n",
    "    num_samples = 100\n",
    "    sum_N = np.zeros((num_input, num_input))\n",
    "\n",
    "    for i in range(num_samples):\n",
    "        sample = np.random.multivariate_normal(mean, cov, size=1)[0]\n",
    "        f_xi = sample[:num_input]\n",
    "        f_xj = sample[num_input:]\n",
    "        sum_N += np.outer(activation(f_xi), activation(f_xj))\n",
    "\n",
    "    sigma_2 = (sum_N / num_samples) + beta**2\n",
    "    \n",
    "    return sigma_2\n",
    "\n",
    "#     display(sigma_2)"
   ]
  },
  {
   "cell_type": "code",
   "execution_count": 84,
   "id": "53939ad2-f9ee-40b3-a970-b3273dbdd530",
   "metadata": {},
   "outputs": [],
   "source": [
    "# approach 2: vectorize the sampling and take mean of activated f, then do outer product\n",
    "def calc_sigma_2(activation):\n",
    "    s = np.random.multivariate_normal(mean, cov, size=num_samples)\n",
    "    # s: (num_samples, 10)\n",
    "\n",
    "    f_xi = s[:, :num_input]\n",
    "    f_xj = s[:, num_input:]\n",
    "\n",
    "    # we may take the mean of the relu and then do outer product\n",
    "    sig_f_xi = np.mean(activation(f_xi), axis=0)\n",
    "    sig_f_xj = np.mean(activation(f_xj), axis=0)\n",
    "\n",
    "    sigma_2 = np.outer(sig_f_xi, sig_f_xj) + beta**2\n",
    "    \n",
    "    return sigma_2\n",
    "\n",
    "#     display(sigma_2)"
   ]
  },
  {
   "cell_type": "code",
   "execution_count": 85,
   "id": "828b1381-6528-427a-9569-25c6579e9684",
   "metadata": {},
   "outputs": [],
   "source": [
    "THETA_1 = calc_sigma_1(x_i, x_j) # actually make a copy\n",
    "\n",
    "sigma_2 = calc_sigma_2(relu)\n",
    "sigma_2_prime = calc_sigma_2(d_relu)\n",
    "\n",
    "THETA_2 = np.multiply(THETA_1, sigma_2_prime) + sigma_2"
   ]
  },
  {
   "cell_type": "code",
   "execution_count": 89,
   "id": "8910f281-5fe0-4180-b770-5c899881552e",
   "metadata": {},
   "outputs": [
    {
     "data": {
      "text/plain": [
       "array([[0.07, 0.08, 0.09, 0.1 , 0.11],\n",
       "       [0.13, 0.15, 0.17, 0.19, 0.21],\n",
       "       [0.19, 0.22, 0.25, 0.28, 0.31],\n",
       "       [0.25, 0.29, 0.33, 0.37, 0.41],\n",
       "       [0.31, 0.36, 0.41, 0.46, 0.51]])"
      ]
     },
     "metadata": {},
     "output_type": "display_data"
    },
    {
     "data": {
      "text/plain": [
       "array([[0.04525108, 0.05107664, 0.0560382 , 0.06143176, 0.06683854],\n",
       "       [0.07499284, 0.08617807, 0.09574331, 0.10611854, 0.11651788],\n",
       "       [0.10658508, 0.123453  , 0.13790092, 0.15355884, 0.16925252],\n",
       "       [0.13647174, 0.15871325, 0.17782276, 0.19849827, 0.21922156],\n",
       "       [0.16742307, 0.1952285 , 0.21914592, 0.24500735, 0.27092859]])"
      ]
     },
     "metadata": {},
     "output_type": "display_data"
    }
   ],
   "source": [
    "display(THETA_1)\n",
    "display(THETA_2)"
   ]
  },
  {
   "cell_type": "code",
   "execution_count": null,
   "id": "389b0259-c843-4992-b242-ab25e132d758",
   "metadata": {},
   "outputs": [],
   "source": []
  }
 ],
 "metadata": {
  "kernelspec": {
   "display_name": "Python 3",
   "language": "python",
   "name": "python3"
  },
  "language_info": {
   "codemirror_mode": {
    "name": "ipython",
    "version": 3
   },
   "file_extension": ".py",
   "mimetype": "text/x-python",
   "name": "python",
   "nbconvert_exporter": "python",
   "pygments_lexer": "ipython3",
   "version": "3.8.8"
  }
 },
 "nbformat": 4,
 "nbformat_minor": 5
}
