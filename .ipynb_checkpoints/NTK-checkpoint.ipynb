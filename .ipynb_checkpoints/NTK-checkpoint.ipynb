{
 "cells": [
  {
   "cell_type": "code",
   "execution_count": 7,
   "id": "c0b8c6a4-315b-4925-9089-b2ce85d2b8bc",
   "metadata": {},
   "outputs": [],
   "source": [
    "import numpy as np\n",
    "import matplotlib.pyplot as plt"
   ]
  },
  {
   "cell_type": "code",
   "execution_count": 2,
   "id": "5f17e683-ad39-4e6a-8de8-c29f71e302a3",
   "metadata": {},
   "outputs": [],
   "source": [
    "\"\"\"\n",
    "activation functions and their derivatives\n",
    "\"\"\"\n",
    "\n",
    "def relu_kth(x, k):\n",
    "    return np.maximum(x**k, 0)\n",
    "\n",
    "def relu(x):\n",
    "    return np.maximum(x, 0)\n",
    "\n",
    "def d_relu(x):\n",
    "    return 1.0 * (x > 0)\n",
    "\n",
    "def d_relu_kth(x, k):\n",
    "    return k * x**(k-1) * (x > 0)\n",
    "\n",
    "# display(relu(f_xi))\n",
    "# display(d_relu(f_xi))\n"
   ]
  },
  {
   "cell_type": "code",
   "execution_count": 2,
   "id": "59ec6167-1efc-4e55-b61e-d5b282b652ce",
   "metadata": {},
   "outputs": [],
   "source": [
    "\"\"\"\n",
    "1d input x_i and x_j, alias to x and x' in the paper\n",
    "for 2d input we should use np.meshgrid or np.mgrid\n",
    "\"\"\"\n",
    "\n",
    "num_input = 100\n",
    "\n",
    "x_i = np.linspace(0.0, 1.0, num=num_input)\n",
    "x_j = np.linspace(0.0, 1.0, num=num_input)\n",
    "# x = np.random.uniform(size=num_input)\n",
    "\n",
    "# take outer product of x_i and x_j to get 100 x 100 matrix\n",
    "# in the paper sigma was defined entry-wise, but we want to compute the matrix at once\n",
    "n_0 = 1\n",
    "beta = 0.01\n",
    "\n",
    "def calc_sigma_1(x_i, x_j):\n",
    "    return np.outer(x_i, x_j) / n_0 + beta**2"
   ]
  },
  {
   "cell_type": "code",
   "execution_count": 4,
   "id": "1d514972-b1af-4412-9991-07aaba5622d5",
   "metadata": {},
   "outputs": [],
   "source": [
    "\"\"\"\n",
    "f(x_i) and f(x_j) follow N(0, cov) where cov is a contatenation of 4 smaller matrices\n",
    "\"\"\"\n",
    "cov_ii = calc_sigma_1(x_i, x_i)\n",
    "cov_ij = calc_sigma_1(x_i, x_j)\n",
    "cov_ji = calc_sigma_1(x_j, x_i)\n",
    "cov_jj = calc_sigma_1(x_j, x_j)\n",
    "\n",
    "# concatenate the 4 sigmas\n",
    "v1 = np.vstack((cov_ii, cov_ji))\n",
    "v2 = np.vstack((cov_ij, cov_jj))\n",
    "\n",
    "cov = np.hstack((v1, v2))"
   ]
  },
  {
   "cell_type": "code",
   "execution_count": 6,
   "id": "38a11913-d5b5-4c76-87a5-ae7a16da3297",
   "metadata": {},
   "outputs": [],
   "source": [
    "def is_pos_def(x):\n",
    "    return np.all(np.linalg.eigvals(x) > 0)"
   ]
  },
  {
   "cell_type": "code",
   "execution_count": 7,
   "id": "7342b53b-e696-439f-8743-2f44ab29f82f",
   "metadata": {},
   "outputs": [],
   "source": [
    "\"\"\"\n",
    "gaol: approximate expectation using a finite sum and take the mean\n",
    "now sample Y_i, Y_j from this distribution N(0, cov)\n",
    "sample and compute outer product first, then take mean\n",
    "\"\"\"\n",
    "def calc_sigma_2(activation):\n",
    "    mean = [0] * 2 * num_input\n",
    "    num_samples = 1000\n",
    "    sum_N = np.zeros((num_input, num_input))\n",
    "    for i in range(num_samples):\n",
    "        sample = np.random.multivariate_normal(mean, cov, size=1)[0]\n",
    "        f_xi = sample[:num_input]\n",
    "        prod = np.outer(activation(f_xi), activation(f_xi))\n",
    "        sum_N += np.outer(activation(f_xi), activation(f_xi))\n",
    "\n",
    "    sigma_2 = (sum_N / num_samples) + beta**2\n",
    "    \n",
    "    return sigma_2"
   ]
  },
  {
   "cell_type": "code",
   "execution_count": 9,
   "id": "828b1381-6528-427a-9569-25c6579e9684",
   "metadata": {},
   "outputs": [],
   "source": [
    "\"\"\"\n",
    "Compute Theta 1 and 2 using Sigma\n",
    "\"\"\"\n",
    "\n",
    "THETA_1 = calc_sigma_1(x_i, x_j)\n",
    "\n",
    "sigma_2 = calc_sigma_2(relu)\n",
    "sigma_2_prime = calc_sigma_2(d_relu)\n",
    "\n",
    "THETA_2 = np.multiply(THETA_1, sigma_2_prime) + sigma_2\n",
    "\n",
    "eigenvalues = np.linalg.eigvals(THETA_2)\n",
    "plt.plot(eigenvalues[1:])"
   ]
  },
  {
   "cell_type": "code",
   "execution_count": 25,
   "id": "5dbed040-ab2c-47bf-8101-3e63fa52d872",
   "metadata": {},
   "outputs": [],
   "source": [
    "\"\"\"\n",
    "Numerical approach at\n",
    "https://papers.nips.cc/paper/2019/file/c4ef9c39b300931b69a36fb3dbb8d60e-Paper.pdf\n",
    "equation (3) on page 3 and section 3.3 on page 7 \n",
    "\"\"\"\n",
    "\n",
    "# K(x, x') = <x, x'> E[sig'(<w, x>)sig'(<w, x'>)] + E[sig(<w, x>)sig(<w, x'>)]\n",
    "# E {w ~ N(0, 1)}\n",
    "\n",
    "def numerical_kernel_entry(x, y, num_samples=1000):\n",
    "\n",
    "    w1, w2 = np.random.normal(0.0, 1.0, size=[2, num_samples])\n",
    "\n",
    "    w1x = w1 * x\n",
    "    w1y = w1 * y\n",
    "    sigma_w1x = relu(w1x)\n",
    "    sigma_w1y = relu(w1y)\n",
    "\n",
    "    w2x = w2 * x\n",
    "    w2y = w2 * y\n",
    "    sigma_w2x = relu(w2x)\n",
    "    sigma_w2y = relu(w2y)\n",
    "\n",
    "    expection_1 = sigma_w1x.dot(sigma_w1y) / num_samples\n",
    "    expection_2 = sigma_w2x.dot(sigma_w2y) / num_samples\n",
    "    \n",
    "    return (x * y) * expection_1 + expection_2"
   ]
  },
  {
   "cell_type": "code",
   "execution_count": 26,
   "id": "7bfe1bf9-2d51-4c8a-816e-1275000892eb",
   "metadata": {},
   "outputs": [],
   "source": [
    "\"\"\"\n",
    "analytic solution: Equation (4)-(5) on page 3\n",
    "\n",
    "u = <x, x'> / ||x|| ||x'||\n",
    "\n",
    "k(u) = u k_0(u) + k_1(u)\n",
    "\n",
    "k_0 = 1/pi (pi - arccos(u))\n",
    "k_1 = 1/pi (u (pi - arccos(u)) + sqrt(1 - u^2))\n",
    "\n",
    "assuming x == x'\n",
    "\"\"\"\n",
    "\n",
    "def kappa(u):\n",
    "    pi = np.pi\n",
    "    k_0 = (1/pi) * (pi - np.arccos(u))\n",
    "    k_1 = (1/pi) * (u * (pi - np.arccos(u)) + np.sqrt(1 - u**2))\n",
    "    return u * k_0 + k_1\n",
    "\n",
    "def analytic_kernel_entry(x, y):\n",
    "    norm_prod = np.linalg.norm(x) * np.linalg.norm(y)\n",
    "    inner_prod = x * y\n",
    "    u = inner_prod / norm_prod\n",
    "    return norm_prod * kappa(u)"
   ]
  },
  {
   "cell_type": "code",
   "execution_count": 33,
   "id": "e7cc7921-f748-46e8-9e8c-3f08cf1199b7",
   "metadata": {},
   "outputs": [],
   "source": [
    "# execute\n",
    "def calc_NTK(kernel_entry_func):\n",
    "    num_inputs = 100\n",
    "    x = np.linspace(-1.0, 1.0, num=num_inputs)\n",
    "\n",
    "    # make kernel\n",
    "    kernel = np.zeros((num_inputs, num_inputs))\n",
    "\n",
    "    for i in range(num_inputs):\n",
    "        for j in range(num_inputs):\n",
    "            kernel[i][j] = kernel_entry_func(x[i], x[j])\n",
    "    \n",
    "    # sort eigenvalues in descending order\n",
    "    eigenvalues = np.linalg.eigvals(kernel)\n",
    "    sorted_eigenvalues = np.sort(np.linalg.eigvals(kernel))[::-1] \n",
    "    plt.plot(eigenvalues)"
   ]
  },
  {
   "cell_type": "code",
   "execution_count": 34,
   "id": "6e033687-b8ab-49ed-bf7a-cc015e559f0e",
   "metadata": {},
   "outputs": [
    {
     "name": "stderr",
     "output_type": "stream",
     "text": [
      "C:\\Users\\genglinliu\\anaconda3\\lib\\site-packages\\numpy\\core\\_asarray.py:102: ComplexWarning: Casting complex values to real discards the imaginary part\n",
      "  return array(a, dtype, copy=False, order=order)\n"
     ]
    },
    {
     "data": {
      "image/png": "[encoded data removed]",
      "text/plain": [
       "<Figure size 432x288 with 1 Axes>"
      ]
     },
     "metadata": {
      "needs_background": "light"
     },
     "output_type": "display_data"
    }
   ],
   "source": [
    "calc_NTK(numerical_kernel_entry)"
   ]
  },
  {
   "cell_type": "code",
   "execution_count": 35,
   "id": "69f24a22-e334-41dc-bacb-bd3bda6b766d",
   "metadata": {},
   "outputs": [
    {
     "name": "stderr",
     "output_type": "stream",
     "text": [
      "C:\\Users\\genglinliu\\anaconda3\\lib\\site-packages\\numpy\\core\\_asarray.py:102: ComplexWarning: Casting complex values to real discards the imaginary part\n",
      "  return array(a, dtype, copy=False, order=order)\n"
     ]
    },
    {
     "data": {
      "image/png": "[encoded data removed]",
      "text/plain": [
       "<Figure size 432x288 with 1 Axes>"
      ]
     },
     "metadata": {
      "needs_background": "light"
     },
     "output_type": "display_data"
    }
   ],
   "source": [
    "calc_NTK(analytic_kernel_entry)"
   ]
  },
  {
   "cell_type": "code",
   "execution_count": null,
   "id": "64999247-a67d-4141-8820-ec7bfb327ba2",
   "metadata": {},
   "outputs": [],
   "source": []
  }
 ],
 "metadata": {
  "kernelspec": {
   "display_name": "Python 3",
   "language": "python",
   "name": "python3"
  },
  "language_info": {
   "codemirror_mode": {
    "name": "ipython",
    "version": 3
   },
   "file_extension": ".py",
   "mimetype": "text/x-python",
   "name": "python",
   "nbconvert_exporter": "python",
   "pygments_lexer": "ipython3",
   "version": "3.8.8"
  }
 },
 "nbformat": 4,
 "nbformat_minor": 5
}
