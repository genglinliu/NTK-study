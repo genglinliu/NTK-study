{
 "cells": [
  {
   "cell_type": "markdown",
   "id": "6b691d46-0434-470b-bef1-da2782b81f51",
   "metadata": {},
   "source": [
    "#### [NTK paper](https://papers.nips.cc/paper/2019/file/c4ef9c39b300931b69a36fb3dbb8d60e-Paper.pdf)\n",
    "\n",
    "#### [REU overleaf doc](https://www.overleaf.com/project/606a0e1c8d7e5e3b95b62e9a)\n",
    "\n",
    "#### [GitHub Repo for this project](https://github.com/genglinliu/NTK-study)"
   ]
  },
  {
   "cell_type": "code",
   "execution_count": 1,
   "id": "e97e2436-bdb9-4a84-b08b-e2f3f2eb270e",
   "metadata": {},
   "outputs": [],
   "source": [
    "import numpy as np\n",
    "import matplotlib.pyplot as plt\n",
    "\n",
    "from tqdm import tqdm\n",
    "\n",
    "import warnings\n",
    "warnings.filterwarnings('ignore')"
   ]
  },
  {
   "cell_type": "markdown",
   "id": "33656182-de61-48e9-a206-0253038273d6",
   "metadata": {},
   "source": [
    "#### Initialize Input Vectors, activation functions and helper functions"
   ]
  },
  {
   "cell_type": "code",
   "execution_count": 2,
   "id": "8db7d78b-b9e2-4892-9db3-9f90a65f38cb",
   "metadata": {},
   "outputs": [],
   "source": [
    "\"\"\"\n",
    "activation functions and their derivatives\n",
    "\"\"\"\n",
    "\n",
    "def relu_k(x, k):\n",
    "    return np.maximum(x**k, 0)\n",
    "\n",
    "def d_relu_k(x, k):\n",
    "    return k * x**(k-1) * (x > 0)\n",
    "\n",
    "def relu(x):\n",
    "    return np.maximum(x, 0)\n",
    "\n",
    "def d_relu(x):\n",
    "    return 1.0 * (x > 0)\n",
    "\n",
    "def sin(x, k=None):\n",
    "    return np.sin(x)\n",
    "\n",
    "def cos(x, k=None):\n",
    "    return np.cos(x)\n",
    "\n",
    "def d_cos(x, k=None):\n",
    "    return -np.sin(x)"
   ]
  },
  {
   "cell_type": "code",
   "execution_count": 3,
   "id": "e10a46b1-8053-4209-99d3-64f42324f422",
   "metadata": {},
   "outputs": [],
   "source": [
    "def init_inputs(num_inputs=200):\n",
    "    # sin(theta) and cos(theta), theta ~ (0, 2*pi) uniformly sampled\n",
    "    # take 100 points on the unit circle\n",
    "    theta = np.linspace(0.0, 2 * np.pi, num=num_inputs)\n",
    "    x = np.asarray((np.cos(theta), np.sin(theta))) # (2, 100)\n",
    "    return x"
   ]
  },
  {
   "cell_type": "code",
   "execution_count": 4,
   "id": "80ecaed9-1e2d-4caf-a11f-5d45dfc62b96",
   "metadata": {},
   "outputs": [],
   "source": [
    "# check kernel symmetry and positive definitiveness\n",
    "def check(matrix, tol=1e-10):\n",
    "    if not np.all(np.abs(matrix-matrix.T) < tol):\n",
    "        print(\"warning: kernel is not symmetric\")\n",
    "    if not np.all(np.linalg.eigvals(matrix) >= -tol):\n",
    "        print(\"warning: kernel is not positive semi-definite\")"
   ]
  },
  {
   "cell_type": "markdown",
   "id": "32136c4b-d1b4-46fa-ab58-1981a01b1642",
   "metadata": {},
   "source": [
    "#### Analytical Solution for ReLU NTK"
   ]
  },
  {
   "cell_type": "code",
   "execution_count": 5,
   "id": "cf4c9a30-e79a-4126-a52e-2ecad82e95e8",
   "metadata": {},
   "outputs": [],
   "source": [
    "\"\"\"\n",
    "analytic solution: Equation (4)-(5) on page 3\n",
    "\n",
    "u = <x, x'> / ||x|| ||x'||\n",
    "\n",
    "k(u) = u k_0(u) + k_1(u)\n",
    "\n",
    "k_0 = 1/pi (pi - arccos(u))\n",
    "k_1 = 1/pi (u (pi - arccos(u)) + sqrt(1 - u^2))\n",
    "\n",
    "assuming x == x'\n",
    "\n",
    "norm = np.linalg.norm(x, axis=0) # (100,)\n",
    "norm_prod = np.outer(norm, norm) # (100, 100)\n",
    "but norms are all 1 in theory but their numerical values are unstable\n",
    "so we don't include norm_prod in the actual calculation\n",
    "\"\"\"\n",
    "\n",
    "def kappa(u):\n",
    "    pi = np.pi\n",
    "    k_0 = (1/pi) * (pi - np.arccos(u))\n",
    "    k_1 = (1/pi) * (u * (pi - np.arccos(u)) + np.sqrt(1 - u**2))\n",
    "    return u * k_0 + k_1\n",
    "\n",
    "def calc_NTK_analytical():\n",
    "    x = init_inputs() # (2, 100)\n",
    "\n",
    "    inner_prod = np.dot(x.T, x) # (100, 100)\n",
    "    inner_prod[inner_prod > 1.0] = 1.0 # numerical fix => values slightly > 1 will be capped\n",
    "\n",
    "    u = inner_prod\n",
    "    kernel = kappa(u)\n",
    "    check(kernel)\n",
    "    \n",
    "    return kernel"
   ]
  },
  {
   "cell_type": "markdown",
   "id": "5e17480b-860f-48fb-886d-bf479f22d092",
   "metadata": {},
   "source": [
    "#### Numerical Approximation for ReLU NTK"
   ]
  },
  {
   "cell_type": "code",
   "execution_count": 6,
   "id": "689bfa6a-cead-4f7a-a3f5-c1be2c1a2c7b",
   "metadata": {},
   "outputs": [],
   "source": [
    "def calc_NTK_numerical(activation='relu_k', k=1):\n",
    "    \"\"\"\n",
    "    numerical kernel calculation - vectorized version\n",
    "\n",
    "    https://papers.nips.cc/paper/2019/file/c4ef9c39b300931b69a36fb3dbb8d60e-Paper.pdf\n",
    "    equation (3) on page 3 and section 3.3 on page 7 \n",
    "\n",
    "    x, y are vectors\n",
    "    activation = ['relu_k', 'sin', 'cos']\n",
    "    d_activation is the derivative of activation function\n",
    "\n",
    "    k=1 means regular relu\n",
    "\n",
    "    K(x, x') = <x, x'> E[sig'(<w, x>)sig'(<w, x'>)] + E[sig(<w, x>)sig(<w, x'>)]\n",
    "    E {w ~ N(0, 1)}\n",
    "\n",
    "    \"\"\"\n",
    "    # init input\n",
    "    x = init_inputs() # (2, 100)\n",
    "    \n",
    "    num_inputs = x.shape[1]\n",
    "    # init kernel and weight\n",
    "    kernel = np.zeros((num_inputs, num_inputs))\n",
    "    num_samples = 40000\n",
    "    w1, w2 = np.random.normal(0.0, 1.0, size=[2, num_samples, 2]) # (1000, 2)\n",
    "\n",
    "    xx = np.dot(x.T, x) #(100, 100)\n",
    "    xx[xx > 1.0] = 1.0\n",
    "\n",
    "    w1x = np.dot(w1, x) # (num_samples, 100)\n",
    "    w2x = np.dot(w2, x) # (num_samples, 100)\n",
    "\n",
    "    if activation == 'relu_k':\n",
    "        activation_func = relu_k\n",
    "        d_activation = d_relu_k\n",
    "    elif activation == 'sin':\n",
    "        activation_func = sin\n",
    "        d_activation = cos\n",
    "    elif activation == 'cos':\n",
    "        activation_func = cos\n",
    "        d_activation = d_cos        \n",
    "\n",
    "    sigma_w1x = np.asarray(activation_func(w1x, k)) # (num_samples, 100)\n",
    "    sigma_w2x = np.asarray(d_activation(w2x, k))    # (num_samples, 100)\n",
    "\n",
    "    expection_1 = np.dot(sigma_w1x.T, sigma_w1x) / num_samples\n",
    "    expection_2 = np.dot(sigma_w2x.T, sigma_w2x) / num_samples\n",
    "\n",
    "    kernel = 2 * xx * expection_2 + 2 * expection_1\n",
    "   \n",
    "    check(kernel)\n",
    "    \n",
    "    return kernel"
   ]
  },
  {
   "cell_type": "markdown",
   "id": "7f049eec-ff1b-48c1-baaf-269959381d7a",
   "metadata": {},
   "source": [
    "#### Numerical Approximation to Laplace Kernel "
   ]
  },
  {
   "cell_type": "code",
   "execution_count": 7,
   "id": "4da690ad-5a03-48cf-a7f2-8185d06e95b7",
   "metadata": {},
   "outputs": [],
   "source": [
    "# calculate Laplace Kernel\n",
    "\n",
    "def laplace_kernel_entry(x, y, alpha, beta, sigma):\n",
    "    \"\"\"\n",
    "    x are y in R^2\n",
    "\n",
    "    old version(deprecated): K(x, y) = exp(-||x - y||^a / sigma)\n",
    "    \n",
    "    current version: Laplacian(x, y) = (||x - y||^b) exp(-||x - y||^a) \n",
    "    where sigma doesn't matter and ||x - y||^b serves as a regularization term\n",
    "    \n",
    "    TODO: define |x-y|^alpha\n",
    "    find alpha that matches slope of ReLU k decay for different k\n",
    "    \n",
    "    k=1 ----> alpha = 1\n",
    "    k=2 ----> alpha = ?\n",
    "    k=n ----> alpha = f(n)\n",
    "    \"\"\"\n",
    "    norm = np.linalg.norm(x - y)\n",
    "    beta_term = norm**beta \n",
    "    return  beta_term * np.exp(-norm**alpha / sigma)\n",
    "\n",
    "# execute\n",
    "def calc_laplace(alpha=1.0, beta=1.0, sigma=1.0):\n",
    "    x = init_inputs()\n",
    "    num_inputs = x.shape[1]\n",
    "    # init kernel\n",
    "    kernel = np.zeros((num_inputs, num_inputs))\n",
    "\n",
    "    for i in range(num_inputs):\n",
    "        for j in range(num_inputs):\n",
    "            kernel[i][j] = laplace_kernel_entry(x[:, i], x[:, j], alpha, beta, sigma)\n",
    "    \n",
    "    check(kernel)\n",
    "    \n",
    "    return kernel"
   ]
  },
  {
   "cell_type": "markdown",
   "id": "816476d3-e93d-45fb-a2a5-54757e4d0b89",
   "metadata": {},
   "source": [
    "#### Numerical Approximation to Laplace Kernel "
   ]
  },
  {
   "cell_type": "code",
   "execution_count": 8,
   "id": "7b4e9beb-d3d4-4a4f-b2a2-2cfb17aa4c97",
   "metadata": {},
   "outputs": [],
   "source": [
    "# calculate Laplace Kernel\n",
    "\n",
    "def gaussian_kernel_entry(x, y, sigma):\n",
    "    \"\"\"\n",
    "    x are y in R^2\n",
    "\n",
    "    K(x, y) = exp(-||x - y||^2 / 2*(sigma**2))\n",
    "    \n",
    "\n",
    "    plot gaussian too and compare with sin/cos\n",
    "    \"\"\"\n",
    "    norm = np.linalg.norm(x - y)\n",
    "    return np.exp(-norm**2 / 2 * (sigma**2))\n",
    "\n",
    "# execute\n",
    "def calc_gaussian(sigma=1.0):\n",
    "    x = init_inputs()\n",
    "    num_inputs = x.shape[1]\n",
    "    # init kernel\n",
    "    kernel = np.zeros((num_inputs, num_inputs))\n",
    "\n",
    "    for i in range(num_inputs):\n",
    "        for j in range(num_inputs):\n",
    "            kernel[i][j] = gaussian_kernel_entry(x[:, i], x[:, j], sigma)\n",
    "    \n",
    "    check(kernel)\n",
    "    \n",
    "    return kernel"
   ]
  },
  {
   "cell_type": "markdown",
   "id": "e5ab3e2b-e17a-43b1-bcc2-0d417bf09dec",
   "metadata": {},
   "source": [
    "#### Plot Functionality"
   ]
  },
  {
   "cell_type": "code",
   "execution_count": 9,
   "id": "1272127f-1876-47fd-9401-0fa4a1d451f0",
   "metadata": {},
   "outputs": [],
   "source": [
    "def plot_eigendecay(kernel, label):\n",
    "    # plot\n",
    "    eigenvalues = np.linalg.eigvals(kernel)\n",
    "    # sort in descending order\n",
    "    sorted_eigenvalues = np.sort(eigenvalues)[::-1]\n",
    "    plt.loglog(sorted_eigenvalues[:-1], label=label)\n",
    "    plt.legend(loc='center left', bbox_to_anchor=(1, 0.5))\n",
    "    \n",
    "def plot_eigendecay_trig(kernel, label):\n",
    "    # plot\n",
    "    eigenvalues = np.linalg.eigvals(kernel)\n",
    "    # sort in descending order\n",
    "    sorted_eigenvalues = np.sort(eigenvalues)[::-1]\n",
    "    plt.yscale('log')\n",
    "    plt.plot(sorted_eigenvalues[:-100], label=label)\n",
    "    plt.legend(loc='center left', bbox_to_anchor=(1, 0.5))"
   ]
  },
  {
   "cell_type": "markdown",
   "id": "dbe7ffbd-2408-44fd-b167-1491e6c485ff",
   "metadata": {},
   "source": [
    "#### Plot ReLU Activated Kernel Eigenvalue Decays"
   ]
  },
  {
   "cell_type": "code",
   "execution_count": 10,
   "id": "41584a8a-7d43-49a2-80b7-b53456d86a26",
   "metadata": {},
   "outputs": [
    {
     "data": {
      "image/png": "[encoded data removed]",
      "text/plain": [
       "<Figure size 432x288 with 1 Axes>"
      ]
     },
     "metadata": {
      "needs_background": "light"
     },
     "output_type": "display_data"
    }
   ],
   "source": [
    "kernel_analytical = calc_NTK_analytical()\n",
    "kernel_k1 = calc_NTK_numerical(k=1)\n",
    "kernel_k2 = calc_NTK_numerical(k=2)\n",
    "kernel_k3 = calc_NTK_numerical(k=3)\n",
    "kernel_k4 = calc_NTK_numerical(k=4)\n",
    "\n",
    "plot_eigendecay(kernel_analytical, 'analytical')\n",
    "plot_eigendecay(kernel_k1, 'k=1')\n",
    "plot_eigendecay(kernel_k2, 'k=2')\n",
    "plot_eigendecay(kernel_k3, 'k=3')\n",
    "plot_eigendecay(kernel_k4, 'k=4')"
   ]
  },
  {
   "cell_type": "markdown",
   "id": "2efeb647-e05b-4032-9aa3-bd5a23598e62",
   "metadata": {},
   "source": [
    "#### Plot Sine/Cosine Activated Kernel Eigenvalue Decays"
   ]
  },
  {
   "cell_type": "code",
   "execution_count": 11,
   "id": "dc3b3442-b79e-4a83-99fc-fad265540f0e",
   "metadata": {},
   "outputs": [
    {
     "data": {
      "image/png": "[encoded data removed]",
      "text/plain": [
       "<Figure size 432x288 with 1 Axes>"
      ]
     },
     "metadata": {
      "needs_background": "light"
     },
     "output_type": "display_data"
    }
   ],
   "source": [
    "kernel_sin = calc_NTK_numerical('sin')\n",
    "kernel_cos = calc_NTK_numerical('cos')\n",
    "\n",
    "plot_eigendecay_trig(kernel_sin, 'sin')\n",
    "plot_eigendecay_trig(kernel_cos, 'cos')"
   ]
  },
  {
   "cell_type": "markdown",
   "id": "71338511-0850-403d-b97b-9d2a4f88ad90",
   "metadata": {},
   "source": [
    "#### Preliminary Plot Comparison:\n",
    "Laplace <-> ReLU and Gaussian <-> Trig "
   ]
  },
  {
   "cell_type": "code",
   "execution_count": 12,
   "id": "4f566fe8-16c8-4495-9f93-16f82ce56a4b",
   "metadata": {},
   "outputs": [
    {
     "data": {
      "image/png": "[encoded data removed]",
      "text/plain": [
       "<Figure size 432x288 with 1 Axes>"
      ]
     },
     "metadata": {
      "needs_background": "light"
     },
     "output_type": "display_data"
    }
   ],
   "source": [
    "kernel_laplace_a1 = calc_laplace(alpha=1)\n",
    "kernel_gaussian = calc_gaussian()\n",
    "\n",
    "plot_eigendecay(kernel_analytical, 'ReLU')\n",
    "plot_eigendecay(kernel_laplace_a1, 'Laplace')\n",
    "plot_eigendecay_trig(kernel_gaussian, 'Gaussian')\n",
    "plot_eigendecay_trig(kernel_sin, 'Sine')"
   ]
  },
  {
   "cell_type": "markdown",
   "id": "3f014ea3-82be-411f-90b5-9e786d54af7b",
   "metadata": {
    "tags": []
   },
   "source": [
    "#### Utility functions to calculate rate/slope of decay under log-log scales and tune alpha parameter"
   ]
  },
  {
   "cell_type": "code",
   "execution_count": 13,
   "id": "a0dedaa2-3d43-427b-86e1-0e0b590c7c15",
   "metadata": {},
   "outputs": [],
   "source": [
    "\"\"\"\n",
    "the naive approach takes two end points and calculate the slope:\n",
    "    calculate slope:\n",
    "    (x1, y1) => (x2, y2)\n",
    "    where x1 = 20, x2 = 100 \n",
    "    y values are eigenvalues[20], eigenvalues[100]\n",
    "the regression approach fits a linear regression with all the eigenvalues in [20:100]\n",
    "\n",
    "log(y) = k * log(x) + log(b)\n",
    "\n",
    "returns k\n",
    "\"\"\"\n",
    "def calc_slope_naive(kernel):\n",
    "    eigenvalues = np.linalg.eigvals(kernel)\n",
    "    sorted_eigenvalues = np.sort(eigenvalues)[::-1]\n",
    "    x1 = 20\n",
    "    x2 = 100\n",
    "    y1 = np.log2(sorted_eigenvalues[20])\n",
    "    y2 = np.log2(sorted_eigenvalues[100])\n",
    "    \n",
    "    slope = (y2-y1) / (x2-x1)\n",
    "    b = y1 - slope * x1\n",
    "    \n",
    "    return slope\n",
    "\n",
    "def calc_slope_regression(kernel):\n",
    "    \"\"\" the range between two end points may be adjusted\"\"\"\n",
    "    eigenvalues = np.linalg.eigvals(kernel)\n",
    "    sorted_eigenvalues = np.sort(eigenvalues)[::-1]\n",
    "    x = np.log10(np.arange(30, 100))\n",
    "    y = np.log10(sorted_eigenvalues[30:100])\n",
    "    \n",
    "    slope, b = np.polyfit(x, y, deg=1)\n",
    "    \n",
    "    return slope"
   ]
  },
  {
   "cell_type": "code",
   "execution_count": 26,
   "id": "db62cf89-f725-48bc-bd13-748ed81041b1",
   "metadata": {},
   "outputs": [],
   "source": [
    "\"\"\"\n",
    "given k, calculate closest corresponding alpha AND beta value\n",
    "a_low, a_high are alpha range\n",
    "b_low, b_high are beta range\n",
    "\n",
    "fit = ['regression', 'naive']\n",
    "\"\"\"\n",
    "def closest_alpha_with_k(k, a, b, fit='regression'):\n",
    "    \n",
    "    if fit == 'regression':\n",
    "        calc_slope = calc_slope_regression\n",
    "    elif fit == 'naive':\n",
    "        calc_slope = calc_slope_naive\n",
    "    \n",
    "    # calculate the target decay for ReLU^k\n",
    "    kernel = calc_NTK_numerical(k=k)\n",
    "    plot_eigendecay(kernel, f'k={k}')\n",
    "    slope_list = []\n",
    "    \n",
    "    # store target slope value\n",
    "    target_slope = calc_slope(kernel)\n",
    "    slope_list.append((target_slope, f'k={k}'))\n",
    "\n",
    "    # tuning alpha and record the one that has the closest slope with target \n",
    "    alpha_list = np.linspace(a, b, 10)\n",
    "    \n",
    "    min_diff = 9999\n",
    "    closest_alpha = 0\n",
    "    closest_kernel = np.zeros_like(kernel)\n",
    "\n",
    "    for alpha in tqdm(alpha_list):\n",
    "        \n",
    "        kernel_ = calc_laplace(alpha)\n",
    "        competing_slope = calc_slope(kernel_)\n",
    "        slope_list.append((competing_slope, f'a={alpha}'))\n",
    "        plot_eigendecay(kernel_, f'a={alpha}')\n",
    "        \n",
    "        # update closest alpha\n",
    "        if np.abs(competing_slope - target_slope) < min_diff:\n",
    "            min_diff = np.abs(competing_slope - target_slope)\n",
    "            closest_alpha = alpha\n",
    "            closest_kernel = kernel_\n",
    "            \n",
    "#     plot_eigendecay(closest_kernel, f'a={closest_alpha}')\n",
    "\n",
    "    display(closest_alpha)\n",
    "    # conclusion: k=1 matches alpha=1, but computation shows otherwise. TODO: fix bug\n",
    "    return slope_list"
   ]
  },
  {
   "cell_type": "markdown",
   "id": "cedd44f9-fe2a-4c80-825d-37c78e4868c4",
   "metadata": {},
   "source": [
    "#### Finding the Relationship Between alpha and k"
   ]
  },
  {
   "cell_type": "code",
   "execution_count": 15,
   "id": "5c9ee0d0-35f8-4de6-aa6f-c9f4a0ac6486",
   "metadata": {},
   "outputs": [
    {
     "name": "stderr",
     "output_type": "stream",
     "text": [
      "100%|██████████████████████████████████████████████████████████████████████████████████| 15/15 [00:07<00:00,  2.14it/s]\n"
     ]
    },
    {
     "data": {
      "text/plain": [
       "1.0642857142857143"
      ]
     },
     "metadata": {},
     "output_type": "display_data"
    },
    {
     "data": {
      "text/plain": [
       "[(-1.9092415296941974, 'k=1'),\n",
       " (-1.8230491622227873, 'a=1.0'),\n",
       " (-1.8327503916958743, 'a=1.0071428571428571'),\n",
       " (-1.8424199522143418, 'a=1.0142857142857142'),\n",
       " (-1.8520581575047474, 'a=1.0214285714285714'),\n",
       " (-1.8616653180387785, 'a=1.0285714285714287'),\n",
       " (-1.8712417410692996, 'a=1.0357142857142858'),\n",
       " (-1.8807877306666119, 'a=1.042857142857143'),\n",
       " (-1.8903035877549426, 'a=1.05'),\n",
       " (-1.8997896101490523, 'a=1.0571428571428572'),\n",
       " (-1.9092460925909718, 'a=1.0642857142857143'),\n",
       " (-1.9186733267866818, 'a=1.0714285714285714'),\n",
       " (-1.9280716014428463, 'a=1.0785714285714287'),\n",
       " (-1.937441202303482, 'a=1.0857142857142859'),\n",
       " (-1.9467824121864585, 'a=1.092857142857143'),\n",
       " (-1.9560955110199019, 'a=1.1')]"
      ]
     },
     "execution_count": 15,
     "metadata": {},
     "output_type": "execute_result"
    },
    {
     "data": {
      "image/png": "[encoded data removed]",
      "text/plain": [
       "<Figure size 432x288 with 1 Axes>"
      ]
     },
     "metadata": {
      "needs_background": "light"
     },
     "output_type": "display_data"
    }
   ],
   "source": [
    "closest_alpha_with_k(k=1, a=1.0, b=1.1)"
   ]
  },
  {
   "cell_type": "code",
   "execution_count": 27,
   "id": "cc827a4e-1c49-41e7-903c-b611a12cab9b",
   "metadata": {},
   "outputs": [
    {
     "name": "stderr",
     "output_type": "stream",
     "text": [
      "100%|██████████████████████████████████████████████████████████████████████████████████| 10/10 [00:05<00:00,  1.72it/s]\n"
     ]
    },
    {
     "data": {
      "text/plain": [
       "1.99999"
      ]
     },
     "metadata": {},
     "output_type": "display_data"
    },
    {
     "data": {
      "text/plain": [
       "[(-4.203706217136042, 'k=2'),\n",
       " (-1.8230491622227873, 'a=1.0'),\n",
       " (-1.9705258905440985, 'a=1.11111'),\n",
       " (-2.1113571171829433, 'a=1.22222'),\n",
       " (-2.2464908974356725, 'a=1.33333'),\n",
       " (-2.376742469316672, 'a=1.44444'),\n",
       " (-2.5028183745845403, 'a=1.55555'),\n",
       " (-2.62533531813666, 'a=1.6666599999999998'),\n",
       " (-2.7448348004840515, 'a=1.7777699999999999'),\n",
       " (-2.8617946259718776, 'a=1.88888'),\n",
       " (-2.9766607892115404, 'a=1.99999')]"
      ]
     },
     "execution_count": 27,
     "metadata": {},
     "output_type": "execute_result"
    },
    {
     "data": {
      "image/png": "[encoded data removed]",
      "text/plain": [
       "<Figure size 432x288 with 1 Axes>"
      ]
     },
     "metadata": {
      "needs_background": "light"
     },
     "output_type": "display_data"
    }
   ],
   "source": [
    "closest_alpha_with_k(k=2, a=1.0, b=1.99999)"
   ]
  },
  {
   "cell_type": "markdown",
   "id": "70da4bc7-c56a-43e1-b048-7ca93b8440af",
   "metadata": {},
   "source": [
    "#### tuning sigma for laplace"
   ]
  },
  {
   "cell_type": "code",
   "execution_count": 17,
   "id": "48ed459f-d405-462b-b72a-6384510e8414",
   "metadata": {},
   "outputs": [
    {
     "name": "stderr",
     "output_type": "stream",
     "text": [
      "100%|████████████████████████████████████████████████████████████████████████████████████| 5/5 [00:02<00:00,  1.84it/s]\n"
     ]
    },
    {
     "data": {
      "text/plain": [
       "[(-1.8230491622227873, 's=1.0'),\n",
       " (-1.825753485755332, 's=5.75'),\n",
       " (-1.8258126582212302, 's=10.5'),\n",
       " (-1.8258259908110408, 's=15.25'),\n",
       " (-1.8258310220085936, 's=20.0')]"
      ]
     },
     "execution_count": 17,
     "metadata": {},
     "output_type": "execute_result"
    }
   ],
   "source": [
    "\"\"\"\n",
    "We conclude numerically that different sigma values\n",
    "do not affect the slope of the eigenvalue decay\n",
    "\"\"\"\n",
    "\n",
    "sigma_list = np.linspace(1.0, 20.0, 5)\n",
    "slope_list = []\n",
    "\n",
    "for sig in tqdm(sigma_list):\n",
    "    kernel_ = calc_laplace(alpha=1, sigma=sig)\n",
    "    slope_list.append((calc_slope_regression(kernel_), f's={sig}'))\n",
    "    \n",
    "slope_list\n"
   ]
  },
  {
   "cell_type": "markdown",
   "id": "d4036c61-c2a9-4555-9429-71c968173683",
   "metadata": {},
   "source": [
    "#### Make a scatter plot of alpha vs slope for laplace kernels"
   ]
  },
  {
   "cell_type": "code",
   "execution_count": 18,
   "id": "5a55c2e2-5703-420a-810c-0d874cd11b2c",
   "metadata": {},
   "outputs": [
    {
     "name": "stderr",
     "output_type": "stream",
     "text": [
      "100%|██████████████████████████████████████████████████████████████████████████████████| 30/30 [00:17<00:00,  1.73it/s]\n"
     ]
    },
    {
     "data": {
      "text/plain": [
       "-1.1473195736610886"
      ]
     },
     "metadata": {},
     "output_type": "display_data"
    },
    {
     "data": {
      "text/plain": [
       "-0.7051920849630428"
      ]
     },
     "metadata": {},
     "output_type": "display_data"
    },
    {
     "data": {
      "text/plain": [
       "[<matplotlib.lines.Line2D at 0x17619991d60>]"
      ]
     },
     "execution_count": 18,
     "metadata": {},
     "output_type": "execute_result"
    },
    {
     "data": {
      "image/png": "[encoded data removed]",
      "text/plain": [
       "<Figure size 432x288 with 1 Axes>"
      ]
     },
     "metadata": {
      "needs_background": "light"
     },
     "output_type": "display_data"
    }
   ],
   "source": [
    "\"\"\"\n",
    "Make a scatter plot of alpha vs slope for laplace kernels\n",
    "\"\"\"\n",
    "\n",
    "alpha_list = np.linspace(1.0, 1.99999999, 20)\n",
    "slope_list_a = []\n",
    "\n",
    "for a in tqdm(alpha_list):\n",
    "    kernel_ = calc_laplace(alpha=a)\n",
    "    slope_list_a.append(np.real(calc_slope_regression(kernel_)))\n",
    "    # plot_eigendecay(kernel_, f'a={a}')\n",
    "\n",
    "plt.xlabel(\"alpha\")\n",
    "plt.ylabel(\"slope\")\n",
    "plt.scatter(alpha_list, slope_list_a)\n",
    "\n",
    "# regression line\n",
    "slope, b = np.polyfit(alpha_list, slope_list_a, deg=1)\n",
    "display(slope, b)\n",
    "\n",
    "plt.plot(alpha_list, slope * alpha_list + b, 'r')"
   ]
  },
  {
   "cell_type": "code",
   "execution_count": 19,
   "id": "22458d77-9ac4-40cd-938e-d73bfea125c7",
   "metadata": {},
   "outputs": [
    {
     "name": "stderr",
     "output_type": "stream",
     "text": [
      "100%|████████████████████████████████████████████████████████████████████████████████████| 5/5 [00:03<00:00,  1.48it/s]\n"
     ]
    },
    {
     "data": {
      "text/plain": [
       "-2.3114850786766894"
      ]
     },
     "metadata": {},
     "output_type": "display_data"
    },
    {
     "data": {
      "text/plain": [
       "0.4271370914300486"
      ]
     },
     "metadata": {},
     "output_type": "display_data"
    },
    {
     "data": {
      "text/plain": [
       "[<matplotlib.lines.Line2D at 0x17619bec7c0>]"
      ]
     },
     "execution_count": 19,
     "metadata": {},
     "output_type": "execute_result"
    },
    {
     "data": {
      "image/png": "[encoded data removed]",
      "text/plain": [
       "<Figure size 432x288 with 1 Axes>"
      ]
     },
     "metadata": {
      "needs_background": "light"
     },
     "output_type": "display_data"
    }
   ],
   "source": [
    "\"\"\"\n",
    "Make a scatter plot of k value vs slope for ReLU^k kernels\n",
    "\"\"\"\n",
    "\n",
    "k_list = np.array([1, 2, 3, 4, 5])\n",
    "slope_list_k = []\n",
    "\n",
    "for k in tqdm(k_list):\n",
    "    kernel_ = calc_NTK_numerical(k=k)\n",
    "    # ignore the imaginary part of the numeircal values\n",
    "    slope_list_k.append(np.real(calc_slope_regression(kernel_)))\n",
    "    # plot_eigendecay(kernel_, f'k={k}')\n",
    "\n",
    "plt.xlabel(\"k\")\n",
    "plt.ylabel(\"slope\")\n",
    "plt.scatter(k_list, slope_list_k)\n",
    "\n",
    "# plot regression line\n",
    "slope, b = np.polyfit(k_list, slope_list_k, deg=1)\n",
    "display(slope, b)\n",
    "plt.plot(k_list, slope * k_list + b, 'r')\n"
   ]
  },
  {
   "cell_type": "code",
   "execution_count": 28,
   "id": "f8258eab-9906-43ae-ba99-be1171ef13f2",
   "metadata": {},
   "outputs": [
    {
     "data": {
      "text/plain": [
       "[-1.9103302274101812,\n",
       " -4.199627588272439,\n",
       " -6.456625721606218,\n",
       " -8.810779808493521,\n",
       " -11.160716845758905]"
      ]
     },
     "execution_count": 28,
     "metadata": {},
     "output_type": "execute_result"
    }
   ],
   "source": [
    "slope_list_k"
   ]
  },
  {
   "cell_type": "code",
   "execution_count": 20,
   "id": "81b66c71-889e-4776-9de8-f62b7fc685f6",
   "metadata": {},
   "outputs": [
    {
     "name": "stderr",
     "output_type": "stream",
     "text": [
      "100%|████████████████████████████████████████████████████████████████████████████████████| 5/5 [00:02<00:00,  1.69it/s]\n"
     ]
    },
    {
     "data": {
      "text/plain": [
       "-1.1535884464258486"
      ]
     },
     "metadata": {},
     "output_type": "display_data"
    },
    {
     "data": {
      "text/plain": [
       "-0.6905031539898979"
      ]
     },
     "metadata": {},
     "output_type": "display_data"
    },
    {
     "name": "stderr",
     "output_type": "stream",
     "text": [
      "100%|████████████████████████████████████████████████████████████████████████████████████| 5/5 [00:03<00:00,  1.49it/s]\n"
     ]
    },
    {
     "data": {
      "text/plain": [
       "-2.311192545691853"
      ]
     },
     "metadata": {},
     "output_type": "display_data"
    },
    {
     "data": {
      "text/plain": [
       "0.42596159876730727"
      ]
     },
     "metadata": {},
     "output_type": "display_data"
    },
    {
     "data": {
      "text/plain": [
       "[<matplotlib.lines.Line2D at 0x17619c5fd30>]"
      ]
     },
     "execution_count": 20,
     "metadata": {},
     "output_type": "execute_result"
    },
    {
     "data": {
      "image/png": "[encoded data removed]",
      "text/plain": [
       "<Figure size 432x288 with 1 Axes>"
      ]
     },
     "metadata": {
      "needs_background": "light"
     },
     "output_type": "display_data"
    }
   ],
   "source": [
    "\"\"\"\n",
    "Same functions as the above cells, alpha and k both on the same plot figure\n",
    "\"\"\"\n",
    "\n",
    "alpha_list = np.linspace(1.0, 1.99999999, 5)\n",
    "slope_list_a = []\n",
    "\n",
    "for a in tqdm(alpha_list):\n",
    "    kernel_ = calc_laplace(alpha=a)\n",
    "    slope_list_a.append(np.real(calc_slope_regression(kernel_)))\n",
    "\n",
    "plt.scatter(alpha_list, slope_list_a)\n",
    "\n",
    "# regression line\n",
    "slope, b = np.polyfit(alpha_list, slope_list_a, deg=1)\n",
    "display(slope, b)\n",
    "\n",
    "plt.plot(alpha_list, slope * alpha_list + b, 'r')\n",
    "\n",
    "##############################################################\n",
    "\n",
    "k_list = np.array([1, 2, 3, 4, 5])\n",
    "slope_list_k = []\n",
    "\n",
    "for k in tqdm(k_list):\n",
    "    kernel_ = calc_NTK_numerical(k=k)\n",
    "    # ignore the imaginary part of the numeircal values\n",
    "    slope_list_k.append(np.real(calc_slope_regression(kernel_)))\n",
    "\n",
    "plt.xlabel(\"k and alpha\")\n",
    "plt.ylabel(\"slope\")\n",
    "plt.scatter(k_list, slope_list_k)\n",
    "\n",
    "slope, b = np.polyfit(k_list, slope_list_k, deg=1)\n",
    "display(slope, b)\n",
    "plt.plot(k_list, slope * k_list + b, 'r')"
   ]
  },
  {
   "cell_type": "code",
   "execution_count": 21,
   "id": "b42baf0e-8fce-4296-a8c4-ee72c21f7e9f",
   "metadata": {},
   "outputs": [
    {
     "data": {
      "text/plain": [
       "'\\nTODO?\\ngiven a k value you could find a corresponding alpha value\\na = f(k); job is to find f\\n\\nk = 1, 2, 3, 4, 5\\n'"
      ]
     },
     "execution_count": 21,
     "metadata": {},
     "output_type": "execute_result"
    }
   ],
   "source": [
    "\"\"\"\n",
    "TODO?\n",
    "given a k value you could find a corresponding alpha value\n",
    "a = f(k); job is to find f\n",
    "\n",
    "k = 1, 2, 3, 4, 5\n",
    "\"\"\""
   ]
  },
  {
   "cell_type": "markdown",
   "id": "013dd54c-0f41-4500-9b25-a2f7efebb4fb",
   "metadata": {},
   "source": [
    "#### NTK for Three-layer fully connected ReLU Networks\n",
    "\n",
    "[paper](https://papers.nips.cc/paper/2019/file/c4ef9c39b300931b69a36fb3dbb8d60e-Paper.pdf)"
   ]
  },
  {
   "cell_type": "code",
   "execution_count": 22,
   "id": "c1bc31c1-01d3-4f75-8ee0-dcf035c943c8",
   "metadata": {},
   "outputs": [],
   "source": [
    "\"\"\"\n",
    "see page 3-4 of the paper\n",
    "We can do this analytically \n",
    "\"\"\"\n",
    "\n",
    "# K_0(x, x') = sigma_0(x, x') = <x, x'> = (x^T).dot(x')\n",
    "# in vectorized version we know x == x', see function init_inputs()\n",
    "x = init_inputs()\n",
    "k_0  = np.dot(x.T, x)\n",
    "sigma_0 = np.dot(x.T, x)\n"
   ]
  },
  {
   "cell_type": "code",
   "execution_count": 23,
   "id": "e5d3e2e3-6c24-4cf0-b58f-9d2ed8e4920a",
   "metadata": {},
   "outputs": [],
   "source": [
    "def calc_NTK_numerical(activation='relu_k', k=1):\n",
    "    \"\"\"\n",
    "    numerical kernel calculation - vectorized version\n",
    "\n",
    "    https://papers.nips.cc/paper/2019/file/c4ef9c39b300931b69a36fb3dbb8d60e-Paper.pdf\n",
    "    equation (3) on page 3 and section 3.3 on page 7 \n",
    "\n",
    "    x, y are vectors\n",
    "    activation = ['relu_k', 'sin', 'cos']\n",
    "    d_activation is the derivative of activation function\n",
    "\n",
    "    k=1 means regular relu\n",
    "\n",
    "    K(x, x') = <x, x'> E[sig'(<w, x>)sig'(<w, x'>)] + E[sig(<w, x>)sig(<w, x'>)]\n",
    "    E {w ~ N(0, 1)}\n",
    "\n",
    "    \"\"\"\n",
    "    # init input\n",
    "    x = init_inputs() # (2, 100)\n",
    "    \n",
    "    num_inputs = x.shape[1]\n",
    "    # init kernel and weight\n",
    "    kernel = np.zeros((num_inputs, num_inputs))\n",
    "    num_samples = 40000\n",
    "    w1, w2 = np.random.normal(0.0, 1.0, size=[2, num_samples, 2]) # (1000, 2)\n",
    "\n",
    "    xx = np.dot(x.T, x) #(100, 100)\n",
    "    xx[xx > 1.0] = 1.0\n",
    "\n",
    "    w1x = np.dot(w1, x) # (num_samples, 100)\n",
    "    w2x = np.dot(w2, x) # (num_samples, 100)\n",
    "\n",
    "    if activation == 'relu_k':\n",
    "        activation_func = relu_k\n",
    "        d_activation = d_relu_k\n",
    "    elif activation == 'sin':\n",
    "        activation_func = sin\n",
    "        d_activation = cos\n",
    "    elif activation == 'cos':\n",
    "        activation_func = cos\n",
    "        d_activation = d_cos        \n",
    "\n",
    "    sigma_w1x = np.asarray(activation_func(w1x, k)) # (num_samples, 100)\n",
    "    sigma_w2x = np.asarray(d_activation(w2x, k))    # (num_samples, 100)\n",
    "\n",
    "    expection_1 = np.dot(sigma_w1x.T, sigma_w1x) / num_samples\n",
    "    expection_2 = np.dot(sigma_w2x.T, sigma_w2x) / num_samples\n",
    "\n",
    "    kernel = 2 * xx * expection_2 + 2 * expection_1\n",
    "   \n",
    "    check(kernel)\n",
    "    \n",
    "    return kernel"
   ]
  },
  {
   "cell_type": "code",
   "execution_count": null,
   "id": "9dad1f33-040c-4ed9-8a94-debb28412776",
   "metadata": {},
   "outputs": [],
   "source": []
  }
 ],
 "metadata": {
  "kernelspec": {
   "display_name": "Python 3",
   "language": "python",
   "name": "python3"
  },
  "language_info": {
   "codemirror_mode": {
    "name": "ipython",
    "version": 3
   },
   "file_extension": ".py",
   "mimetype": "text/x-python",
   "name": "python",
   "nbconvert_exporter": "python",
   "pygments_lexer": "ipython3",
   "version": "3.8.8"
  }
 },
 "nbformat": 4,
 "nbformat_minor": 5
}
