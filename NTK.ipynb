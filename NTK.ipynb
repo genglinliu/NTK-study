{
 "cells": [
  {
   "cell_type": "code",
   "execution_count": 1,
   "id": "c0b8c6a4-315b-4925-9089-b2ce85d2b8bc",
   "metadata": {},
   "outputs": [],
   "source": [
    "import numpy as np\n",
    "import matplotlib.pyplot as plt"
   ]
  },
  {
   "cell_type": "code",
   "execution_count": 2,
   "id": "5f17e683-ad39-4e6a-8de8-c29f71e302a3",
   "metadata": {},
   "outputs": [],
   "source": [
    "\"\"\"\n",
    "activation functions and their derivatives\n",
    "\"\"\"\n",
    "\n",
    "def relu_k(x, k):\n",
    "    return np.maximum(x**k, 0)\n",
    "\n",
    "def d_relu_k(x, k):\n",
    "    return k * x**(k-1) * (x > 0)\n",
    "\n",
    "def relu(x):\n",
    "    return np.maximum(x, 0)\n",
    "\n",
    "def d_relu(x):\n",
    "    return 1.0 * (x > 0)\n",
    "\n",
    "def sin(x, k=None):\n",
    "    return np.sin(x)\n",
    "\n",
    "def cos(x, k=None):\n",
    "    return np.cos(x)\n",
    "\n",
    "def d_cos(x, k=None):\n",
    "    return -np.sin(x)"
   ]
  },
  {
   "cell_type": "code",
   "execution_count": 3,
   "id": "e7cc7921-f748-46e8-9e8c-3f08cf1199b7",
   "metadata": {},
   "outputs": [],
   "source": [
    "\"\"\"\n",
    "analytic solution: Equation (4)-(5) on page 3\n",
    "\n",
    "u = <x, x'> / ||x|| ||x'||\n",
    "\n",
    "k(u) = u k_0(u) + k_1(u)\n",
    "\n",
    "k_0 = 1/pi (pi - arccos(u))\n",
    "k_1 = 1/pi (u (pi - arccos(u)) + sqrt(1 - u^2))\n",
    "\n",
    "assuming x == x'\n",
    "\"\"\"\n",
    "\n",
    "def kappa(u):\n",
    "    pi = np.pi\n",
    "    k_0 = (1/pi) * (pi - np.arccos(u))\n",
    "    k_1 = (1/pi) * (u * (pi - np.arccos(u)) + np.sqrt(1 - u**2))\n",
    "    return u * k_0 + k_1\n",
    "\n",
    "def analytic_kernel_entry_2d(x, y, k=None,activation=None): # x, y vector\n",
    "    # k is just for fuction call convenience\n",
    "    # don't need norm_prod because x y are both unit vector, norm=1\n",
    "    norm_prod = np.linalg.norm(x) * np.linalg.norm(y)\n",
    "    # for 1d input on line, it's just x * y\n",
    "    inner_prod = x.dot(y)\n",
    "    # for numeircal stability: if not -1 < u < 1, arccos(u) is undefined\n",
    "    if (inner_prod > 1.0):\n",
    "        inner_prod = 1.0\n",
    "    if (inner_prod < -1.0):\n",
    "        inner_prod = -1.0\n",
    "    u = inner_prod\n",
    "    \n",
    "    return kappa(u)"
   ]
  },
  {
   "cell_type": "code",
   "execution_count": 4,
   "id": "c23adf9d-0ee4-4a4e-8379-55822adac5d8",
   "metadata": {},
   "outputs": [],
   "source": [
    "def numerical_kernel_entry(x, y, k=1, activation='relu_k'):\n",
    "    \"\"\"\n",
    "    https://papers.nips.cc/paper/2019/file/c4ef9c39b300931b69a36fb3dbb8d60e-Paper.pdf\n",
    "    equation (3) on page 3 and section 3.3 on page 7 \n",
    "    \n",
    "    x, y are vectors\n",
    "    activation = ['relu_k', 'sin', 'cos']\n",
    "    d_activation is the derivative of activation function\n",
    "    \n",
    "    k=1 means regular relu\n",
    "    \n",
    "    K(x, x') = <x, x'> E[sig'(<w, x>)sig'(<w, x'>)] + E[sig(<w, x>)sig(<w, x'>)]\n",
    "    E {w ~ N(0, 1)}\n",
    "    \"\"\"\n",
    "    num_samples = 1000\n",
    "    \n",
    "    # fix this - vectorize\n",
    "    w1, w2 = np.random.normal(0.0, 1.0, size=[2, num_samples, 2])\n",
    "    \n",
    "    # w1: (num_samples, 2) x: (2,)\n",
    "    # get dot products\n",
    "    w1x = w1.dot(x) # (num_samples,)\n",
    "    w1y = w1.dot(y) # (num_samples,)\n",
    "    w2x = w2.dot(x)\n",
    "    w2y = w2.dot(y)\n",
    "    \n",
    "    if activation == 'relu_k':\n",
    "        activation_func = relu_k\n",
    "        d_activation = d_relu_k\n",
    "    elif activation == 'sin':\n",
    "        activation_func = sin\n",
    "        d_activation = cos\n",
    "    elif activation == 'cos':\n",
    "        activation_func = cos\n",
    "        d_activation = d_cos        \n",
    "    \n",
    "    sigma_w1x = np.asarray(activation_func(w1x, k)) # (num_samples,)\n",
    "    sigma_w1y = np.asarray(activation_func(w1y, k)) # (num_samples,)\n",
    "    sigma_w2x = np.asarray(d_activation(w2x, k))\n",
    "    sigma_w2y = np.asarray(d_activation(w2y, k))  \n",
    "\n",
    "    # dot product does the summation in a vectorized way\n",
    "    expection_1 = sigma_w1x.dot(sigma_w1y) / num_samples\n",
    "    expection_2 = sigma_w2x.dot(sigma_w2y) / num_samples\n",
    "    \n",
    "    return 2 * (x.dot(y)) * expection_2 + 2 * expection_1"
   ]
  },
  {
   "cell_type": "code",
   "execution_count": 33,
   "id": "422de710-1502-48cd-923a-c4652b7a15c6",
   "metadata": {},
   "outputs": [],
   "source": [
    "# execute\n",
    "def calc_NTK_2d(kernel_entry_func, k=1, activation='relu_k'):\n",
    "    num_inputs = 100\n",
    "    pi = np.pi\n",
    "    # sin(theta) and cos(theta), theta ~ (0, 2*pi) uniform\n",
    "    # take 100 points on the unit circle\n",
    "    theta = np.linspace(0.0, 2 * pi, num=num_inputs)\n",
    "    x = np.asarray((np.cos(theta), np.sin(theta)))\n",
    "\n",
    "    # make kernel\n",
    "    kernel = np.zeros((num_inputs, num_inputs))\n",
    "\n",
    "    for i in range(num_inputs):\n",
    "        for j in range(num_inputs):\n",
    "            kernel[i][j] = kernel_entry_func(x[:, i], x[:, j], k, activation)\n",
    "    \n",
    "    # sort eigenvalues in descending order\n",
    "    global eigenvalues \n",
    "    eigenvalues = np.linalg.eigvals(kernel)\n",
    "    sorted_eigenvalues = np.sort(eigenvalues)[::-1] \n",
    "    # plt.plot(sorted_eigenvalues)\n",
    "    plt.loglog(sorted_eigenvalues[:-1])\n",
    "    return eigenvalues"
   ]
  },
  {
   "cell_type": "code",
   "execution_count": 6,
   "id": "ecf51a71-145c-4f32-9b9a-bafdd46d24e2",
   "metadata": {},
   "outputs": [
    {
     "name": "stderr",
     "output_type": "stream",
     "text": [
      "C:\\Users\\genglinliu\\anaconda3\\lib\\site-packages\\numpy\\core\\_asarray.py:102: ComplexWarning: Casting complex values to real discards the imaginary part\n",
      "  return array(a, dtype, copy=False, order=order)\n"
     ]
    },
    {
     "data": {
      "image/png": "[encoded data removed]",
      "text/plain": [
       "<Figure size 432x288 with 1 Axes>"
      ]
     },
     "metadata": {
      "needs_background": "light"
     },
     "output_type": "display_data"
    }
   ],
   "source": [
    "kernel_analytic = calc_NTK_2d(analytic_kernel_entry_2d)\n",
    "kernel_numerical = calc_NTK_2d(numerical_kernel_entry, k=1)"
   ]
  },
  {
   "cell_type": "code",
   "execution_count": 7,
   "id": "a6c1aad0-da19-4ce1-96cf-18e40ce2a429",
   "metadata": {},
   "outputs": [
    {
     "data": {
      "text/plain": [
       "array([0.11882433, 0.1520835 , 0.18544356, 0.19391578, 0.16648728,\n",
       "       0.21440587, 0.15316971, 0.20316297, 0.11211727, 0.1193895 ,\n",
       "       0.11979961, 0.15004663, 0.15353646, 0.14212479, 0.11833868,\n",
       "       0.12947669, 0.15252648, 0.15942284, 0.2158627 , 0.18289427,\n",
       "       0.15044048, 0.12901919, 0.1054251 , 0.10703991, 0.14596382,\n",
       "       0.15846261, 0.16624332, 0.1223707 , 0.15819978, 0.15110682,\n",
       "       0.2371045 , 0.1043876 , 0.1431353 , 0.1660904 , 0.17868067,\n",
       "       0.19896635, 0.17262331, 0.13738155, 0.15736671, 0.09933936,\n",
       "       0.18712543, 0.11920143, 0.14030475, 0.17184763, 0.12494736,\n",
       "       0.15353487, 0.16355415, 0.15825512, 0.1159095 , 0.18486706,\n",
       "       0.15114307, 0.20239564, 0.11841447, 0.10870861, 0.10993116,\n",
       "       0.1862584 , 0.13792611, 0.12246004, 0.25047625, 0.19623274,\n",
       "       0.14181558, 0.25066396, 0.1741115 , 0.15142256, 0.23327749,\n",
       "       0.21585881, 0.11371676, 0.21521272, 0.12661927, 0.1160383 ,\n",
       "       0.25759464, 0.20435361, 0.12609291, 0.16879782, 0.18459712,\n",
       "       0.22648481, 0.170173  , 0.19172165, 0.28606946, 0.21452983,\n",
       "       0.11371467, 0.16813709, 0.10455616, 0.19817918, 0.1010578 ,\n",
       "       0.10250817, 0.09411252, 0.13321268, 0.15290538, 0.20349401,\n",
       "       0.0953032 , 0.16243177, 0.15120452, 0.13431545, 0.10147881,\n",
       "       0.16393586, 0.10273763, 0.12988722, 0.14686099, 0.18494267])"
      ]
     },
     "execution_count": 7,
     "metadata": {},
     "output_type": "execute_result"
    }
   ],
   "source": [
    "# error\n",
    "np.max((kernel_numerical - kernel_analytic), axis=1)"
   ]
  },
  {
   "cell_type": "code",
   "execution_count": 34,
   "id": "70947cfe-76a3-4467-8702-b3384c98cc1e",
   "metadata": {},
   "outputs": [
    {
     "data": {
      "text/plain": [
       "array([6.08592158e+01, 5.04558273e+01, 4.95050539e+01, 1.59087527e+01,\n",
       "       1.56051463e+01, 1.72925020e+00, 1.69577519e+00, 6.53044462e-01,\n",
       "       6.40382356e-01, 3.47069446e-01, 3.40345375e-01, 2.16711329e-01,\n",
       "       2.12522093e-01, 1.48777671e-01, 1.45911013e-01, 1.08777994e-01,\n",
       "       1.06690723e-01, 8.32011610e-02, 8.16125782e-02, 6.58407313e-02,\n",
       "       6.45908423e-02, 5.35110423e-02, 5.25018530e-02, 4.44367717e-02,\n",
       "       4.36048624e-02, 3.75635843e-02, 3.68660740e-02, 3.22327095e-02,\n",
       "       3.16395565e-02, 2.80150770e-02, 2.75046036e-02, 2.46213700e-02,\n",
       "       2.41775413e-02, 2.18506942e-02, 2.14613929e-02, 1.95599893e-02,\n",
       "       1.92158903e-02, 1.76451258e-02, 1.73389353e-02, 1.60288405e-02,\n",
       "       9.80926843e-16, 1.57547743e-02, 1.46528245e-02, 1.44062378e-02,\n",
       "       1.34724048e-02, 1.32495257e-02, 1.24528878e-02, 1.22506247e-02,\n",
       "       1.15670021e-02, 1.13827971e-02, 1.07930721e-02, 1.06247941e-02,\n",
       "       1.01136991e-02, 9.95955798e-03, 9.51478783e-03, 9.37327223e-03,\n",
       "       8.98482495e-03, 8.85465321e-03, 8.51433699e-03, 8.39441395e-03,\n",
       "       8.09547197e-03, 7.98486074e-03, 7.72168313e-03, 7.61957865e-03,\n",
       "       7.38747916e-03, 7.29319041e-03, 7.08823233e-03, 7.00116266e-03,\n",
       "       6.82002328e-03, 6.73965861e-03, 6.57951919e-03, 6.50541770e-03,\n",
       "       6.36387728e-03, 6.17066448e-03, 6.29565939e-03, 6.10800657e-03,\n",
       "       5.99779488e-03, 5.94042183e-03, 5.84347616e-03, 5.79115899e-03,\n",
       "       5.70616904e-03, 5.65871799e-03, 5.58455027e-03, 5.07051130e-03,\n",
       "       5.06410306e-03, 5.09575451e-03, 5.08459782e-03, 5.13129609e-03,\n",
       "       5.11554764e-03, 5.17746021e-03, 5.15720607e-03, 5.23463150e-03,\n",
       "       5.20991944e-03, 5.30328696e-03, 5.27412923e-03, 5.47748654e-03,\n",
       "       5.38400685e-03, 5.35038412e-03, 5.43934837e-03, 5.54181427e-03])"
      ]
     },
     "execution_count": 34,
     "metadata": {},
     "output_type": "execute_result"
    },
    {
     "data": {
      "image/png": "[encoded data removed]",
      "text/plain": [
       "<Figure size 432x288 with 1 Axes>"
      ]
     },
     "metadata": {
      "needs_background": "light"
     },
     "output_type": "display_data"
    }
   ],
   "source": [
    "calc_NTK_2d(analytic_kernel_entry_2d)"
   ]
  },
  {
   "cell_type": "code",
   "execution_count": 35,
   "id": "6ce81aba-6d2d-4b7f-a589-1ed0c807406f",
   "metadata": {},
   "outputs": [
    {
     "name": "stderr",
     "output_type": "stream",
     "text": [
      "C:\\Users\\genglinliu\\anaconda3\\lib\\site-packages\\numpy\\core\\_asarray.py:102: ComplexWarning: Casting complex values to real discards the imaginary part\n",
      "  return array(a, dtype, copy=False, order=order)\n"
     ]
    },
    {
     "data": {
      "text/plain": [
       "array([ 6.08814105e+01+0.j        ,  5.04172551e+01+0.j        ,\n",
       "        4.95638512e+01+0.j        ,  1.59203063e+01+0.j        ,\n",
       "        1.55709918e+01+0.j        ,  1.76049245e+00+0.j        ,\n",
       "        1.66571800e+00+0.j        ,  7.05273275e-01+0.j        ,\n",
       "        6.02552243e-01+0.10209974j,  6.02552243e-01-0.10209974j,\n",
       "       -1.67247512e-01+0.4213165j , -1.67247512e-01-0.4213165j ,\n",
       "       -4.34870883e-01+0.j        , -3.47805414e-01+0.19573308j,\n",
       "       -3.47805414e-01-0.19573308j,  4.94152288e-01+0.0659868j ,\n",
       "        4.94152288e-01-0.0659868j ,  4.14768891e-01+0.23330643j,\n",
       "        4.14768891e-01-0.23330643j,  1.49213363e-02+0.42488376j,\n",
       "        1.49213363e-02-0.42488376j,  2.71123731e-01+0.34118032j,\n",
       "        2.71123731e-01-0.34118032j, -3.55047821e-01+0.01849751j,\n",
       "       -3.55047821e-01-0.01849751j,  4.37277393e-01+0.j        ,\n",
       "        4.16422177e-01+0.08662751j,  4.16422177e-01-0.08662751j,\n",
       "        3.59460608e-01+0.2010244j ,  3.59460608e-01-0.2010244j ,\n",
       "        1.46201700e-01+0.35134456j,  1.46201700e-01-0.35134456j,\n",
       "       -8.06457911e-03+0.35946771j, -8.06457911e-03-0.35946771j,\n",
       "       -2.37755252e-01+0.22690234j, -2.37755252e-01-0.22690234j,\n",
       "       -2.96735584e-01+0.06645914j, -2.96735584e-01-0.06645914j,\n",
       "       -1.07819900e-01+0.29957271j, -1.07819900e-01-0.29957271j,\n",
       "       -1.47531014e-01+0.27481437j, -1.47531014e-01-0.27481437j,\n",
       "       -1.77239730e-01+0.23816764j, -1.77239730e-01-0.23816764j,\n",
       "       -2.41718042e-01+0.1385436j , -2.41718042e-01-0.1385436j ,\n",
       "       -2.68467385e-01+0.j        ,  2.21150029e-01+0.28856304j,\n",
       "        2.21150029e-01-0.28856304j,  1.06528434e-01+0.30592094j,\n",
       "        1.06528434e-01-0.30592094j,  1.94575841e-01+0.27916835j,\n",
       "        1.94575841e-01-0.27916835j,  2.60803096e-01+0.2088414j ,\n",
       "        2.60803096e-01-0.2088414j ,  3.31628248e-01+0.06615213j,\n",
       "        3.31628248e-01-0.06615213j,  3.17907730e-01+0.10735373j,\n",
       "        3.17907730e-01-0.10735373j,  2.72983982e-01+0.16425866j,\n",
       "        2.72983982e-01-0.16425866j, -1.68072905e-03+0.29112523j,\n",
       "       -1.68072905e-03-0.29112523j, -3.37020147e-02+0.27698786j,\n",
       "       -3.37020147e-02-0.27698786j, -1.17798968e-01+0.2236932j ,\n",
       "       -1.17798968e-01-0.2236932j , -1.88922495e-01+0.13362041j,\n",
       "       -1.88922495e-01-0.13362041j, -2.03137671e-01+0.j        ,\n",
       "       -1.91701144e-01+0.06352716j, -1.91701144e-01-0.06352716j,\n",
       "        1.41791124e-01+0.23224179j,  1.41791124e-01-0.23224179j,\n",
       "        4.18658491e-04+0.22205035j,  4.18658491e-04-0.22205035j,\n",
       "        1.79807827e-01+0.18204753j,  1.79807827e-01-0.18204753j,\n",
       "        5.42425999e-02+0.19579487j,  5.42425999e-02-0.19579487j,\n",
       "       -9.06050870e-02+0.13898512j, -9.06050870e-02-0.13898512j,\n",
       "        2.68822363e-01+0.00483636j,  2.68822363e-01-0.00483636j,\n",
       "        1.70257366e-01+0.08284639j,  1.70257366e-01-0.08284639j,\n",
       "        2.08838452e-01+0.j        ,  2.00778611e-01+0.j        ,\n",
       "        8.94095328e-02+0.13138628j,  8.94095328e-02-0.13138628j,\n",
       "       -1.27398517e-01+0.j        , -6.70184783e-02+0.0849224j ,\n",
       "       -6.70184783e-02-0.0849224j , -1.45996710e-02+0.10492015j,\n",
       "       -1.45996710e-02-0.10492015j, -7.00862012e-02+0.j        ,\n",
       "        2.29099158e-02+0.06066248j,  2.29099158e-02-0.06066248j,\n",
       "        8.49177430e-02+0.j        ,  4.31249490e-02+0.j        ])"
      ]
     },
     "execution_count": 35,
     "metadata": {},
     "output_type": "execute_result"
    },
    {
     "data": {
      "image/png": "[encoded data removed]",
      "text/plain": [
       "<Figure size 432x288 with 1 Axes>"
      ]
     },
     "metadata": {
      "needs_background": "light"
     },
     "output_type": "display_data"
    }
   ],
   "source": [
    "calc_NTK_2d(numerical_kernel_entry, k=1) # regular 1st-order ReLU"
   ]
  },
  {
   "cell_type": "code",
   "execution_count": 10,
   "id": "d90d93d4-49bc-43e3-b26d-60c151c7534e",
   "metadata": {},
   "outputs": [
    {
     "name": "stderr",
     "output_type": "stream",
     "text": [
      "C:\\Users\\genglinliu\\anaconda3\\lib\\site-packages\\numpy\\core\\_asarray.py:102: ComplexWarning: Casting complex values to real discards the imaginary part\n",
      "  return array(a, dtype, copy=False, order=order)\n"
     ]
    },
    {
     "data": {
      "text/plain": [
       "array([[10.34235592, 10.00149422, 10.70086125, ...,  9.95661517,\n",
       "        10.66458282,  9.14698848],\n",
       "       [ 9.93987377, 10.4997145 , 10.01109101, ...,  9.43915707,\n",
       "        10.00238898, 10.186633  ],\n",
       "       [ 9.97315833, 10.50158278,  9.29137031, ...,  9.50090939,\n",
       "         8.48347675,  8.98198861],\n",
       "       ...,\n",
       "       [10.49439508,  9.82701388, 10.24348543, ...,  9.87171741,\n",
       "         9.32716342,  9.34639707],\n",
       "       [10.36249516,  9.79057895,  9.36155829, ..., 11.0934451 ,\n",
       "        10.44996189,  9.22768955],\n",
       "       [11.73008035, 10.31434243,  9.26608713, ...,  9.341584  ,\n",
       "        10.37217931,  9.51789492]])"
      ]
     },
     "execution_count": 10,
     "metadata": {},
     "output_type": "execute_result"
    },
    {
     "data": {
      "image/png": "[encoded data removed]",
      "text/plain": [
       "<Figure size 432x288 with 1 Axes>"
      ]
     },
     "metadata": {
      "needs_background": "light"
     },
     "output_type": "display_data"
    }
   ],
   "source": [
    "calc_NTK_2d(numerical_kernel_entry, k=2)"
   ]
  },
  {
   "cell_type": "code",
   "execution_count": 11,
   "id": "b461d20e-b4bf-4e7e-981c-cab9c24d074f",
   "metadata": {},
   "outputs": [
    {
     "name": "stderr",
     "output_type": "stream",
     "text": [
      "C:\\Users\\genglinliu\\anaconda3\\lib\\site-packages\\numpy\\core\\_asarray.py:102: ComplexWarning: Casting complex values to real discards the imaginary part\n",
      "  return array(a, dtype, copy=False, order=order)\n"
     ]
    },
    {
     "data": {
      "text/plain": [
       "array([[52.13057099, 50.77355252, 46.91336834, ..., 38.94142403,\n",
       "        37.54243169, 36.8471357 ],\n",
       "       [42.94916192, 47.48659772, 38.14218029, ..., 45.17718206,\n",
       "        50.63232645, 41.95867705],\n",
       "       [27.35741226, 42.28185182, 35.35400622, ..., 30.38711841,\n",
       "        30.75897458, 39.63658364],\n",
       "       ...,\n",
       "       [48.56056475, 38.86131229, 41.05067122, ..., 38.76400466,\n",
       "        49.75250745, 38.68712452],\n",
       "       [42.2914967 , 30.25644374, 57.90549492, ..., 44.24123968,\n",
       "        40.38634579, 48.70107485],\n",
       "       [42.98839545, 40.15136698, 35.55343834, ..., 38.99569398,\n",
       "        44.5247691 , 47.6465104 ]])"
      ]
     },
     "execution_count": 11,
     "metadata": {},
     "output_type": "execute_result"
    },
    {
     "data": {
      "image/png": "[encoded data removed]",
      "text/plain": [
       "<Figure size 432x288 with 1 Axes>"
      ]
     },
     "metadata": {
      "needs_background": "light"
     },
     "output_type": "display_data"
    }
   ],
   "source": [
    "calc_NTK_2d(numerical_kernel_entry, k=3)"
   ]
  },
  {
   "cell_type": "code",
   "execution_count": 12,
   "id": "53f03100-ba77-420e-8e99-08dea64b659c",
   "metadata": {},
   "outputs": [
    {
     "name": "stderr",
     "output_type": "stream",
     "text": [
      "C:\\Users\\genglinliu\\anaconda3\\lib\\site-packages\\numpy\\core\\_asarray.py:102: ComplexWarning: Casting complex values to real discards the imaginary part\n",
      "  return array(a, dtype, copy=False, order=order)\n"
     ]
    },
    {
     "data": {
      "text/plain": [
       "array([[512.04840717, 579.95499653, 684.80905892, ..., 608.05474461,\n",
       "        421.5426543 , 431.49211567],\n",
       "       [406.83909953, 365.64905937, 482.19447369, ..., 404.16338006,\n",
       "        435.20522389, 428.45835078],\n",
       "       [321.75543184, 364.67602017, 434.90310023, ..., 287.27803271,\n",
       "        493.69719862, 415.04485797],\n",
       "       ...,\n",
       "       [398.11475669, 312.78057232, 414.98790839, ..., 753.76727174,\n",
       "        475.82578788, 369.71273785],\n",
       "       [441.94931788, 394.09098737, 356.32799451, ..., 372.5642653 ,\n",
       "        445.85633238, 473.80066978],\n",
       "       [687.42468796, 521.20512457, 432.19287183, ..., 227.43670775,\n",
       "        595.70185641, 373.75416862]])"
      ]
     },
     "execution_count": 12,
     "metadata": {},
     "output_type": "execute_result"
    },
    {
     "data": {
      "image/png": "[encoded data removed]",
      "text/plain": [
       "<Figure size 432x288 with 1 Axes>"
      ]
     },
     "metadata": {
      "needs_background": "light"
     },
     "output_type": "display_data"
    }
   ],
   "source": [
    "calc_NTK_2d(numerical_kernel_entry, k=4)"
   ]
  },
  {
   "cell_type": "code",
   "execution_count": 31,
   "id": "51589b9a-5840-4cce-913a-b351a692af3b",
   "metadata": {},
   "outputs": [],
   "source": [
    "def calc_NTK_2d_trig(kernel_entry_func, k=1, activation='relu_k'):\n",
    "    num_inputs = 100\n",
    "    pi = np.pi\n",
    "    # sin(theta) and cos(theta), theta ~ (0, 2*pi) uniform\n",
    "    # take 100 points on the unit circle\n",
    "    theta = np.linspace(0.0, 2 * pi, num=num_inputs)\n",
    "    x = np.asarray((np.cos(theta), np.sin(theta)))\n",
    "\n",
    "    # make kernel\n",
    "    kernel = np.zeros((num_inputs, num_inputs))\n",
    "\n",
    "    for i in range(num_inputs):\n",
    "        for j in range(num_inputs):\n",
    "            kernel[i][j] = kernel_entry_func(x[:, i], x[:, j], k, activation)\n",
    "    \n",
    "    # sort eigenvalues in descending order\n",
    "    eigenvalues = np.linalg.eigvals(kernel)\n",
    "    sorted_eigenvalues = np.sort(eigenvalues)[::-1] \n",
    "    # plt.plot(sorted_eigenvalues)\n",
    "    plt.yscale('log')\n",
    "    plt.plot(sorted_eigenvalues[:-1])\n",
    "    return eigenvalues\n",
    "#     return kernel"
   ]
  },
  {
   "cell_type": "code",
   "execution_count": 32,
   "id": "303c5e3c-a088-4ab7-8d8c-017d6074d0ee",
   "metadata": {},
   "outputs": [
    {
     "name": "stderr",
     "output_type": "stream",
     "text": [
      "C:\\Users\\genglinliu\\anaconda3\\lib\\site-packages\\numpy\\core\\_asarray.py:102: ComplexWarning: Casting complex values to real discards the imaginary part\n",
      "  return array(a, dtype, copy=False, order=order)\n"
     ]
    },
    {
     "data": {
      "text/plain": [
       "array([ 9.41033160e+01+0.j        ,  9.21834462e+01+0.j        ,\n",
       "        6.81887776e+00+0.j        ,  6.67413462e+00+0.j        ,\n",
       "        2.77158615e-02+0.2846842j ,  2.77158615e-02-0.2846842j ,\n",
       "        6.77128206e-02+0.26342948j,  6.77128206e-02-0.26342948j,\n",
       "        1.75941355e-01+0.20775391j,  1.75941355e-01-0.20775391j,\n",
       "        2.13089403e-01+0.16915107j,  2.13089403e-01-0.16915107j,\n",
       "        2.69724799e-01+0.04927947j,  2.69724799e-01-0.04927947j,\n",
       "       -2.57305406e-01+0.0895221j , -2.57305406e-01-0.0895221j ,\n",
       "       -9.38708756e-03+0.25704588j, -9.38708756e-03-0.25704588j,\n",
       "       -1.93374025e-01+0.17480392j, -1.93374025e-01-0.17480392j,\n",
       "       -7.55047198e-02+0.24532339j, -7.55047198e-02-0.24532339j,\n",
       "       -2.58271267e-01+0.03076022j, -2.58271267e-01-0.03076022j,\n",
       "        1.17665683e-01+0.21794421j,  1.17665683e-01-0.21794421j,\n",
       "       -1.46055496e-01+0.1904691j , -1.46055496e-01-0.1904691j ,\n",
       "       -9.98610425e-02+0.21213429j, -9.98610425e-02-0.21213429j,\n",
       "       -2.02559471e-01+0.11351463j, -2.02559471e-01-0.11351463j,\n",
       "       -6.93139534e-02+0.21493852j, -6.93139534e-02-0.21493852j,\n",
       "       -1.72872316e-01+0.13360524j, -1.72872316e-01-0.13360524j,\n",
       "       -1.19811057e-01+0.17895204j, -1.19811057e-01-0.17895204j,\n",
       "       -1.95616372e-01+0.07540625j, -1.95616372e-01-0.07540625j,\n",
       "       -2.10840792e-01+0.j        , -1.96494517e-01+0.05598819j,\n",
       "       -1.96494517e-01-0.05598819j,  2.61472449e-01+0.j        ,\n",
       "        5.43986272e-02+0.21405463j,  5.43986272e-02-0.21405463j,\n",
       "        2.33892312e-01+0.0675721j ,  2.33892312e-01-0.0675721j ,\n",
       "        1.64648305e-01+0.16139434j,  1.64648305e-01-0.16139434j,\n",
       "       -1.80669001e-01+0.00631514j, -1.80669001e-01-0.00631514j,\n",
       "        2.26811785e-01+0.02007896j,  2.26811785e-01-0.02007896j,\n",
       "       -7.48729998e-02+0.16417649j, -7.48729998e-02-0.16417649j,\n",
       "        9.70049737e-02+0.17212396j,  9.70049737e-02-0.17212396j,\n",
       "        1.74404058e-01+0.10500854j,  1.74404058e-01-0.10500854j,\n",
       "        1.85899192e-01+0.06150789j,  1.85899192e-01-0.06150789j,\n",
       "       -1.29531502e-01+0.07149325j, -1.29531502e-01-0.07149325j,\n",
       "       -1.48444664e-02+0.1662235j , -1.48444664e-02-0.1662235j ,\n",
       "        6.05554736e-02+0.16110527j,  6.05554736e-02-0.16110527j,\n",
       "       -1.03250755e-02+0.1478284j , -1.03250755e-02-0.1478284j ,\n",
       "        1.40085632e-01+0.08515949j,  1.40085632e-01-0.08515949j,\n",
       "        5.69815265e-02+0.13853631j,  5.69815265e-02-0.13853631j,\n",
       "        1.46645382e-01+0.04481726j,  1.46645382e-01-0.04481726j,\n",
       "        1.49946337e-01+0.j        ,  1.49654184e-01+0.j        ,\n",
       "       -6.51807080e-02+0.11277351j, -6.51807080e-02-0.11277351j,\n",
       "        8.55249270e-02+0.09262269j,  8.55249270e-02-0.09262269j,\n",
       "        7.31564019e-03+0.10922788j,  7.31564019e-03-0.10922788j,\n",
       "       -1.03114922e-01+0.j        , -8.13419673e-02+0.05065099j,\n",
       "       -8.13419673e-02-0.05065099j, -5.89743417e-02+0.07670206j,\n",
       "       -5.89743417e-02-0.07670206j, -4.98552524e-02+0.056011j  ,\n",
       "       -4.98552524e-02-0.056011j  ,  4.18488115e-02+0.06684899j,\n",
       "        4.18488115e-02-0.06684899j,  8.47832654e-02+0.j        ,\n",
       "        6.47216754e-02+0.04013191j,  6.47216754e-02-0.04013191j,\n",
       "       -2.49254965e-02+0.j        , -8.40033183e-03+0.03291715j,\n",
       "       -8.40033183e-03-0.03291715j,  3.43185816e-02+0.j        ])"
      ]
     },
     "execution_count": 32,
     "metadata": {},
     "output_type": "execute_result"
    },
    {
     "data": {
      "image/png": "[encoded data removed]",
      "text/plain": [
       "<Figure size 432x288 with 1 Axes>"
      ]
     },
     "metadata": {
      "needs_background": "light"
     },
     "output_type": "display_data"
    }
   ],
   "source": [
    "calc_NTK_2d_trig(numerical_kernel_entry, activation='sin')\n",
    "# fix: y log scale keep x , instead of log-log"
   ]
  },
  {
   "cell_type": "code",
   "execution_count": 26,
   "id": "7b72a7a0-5fcc-488b-a485-001a482d149e",
   "metadata": {},
   "outputs": [
    {
     "name": "stderr",
     "output_type": "stream",
     "text": [
      "C:\\Users\\genglinliu\\anaconda3\\lib\\site-packages\\numpy\\core\\_asarray.py:102: ComplexWarning: Casting complex values to real discards the imaginary part\n",
      "  return array(a, dtype, copy=False, order=order)\n"
     ]
    },
    {
     "data": {
      "image/png": "[encoded data removed]",
      "text/plain": [
       "<Figure size 432x288 with 1 Axes>"
      ]
     },
     "metadata": {
      "needs_background": "light"
     },
     "output_type": "display_data"
    }
   ],
   "source": [
    "calc_NTK_2d_trig(numerical_kernel_entry, activation='cos')"
   ]
  },
  {
   "cell_type": "code",
   "execution_count": 30,
   "id": "33fcffd5-99db-4071-90c3-4e6c331f929f",
   "metadata": {},
   "outputs": [
    {
     "data": {
      "text/plain": [
       "array([ 1.34787559e+02+0.j        ,  3.19243761e+01+0.j        ,\n",
       "        3.12942868e+01+0.j        ,  1.07475773e+00+0.j        ,\n",
       "        1.00082799e+00+0.j        , -2.51649225e-01+0.14845j   ,\n",
       "       -2.51649225e-01-0.14845j   ,  2.54458174e-02+0.29053714j,\n",
       "        2.54458174e-02-0.29053714j,  1.66359380e-01+0.23940979j,\n",
       "        1.66359380e-01-0.23940979j,  2.87142460e-01+0.j        ,\n",
       "       -2.07758251e-01+0.18290794j, -2.07758251e-01-0.18290794j,\n",
       "       -2.72501664e-01+0.j        ,  1.34641223e-02+0.26647865j,\n",
       "        1.34641223e-02-0.26647865j, -2.06276119e-01+0.15924448j,\n",
       "       -2.06276119e-01-0.15924448j, -4.87164509e-02+0.25553532j,\n",
       "       -4.87164509e-02-0.25553532j, -2.40877527e-01+0.07437495j,\n",
       "       -2.40877527e-01-0.07437495j, -1.16686018e-01+0.22749512j,\n",
       "       -1.16686018e-01-0.22749512j,  2.56323786e-01+0.08057859j,\n",
       "        2.56323786e-01-0.08057859j,  9.72896825e-02+0.22314872j,\n",
       "        9.72896825e-02-0.22314872j,  1.59736677e-01+0.18456047j,\n",
       "        1.59736677e-01-0.18456047j,  1.32803143e-01+0.20460124j,\n",
       "        1.32803143e-01-0.20460124j, -1.82704930e-01+0.12527832j,\n",
       "       -1.82704930e-01-0.12527832j, -2.14885943e-01+0.04675028j,\n",
       "       -2.14885943e-01-0.04675028j, -2.15176284e-01+0.j        ,\n",
       "       -1.20982268e-01+0.19002215j, -1.20982268e-01-0.19002215j,\n",
       "        2.38583502e-01+0.04553958j,  2.38583502e-01-0.04553958j,\n",
       "        2.37467395e-01+0.j        , -9.05003107e-02+0.19573332j,\n",
       "       -9.05003107e-02-0.19573332j, -7.64910823e-02+0.19775845j,\n",
       "       -7.64910823e-02-0.19775845j, -1.67438144e-02+0.21142674j,\n",
       "       -1.67438144e-02-0.21142674j,  1.81620853e-01+0.11316196j])"
      ]
     },
     "execution_count": 30,
     "metadata": {},
     "output_type": "execute_result"
    }
   ],
   "source": [
    "eigenvalues[:50]"
   ]
  },
  {
   "cell_type": "code",
   "execution_count": 15,
   "id": "32aeae7c-6ba0-4a62-a10f-f0aaafa4a853",
   "metadata": {},
   "outputs": [],
   "source": [
    "# calculate Laplace Kernel\n",
    "\n",
    "def laplace_kernel_entry(x, y, sigma):\n",
    "    \"\"\"\n",
    "    x are y in R^2\n",
    "    \"\"\"\n",
    "    return np.exp(-np.linalg.norm(x - y) / sigma)"
   ]
  },
  {
   "cell_type": "code",
   "execution_count": 16,
   "id": "403491a7-2646-4790-b19a-e42db393deba",
   "metadata": {},
   "outputs": [],
   "source": [
    "# execute\n",
    "def calc_laplace_2d(sigma):\n",
    "    num_inputs = 100\n",
    "    pi = np.pi\n",
    "    # sin(theta) and cos(theta), theta ~ (0, 2*pi) uniform\n",
    "    # take 100 points on the unit circle\n",
    "    theta = np.linspace(0.0, 2 * pi, num=num_inputs)\n",
    "    x = np.asarray((np.cos(theta), np.sin(theta)))\n",
    "\n",
    "    # make kernel\n",
    "    kernel = np.zeros((num_inputs, num_inputs))\n",
    "\n",
    "    for i in range(num_inputs):\n",
    "        for j in range(num_inputs):\n",
    "            kernel[i][j] = laplace_kernel_entry(x[:, i], x[:, j], sigma)\n",
    "    \n",
    "    # sort eigenvalues in descending order\n",
    "    global eigenvalues \n",
    "    eigenvalues = np.linalg.eigvals(kernel)\n",
    "    sorted_eigenvalues = np.sort(eigenvalues)[::-1] \n",
    "    # plt.plot(sorted_eigenvalues)\n",
    "    plt.loglog(sorted_eigenvalues[:-1])"
   ]
  },
  {
   "cell_type": "code",
   "execution_count": 17,
   "id": "e95693c6-2463-4d18-8120-80704f4bc13e",
   "metadata": {},
   "outputs": [
    {
     "data": {
      "image/png": "[encoded data removed]",
      "text/plain": [
       "<Figure size 432x288 with 1 Axes>"
      ]
     },
     "metadata": {
      "needs_background": "light"
     },
     "output_type": "display_data"
    }
   ],
   "source": [
    "calc_laplace_2d(sigma=1.0)"
   ]
  },
  {
   "cell_type": "code",
   "execution_count": 18,
   "id": "ebed4509-ba37-49b0-90f3-c9025a653b92",
   "metadata": {},
   "outputs": [
    {
     "data": {
      "image/png": "[encoded data removed]",
      "text/plain": [
       "<Figure size 432x288 with 1 Axes>"
      ]
     },
     "metadata": {
      "needs_background": "light"
     },
     "output_type": "display_data"
    }
   ],
   "source": [
    "calc_laplace_2d(sigma=1.5)"
   ]
  },
  {
   "cell_type": "code",
   "execution_count": 19,
   "id": "4b47d250-7ff3-4880-b7fa-766ef5512169",
   "metadata": {},
   "outputs": [
    {
     "data": {
      "image/png": "[encoded data removed]",
      "text/plain": [
       "<Figure size 432x288 with 1 Axes>"
      ]
     },
     "metadata": {
      "needs_background": "light"
     },
     "output_type": "display_data"
    }
   ],
   "source": [
    "calc_laplace_2d(sigma=2.0)"
   ]
  },
  {
   "cell_type": "code",
   "execution_count": 20,
   "id": "616200cf-f99b-4d45-b9c3-0d825034ad76",
   "metadata": {},
   "outputs": [
    {
     "data": {
      "text/plain": [
       "array([[2.        , 1.97583912, 1.94404729, ..., 1.94404729, 1.97583912,\n",
       "        2.        ],\n",
       "       [1.97583912, 2.        , 1.97583912, ..., 1.90507628, 1.94404729,\n",
       "        1.97583912],\n",
       "       [1.94404729, 1.97583912, 2.        , ..., 1.85940414, 1.90507628,\n",
       "        1.94404729],\n",
       "       ...,\n",
       "       [1.94404729, 1.90507628, 1.85940414, ..., 2.        , 1.97583912,\n",
       "        1.94404729],\n",
       "       [1.97583912, 1.94404729, 1.90507628, ..., 1.97583912, 2.        ,\n",
       "        1.97583912],\n",
       "       [2.        , 1.97583912, 1.94404729, ..., 1.94404729, 1.97583912,\n",
       "        2.        ]])"
      ]
     },
     "execution_count": 20,
     "metadata": {},
     "output_type": "execute_result"
    },
    {
     "data": {
      "image/png": "[encoded data removed]",
      "text/plain": [
       "<Figure size 432x288 with 1 Axes>"
      ]
     },
     "metadata": {
      "needs_background": "light"
     },
     "output_type": "display_data"
    }
   ],
   "source": [
    "calc_NTK_2d(analytic_kernel_entry_2d)"
   ]
  },
  {
   "cell_type": "code",
   "execution_count": null,
   "id": "6210d4d4-b4b0-4524-a666-00f71acc201f",
   "metadata": {},
   "outputs": [],
   "source": []
  }
 ],
 "metadata": {
  "kernelspec": {
   "display_name": "Python 3",
   "language": "python",
   "name": "python3"
  },
  "language_info": {
   "codemirror_mode": {
    "name": "ipython",
    "version": 3
   },
   "file_extension": ".py",
   "mimetype": "text/x-python",
   "name": "python",
   "nbconvert_exporter": "python",
   "pygments_lexer": "ipython3",
   "version": "3.8.8"
  }
 },
 "nbformat": 4,
 "nbformat_minor": 5
}
