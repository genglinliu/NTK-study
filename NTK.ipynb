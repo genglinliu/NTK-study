{
 "cells": [
  {
   "cell_type": "code",
   "execution_count": 1,
   "id": "c0b8c6a4-315b-4925-9089-b2ce85d2b8bc",
   "metadata": {},
   "outputs": [],
   "source": [
    "import numpy as np"
   ]
  },
  {
   "cell_type": "code",
   "execution_count": 2,
   "id": "59ec6167-1efc-4e55-b61e-d5b282b652ce",
   "metadata": {},
   "outputs": [
    {
     "data": {
      "text/plain": [
       "array([0.1, 0.2, 0.3, 0.4, 0.5])"
      ]
     },
     "metadata": {},
     "output_type": "display_data"
    },
    {
     "data": {
      "text/plain": [
       "array([0.6, 0.7, 0.8, 0.9, 1. ])"
      ]
     },
     "metadata": {},
     "output_type": "display_data"
    }
   ],
   "source": [
    "\"\"\"\n",
    "1d input x_i and x_j, alias to x and x' in the paper\n",
    "for 2d input we should use np.meshgrid or np.mgrid\n",
    "\"\"\"\n",
    "\n",
    "num_input = 5\n",
    "\n",
    "x_i = np.linspace(0.1, 0.5, num=num_input)\n",
    "x_j = np.linspace(0.6, 1.0, num=num_input)\n",
    "\n",
    "display(x_i)\n",
    "display(x_j)\n"
   ]
  },
  {
   "cell_type": "code",
   "execution_count": 3,
   "id": "a6e5e6d5-2cf6-4585-9458-3da7cbf20ae8",
   "metadata": {},
   "outputs": [
    {
     "data": {
      "text/plain": [
       "array([[0.07, 0.08, 0.09, 0.1 , 0.11],\n",
       "       [0.13, 0.15, 0.17, 0.19, 0.21],\n",
       "       [0.19, 0.22, 0.25, 0.28, 0.31],\n",
       "       [0.25, 0.29, 0.33, 0.37, 0.41],\n",
       "       [0.31, 0.36, 0.41, 0.46, 0.51]])"
      ]
     },
     "metadata": {},
     "output_type": "display_data"
    }
   ],
   "source": [
    "# take outer product of x_i and x_j to get 100 x 100 matrix\n",
    "# in the paper sigma was defined entry-wise, but we want to compute the matrix at once\n",
    "n_0 = 1\n",
    "beta = 0.1\n",
    "\n",
    "def calc_sigma_1(x_i, x_j):\n",
    "    return np.outer(x_i, x_j) / n_0 + beta**2\n",
    "\n",
    "display(calc_sigma_1(x_i, x_j))"
   ]
  },
  {
   "cell_type": "code",
   "execution_count": 4,
   "id": "1d514972-b1af-4412-9991-07aaba5622d5",
   "metadata": {},
   "outputs": [],
   "source": [
    "\"\"\"\n",
    "f(x_i) and f(x_j) follow N(0, cov) where cov is a contatenation of 4 smaller matrices\n",
    "\"\"\"\n",
    "\n",
    "cov_ii = calc_sigma_1(x_i, x_i)\n",
    "cov_ij = calc_sigma_1(x_i, x_j)\n",
    "cov_ji = calc_sigma_1(x_j, x_i)\n",
    "cov_jj = calc_sigma_1(x_j, x_j)\n",
    "\n",
    "# cov_ij == cov_ji.T"
   ]
  },
  {
   "cell_type": "code",
   "execution_count": 5,
   "id": "ca7bf002-f088-46a5-af94-8089851d059f",
   "metadata": {},
   "outputs": [
    {
     "data": {
      "text/plain": [
       "array([[ True,  True,  True,  True,  True],\n",
       "       [ True,  True,  True,  True,  True],\n",
       "       [ True,  True,  True,  True,  True],\n",
       "       [ True,  True,  True,  True,  True],\n",
       "       [ True,  True,  True,  True,  True]])"
      ]
     },
     "execution_count": 5,
     "metadata": {},
     "output_type": "execute_result"
    }
   ],
   "source": [
    "cov_ij == cov_ji.T"
   ]
  },
  {
   "cell_type": "code",
   "execution_count": 6,
   "id": "0f5d1c0e-f652-4e14-9c19-d21204e04523",
   "metadata": {},
   "outputs": [
    {
     "data": {
      "text/plain": [
       "(10, 10)"
      ]
     },
     "metadata": {},
     "output_type": "display_data"
    },
    {
     "name": "stdout",
     "output_type": "stream",
     "text": [
      "[[0.02 0.03 0.04 0.05 0.06 0.07 0.08 0.09 0.1  0.11]\n",
      " [0.03 0.05 0.07 0.09 0.11 0.13 0.15 0.17 0.19 0.21]\n",
      " [0.04 0.07 0.1  0.13 0.16 0.19 0.22 0.25 0.28 0.31]\n",
      " [0.05 0.09 0.13 0.17 0.21 0.25 0.29 0.33 0.37 0.41]\n",
      " [0.06 0.11 0.16 0.21 0.26 0.31 0.36 0.41 0.46 0.51]\n",
      " [0.07 0.13 0.19 0.25 0.31 0.37 0.43 0.49 0.55 0.61]\n",
      " [0.08 0.15 0.22 0.29 0.36 0.43 0.5  0.57 0.64 0.71]\n",
      " [0.09 0.17 0.25 0.33 0.41 0.49 0.57 0.65 0.73 0.81]\n",
      " [0.1  0.19 0.28 0.37 0.46 0.55 0.64 0.73 0.82 0.91]\n",
      " [0.11 0.21 0.31 0.41 0.51 0.61 0.71 0.81 0.91 1.01]]\n"
     ]
    }
   ],
   "source": [
    "# concatenate the 4 sigmas\n",
    "\n",
    "v1 = np.vstack((cov_ii, cov_ji))\n",
    "v2 = np.vstack((cov_ij, cov_jj))\n",
    "\n",
    "cov = np.hstack((v1, v2))\n",
    "\n",
    "display(cov.shape)\n",
    "print(cov)"
   ]
  },
  {
   "cell_type": "code",
   "execution_count": 7,
   "id": "b90ba849-c433-4fd1-87b5-35e6cacaee56",
   "metadata": {},
   "outputs": [
    {
     "data": {
      "text/plain": [
       "array([ 0.14236386,  0.09536292,  0.04836197,  0.00136103, -0.04563992])"
      ]
     },
     "metadata": {},
     "output_type": "display_data"
    },
    {
     "data": {
      "text/plain": [
       "array([-0.09264088, -0.13964182, -0.18664276, -0.23364372, -0.28064466])"
      ]
     },
     "metadata": {},
     "output_type": "display_data"
    }
   ],
   "source": [
    "\"\"\"\n",
    "now sample Y_i, Y_j from this distribution N(0, cov)\n",
    "\"\"\"\n",
    "mean = [0] * 2 * num_input\n",
    "\n",
    "# sample once\n",
    "np.random.seed(26)\n",
    "sample = np.random.multivariate_normal(mean, cov, size=1, check_valid='warn')[0]\n",
    "f_xi = sample[:num_input]\n",
    "f_xj = sample[num_input:]\n",
    "display(f_xi)\n",
    "display(f_xj)"
   ]
  },
  {
   "cell_type": "code",
   "execution_count": 8,
   "id": "7342b53b-e696-439f-8743-2f44ab29f82f",
   "metadata": {},
   "outputs": [],
   "source": [
    "# gaol: approximate expectation using a finite sum and take the mean\n",
    "# approach 1: sample and compute outer product first, then take mean\n",
    "def calc_sigma_2_v1(activation):\n",
    "    num_samples = 100\n",
    "    sum_N = np.zeros((num_input, num_input))\n",
    "    np.random.seed(26)\n",
    "    for i in range(num_samples):\n",
    "        sample = np.random.multivariate_normal(mean, cov, size=1)[0]\n",
    "        f_xi = sample[:num_input]\n",
    "        f_xj = sample[num_input:]\n",
    "        sum_N += np.outer(activation(f_xi), activation(f_xj))\n",
    "\n",
    "    sigma_2 = (sum_N / num_samples) + beta**2\n",
    "    \n",
    "    return sigma_2\n",
    "\n",
    "#     display(sigma_2)"
   ]
  },
  {
   "cell_type": "code",
   "execution_count": 9,
   "id": "53939ad2-f9ee-40b3-a970-b3273dbdd530",
   "metadata": {},
   "outputs": [],
   "source": [
    "# approach 2: vectorize the sampling and take mean of activated f, then do outer product\n",
    "def calc_sigma_2_v2(activation):\n",
    "    num_samples = 100\n",
    "    np.random.seed(26)\n",
    "    s = np.random.multivariate_normal(mean, cov, size=num_samples)\n",
    "    # s: (num_samples, 10)\n",
    "\n",
    "    f_xi = s[:, :num_input]\n",
    "    f_xj = s[:, num_input:]\n",
    "\n",
    "    # we may take the mean of the relu and then do outer product\n",
    "    sig_f_xi = np.mean(activation(f_xi), axis=0)\n",
    "    sig_f_xj = np.mean(activation(f_xj), axis=0)\n",
    "\n",
    "    sigma_2 = np.outer(sig_f_xi, sig_f_xj) + beta**2\n",
    "    \n",
    "    return sigma_2\n",
    "\n",
    "#     display(sigma_2)"
   ]
  },
  {
   "cell_type": "code",
   "execution_count": 10,
   "id": "480c0dd0-58f6-41b4-871b-580e4ede1aab",
   "metadata": {},
   "outputs": [
    {
     "data": {
      "text/plain": [
       "array([0.14236386, 0.09536292, 0.04836197, 0.00136103, 0.        ])"
      ]
     },
     "metadata": {},
     "output_type": "display_data"
    },
    {
     "data": {
      "text/plain": [
       "array([1., 1., 1., 1., 0.])"
      ]
     },
     "metadata": {},
     "output_type": "display_data"
    }
   ],
   "source": [
    "\"\"\"\n",
    "activation functions and their derivatives\n",
    "\"\"\"\n",
    "\n",
    "def relu_kth(x, k):\n",
    "    return np.maximum(x**k, 0)\n",
    "\n",
    "def relu(x):\n",
    "    return np.maximum(x, 0)\n",
    "\n",
    "def d_relu(x):\n",
    "    return 1.0 * (x > 0)\n",
    "\n",
    "def d_relu_kth(x, k):\n",
    "    return k * x**(k-1) * (x > 0)\n",
    "\n",
    "display(relu(f_xi))\n",
    "display(d_relu(f_xi))\n"
   ]
  },
  {
   "cell_type": "code",
   "execution_count": 11,
   "id": "411ba97e-2817-4266-a4be-6eae4806fb7b",
   "metadata": {},
   "outputs": [
    {
     "data": {
      "text/plain": [
       "array([[0.04988892, 0.05572713, 0.06157944, 0.06743174, 0.07328404],\n",
       "       [0.07919627, 0.08973607, 0.10028731, 0.11083854, 0.12138978],\n",
       "       [0.108747  , 0.12404049, 0.13934277, 0.15464505, 0.16994733],\n",
       "       [0.13841707, 0.15850368, 0.17859642, 0.19868916, 0.2187819 ],\n",
       "       [0.16809138, 0.19297306, 0.21785822, 0.24274338, 0.26762853]])"
      ]
     },
     "execution_count": 11,
     "metadata": {},
     "output_type": "execute_result"
    }
   ],
   "source": [
    "calc_sigma_2_v1(relu)"
   ]
  },
  {
   "cell_type": "code",
   "execution_count": 12,
   "id": "4369c838-6484-4d47-ba27-eeb760b8438c",
   "metadata": {},
   "outputs": [
    {
     "data": {
      "text/plain": [
       "array([[0.02293469, 0.02497931, 0.02702922, 0.02907913, 0.03112904],\n",
       "       [0.02946764, 0.03254494, 0.0356302 , 0.03871546, 0.04180072],\n",
       "       [0.03651265, 0.04070358, 0.04490534, 0.04910711, 0.05330887],\n",
       "       [0.04391739, 0.0492788 , 0.05465409, 0.06002937, 0.06540465],\n",
       "       [0.05158906, 0.05816316, 0.06475426, 0.07134536, 0.07793646]])"
      ]
     },
     "execution_count": 12,
     "metadata": {},
     "output_type": "execute_result"
    }
   ],
   "source": [
    "calc_sigma_2_v2(relu)"
   ]
  },
  {
   "cell_type": "code",
   "execution_count": 13,
   "id": "828b1381-6528-427a-9569-25c6579e9684",
   "metadata": {},
   "outputs": [],
   "source": [
    "\"\"\"\n",
    "Compute Theta 1 and 2 using Sigma\n",
    "\"\"\"\n",
    "\n",
    "THETA_1 = calc_sigma_1(x_i, x_j) # actually make a copy\n",
    "\n",
    "sigma_2 = calc_sigma_2_v1(relu)\n",
    "sigma_2_prime = calc_sigma_2_v1(d_relu)\n",
    "\n",
    "THETA_2 = np.multiply(THETA_1, sigma_2_prime) + sigma_2"
   ]
  },
  {
   "cell_type": "code",
   "execution_count": 14,
   "id": "8910f281-5fe0-4180-b770-5c899881552e",
   "metadata": {},
   "outputs": [
    {
     "data": {
      "text/plain": [
       "array([[0.07, 0.08, 0.09, 0.1 , 0.11],\n",
       "       [0.13, 0.15, 0.17, 0.19, 0.21],\n",
       "       [0.19, 0.22, 0.25, 0.28, 0.31],\n",
       "       [0.25, 0.29, 0.33, 0.37, 0.41],\n",
       "       [0.31, 0.36, 0.41, 0.46, 0.51]])"
      ]
     },
     "metadata": {},
     "output_type": "display_data"
    },
    {
     "data": {
      "text/plain": [
       "array([[0.07578892, 0.08452713, 0.09397944, 0.10343174, 0.11288404],\n",
       "       [0.12989627, 0.14673607, 0.16488731, 0.18303854, 0.20118978],\n",
       "       [0.184747  , 0.20984049, 0.23684277, 0.26384505, 0.29084733],\n",
       "       [0.24341707, 0.27740368, 0.31389642, 0.35038916, 0.3868819 ],\n",
       "       [0.30139138, 0.34417306, 0.39005822, 0.43594338, 0.48182853]])"
      ]
     },
     "metadata": {},
     "output_type": "display_data"
    }
   ],
   "source": [
    "display(THETA_1)\n",
    "display(THETA_2)"
   ]
  },
  {
   "cell_type": "code",
   "execution_count": null,
   "id": "389b0259-c843-4992-b242-ab25e132d758",
   "metadata": {},
   "outputs": [],
   "source": []
  }
 ],
 "metadata": {
  "kernelspec": {
   "display_name": "Python 3",
   "language": "python",
   "name": "python3"
  },
  "language_info": {
   "codemirror_mode": {
    "name": "ipython",
    "version": 3
   },
   "file_extension": ".py",
   "mimetype": "text/x-python",
   "name": "python",
   "nbconvert_exporter": "python",
   "pygments_lexer": "ipython3",
   "version": "3.8.8"
  }
 },
 "nbformat": 4,
 "nbformat_minor": 5
}
