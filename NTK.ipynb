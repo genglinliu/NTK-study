{
 "cells": [
  {
   "cell_type": "code",
   "execution_count": 1,
   "id": "c0b8c6a4-315b-4925-9089-b2ce85d2b8bc",
   "metadata": {},
   "outputs": [],
   "source": [
    "import numpy as np\n",
    "import matplotlib.pyplot as plt"
   ]
  },
  {
   "cell_type": "code",
   "execution_count": 2,
   "id": "5f17e683-ad39-4e6a-8de8-c29f71e302a3",
   "metadata": {},
   "outputs": [],
   "source": [
    "\"\"\"\n",
    "activation functions and their derivatives\n",
    "\"\"\"\n",
    "\n",
    "def relu_k(x, k):\n",
    "    return np.maximum(x**k, 0)\n",
    "\n",
    "def d_relu_k(x, k):\n",
    "    return k * x**(k-1) * (x > 0)\n",
    "\n",
    "def relu(x):\n",
    "    return np.maximum(x, 0)\n",
    "\n",
    "def d_relu(x):\n",
    "    return 1.0 * (x > 0)\n",
    "\n",
    "def sin(x, k=None):\n",
    "    return np.sin(x)\n",
    "\n",
    "def cos(x, k=None):\n",
    "    return np.cos(x)\n",
    "\n",
    "def d_cos(x, k=None):\n",
    "    return -np.sin(x)"
   ]
  },
  {
   "cell_type": "code",
   "execution_count": 3,
   "id": "e7cc7921-f748-46e8-9e8c-3f08cf1199b7",
   "metadata": {},
   "outputs": [],
   "source": [
    "\"\"\"\n",
    "analytic solution: Equation (4)-(5) on page 3\n",
    "\n",
    "u = <x, x'> / ||x|| ||x'||\n",
    "\n",
    "k(u) = u k_0(u) + k_1(u)\n",
    "\n",
    "k_0 = 1/pi (pi - arccos(u))\n",
    "k_1 = 1/pi (u (pi - arccos(u)) + sqrt(1 - u^2))\n",
    "\n",
    "assuming x == x'\n",
    "\"\"\"\n",
    "\n",
    "def kappa(u):\n",
    "    pi = np.pi\n",
    "    k_0 = (1/pi) * (pi - np.arccos(u))\n",
    "    k_1 = (1/pi) * (u * (pi - np.arccos(u)) + np.sqrt(1 - u**2))\n",
    "    return u * k_0 + k_1\n",
    "\n",
    "def analytic_kernel_entry_2d(x, y, num_samples=None, w1=None, w2=None, k=None,activation=None): # x, y vector\n",
    "    # 'None' params are for fuction call convenience\n",
    "    # don't need norm_prod because x y are both unit vector, norm=1\n",
    "    norm_prod = np.linalg.norm(x) * np.linalg.norm(y)\n",
    "    # for 1d input on line, it's just x * y\n",
    "    inner_prod = x.dot(y)\n",
    "    # for numeircal stability: if not -1 < u < 1, arccos(u) is undefined\n",
    "    if (inner_prod > 1.0):\n",
    "        inner_prod = 1.0\n",
    "    if (inner_prod < -1.0):\n",
    "        inner_prod = -1.0\n",
    "    u = inner_prod\n",
    "    \n",
    "    return kappa(u)"
   ]
  },
  {
   "cell_type": "code",
   "execution_count": 4,
   "id": "c23adf9d-0ee4-4a4e-8379-55822adac5d8",
   "metadata": {},
   "outputs": [],
   "source": [
    "def numerical_kernel_entry(x, y, num_samples, w1, w2, k=1, activation='relu_k'):\n",
    "    \"\"\"\n",
    "    https://papers.nips.cc/paper/2019/file/c4ef9c39b300931b69a36fb3dbb8d60e-Paper.pdf\n",
    "    equation (3) on page 3 and section 3.3 on page 7 \n",
    "    \n",
    "    x, y are vectors\n",
    "    activation = ['relu_k', 'sin', 'cos']\n",
    "    d_activation is the derivative of activation function\n",
    "    \n",
    "    k=1 means regular relu\n",
    "    \n",
    "    K(x, x') = <x, x'> E[sig'(<w, x>)sig'(<w, x'>)] + E[sig(<w, x>)sig(<w, x'>)]\n",
    "    E {w ~ N(0, 1)}\n",
    "    \"\"\"\n",
    "    \n",
    "    # w1: (num_samples, 2) x: (2,)\n",
    "    # get dot products\n",
    "    w1x = w1.dot(x) # (num_samples,)\n",
    "    w1y = w1.dot(y) # (num_samples,)\n",
    "    w2x = w2.dot(x)\n",
    "    w2y = w2.dot(y)\n",
    "    \n",
    "    if activation == 'relu_k':\n",
    "        activation_func = relu_k\n",
    "        d_activation = d_relu_k\n",
    "    elif activation == 'sin':\n",
    "        activation_func = sin\n",
    "        d_activation = cos\n",
    "    elif activation == 'cos':\n",
    "        activation_func = cos\n",
    "        d_activation = d_cos        \n",
    "    \n",
    "    sigma_w1x = np.asarray(activation_func(w1x, k)) # (num_samples,)\n",
    "    sigma_w1y = np.asarray(activation_func(w1y, k)) # (num_samples,)\n",
    "    sigma_w2x = np.asarray(d_activation(w2x, k))\n",
    "    sigma_w2y = np.asarray(d_activation(w2y, k))  \n",
    "\n",
    "    # dot product does the summation in a vectorized way\n",
    "    expection_1 = sigma_w1x.dot(sigma_w1y) / num_samples\n",
    "    expection_2 = sigma_w2x.dot(sigma_w2y) / num_samples\n",
    "    \n",
    "    return 2 * (x.dot(y)) * expection_2 + 2 * expection_1"
   ]
  },
  {
   "cell_type": "code",
   "execution_count": 5,
   "id": "422de710-1502-48cd-923a-c4652b7a15c6",
   "metadata": {},
   "outputs": [],
   "source": [
    "# execute\n",
    "def calc_NTK_2d(kernel_entry_func, k=1, activation='relu_k'):\n",
    "    num_inputs = 100\n",
    "    pi = np.pi\n",
    "    # sin(theta) and cos(theta), theta ~ (0, 2*pi) uniform\n",
    "    # take 100 points on the unit circle\n",
    "    theta = np.linspace(0.0, 2 * pi, num=num_inputs)\n",
    "    x = np.asarray((np.cos(theta), np.sin(theta)))\n",
    "\n",
    "    # initialize kernel and sample weights\n",
    "    kernel = np.zeros((num_inputs, num_inputs))\n",
    "    num_samples = 1000\n",
    "    w1, w2 = np.random.normal(0.0, 1.0, size=[2, num_samples, 2])\n",
    "    \n",
    "    for i in range(num_inputs):\n",
    "        for j in range(num_inputs):\n",
    "            kernel[i][j] = kernel_entry_func(x[:, i], x[:, j], num_samples, w1, w2, k, activation)\n",
    "    \n",
    "    # sort eigenvalues in descending order\n",
    "    eigenvalues = np.linalg.eigvals(kernel)\n",
    "    sorted_eigenvalues = np.sort(eigenvalues)[::-1] \n",
    "    plt.loglog(sorted_eigenvalues[:-1])\n",
    "    return eigenvalues"
   ]
  },
  {
   "cell_type": "code",
   "execution_count": 6,
   "id": "ecf51a71-145c-4f32-9b9a-bafdd46d24e2",
   "metadata": {},
   "outputs": [
    {
     "data": {
      "image/png": "[encoded data removed]",
      "text/plain": [
       "<Figure size 432x288 with 1 Axes>"
      ]
     },
     "metadata": {
      "needs_background": "light"
     },
     "output_type": "display_data"
    }
   ],
   "source": [
    "kernel_analytic = calc_NTK_2d(analytic_kernel_entry_2d)\n",
    "kernel_numerical_k1 = calc_NTK_2d(numerical_kernel_entry, k=1)\n",
    "kernel_numerical_k2 = calc_NTK_2d(numerical_kernel_entry, k=2)\n",
    "kernel_numerical_k3 = calc_NTK_2d(numerical_kernel_entry, k=3)\n",
    "kernel_numerical_k4 = calc_NTK_2d(numerical_kernel_entry, k=4)"
   ]
  },
  {
   "cell_type": "code",
   "execution_count": 7,
   "id": "a6c1aad0-da19-4ce1-96cf-18e40ce2a429",
   "metadata": {},
   "outputs": [
    {
     "data": {
      "text/plain": [
       "'numerical error'"
      ]
     },
     "execution_count": 7,
     "metadata": {},
     "output_type": "execute_result"
    }
   ],
   "source": [
    "\"\"\"numerical error\"\"\"\n",
    "# return kernel in calc_NTK_2d instead then run following\n",
    "# np.max((kernel_numerical_k1 - kernel_analytic), axis=1)"
   ]
  },
  {
   "cell_type": "code",
   "execution_count": 8,
   "id": "51589b9a-5840-4cce-913a-b351a692af3b",
   "metadata": {},
   "outputs": [],
   "source": [
    "def calc_NTK_2d_trig(kernel_entry_func, k=None, activation='sin'):\n",
    "    num_inputs = 100\n",
    "    pi = np.pi\n",
    "    # sin(theta) and cos(theta), theta ~ (0, 2*pi) uniform\n",
    "    # take 100 points on the unit circle\n",
    "    theta = np.linspace(0.0, 2 * pi, num=num_inputs)\n",
    "    x = np.asarray((np.cos(theta), np.sin(theta)))\n",
    "\n",
    "    # initialize kernel and sample weights\n",
    "    kernel = np.zeros((num_inputs, num_inputs))\n",
    "    num_samples = 1000\n",
    "    w1, w2 = np.random.normal(0.0, 1.0, size=[2, num_samples, 2])\n",
    "\n",
    "    for i in range(num_inputs):\n",
    "        for j in range(num_inputs):\n",
    "            kernel[i][j] = kernel_entry_func(x[:, i], x[:, j], num_samples, w1, w2, k, activation)\n",
    "    \n",
    "    # sort eigenvalues in descending order\n",
    "    eigenvalues = np.linalg.eigvals(kernel)\n",
    "    sorted_eigenvalues = np.sort(eigenvalues)[::-1] \n",
    "    # y log scale keep x , instead of log-log\n",
    "    plt.yscale('log')\n",
    "    plt.plot(sorted_eigenvalues)\n",
    "    return eigenvalues"
   ]
  },
  {
   "cell_type": "code",
   "execution_count": 9,
   "id": "303c5e3c-a088-4ab7-8d8c-017d6074d0ee",
   "metadata": {},
   "outputs": [
    {
     "name": "stderr",
     "output_type": "stream",
     "text": [
      "C:\\Users\\genglinliu\\anaconda3\\lib\\site-packages\\numpy\\core\\_asarray.py:102: ComplexWarning: Casting complex values to real discards the imaginary part\n",
      "  return array(a, dtype, copy=False, order=order)\n",
      "C:\\Users\\genglinliu\\anaconda3\\lib\\site-packages\\numpy\\core\\_asarray.py:102: ComplexWarning: Casting complex values to real discards the imaginary part\n",
      "  return array(a, dtype, copy=False, order=order)\n"
     ]
    },
    {
     "data": {
      "image/png": "[encoded data removed]",
      "text/plain": [
       "<Figure size 432x288 with 1 Axes>"
      ]
     },
     "metadata": {
      "needs_background": "light"
     },
     "output_type": "display_data"
    }
   ],
   "source": [
    "kernel_sin = calc_NTK_2d_trig(numerical_kernel_entry, activation='sin')\n",
    "kernel_cos = calc_NTK_2d_trig(numerical_kernel_entry, activation='cos')"
   ]
  },
  {
   "cell_type": "code",
   "execution_count": 10,
   "id": "32aeae7c-6ba0-4a62-a10f-f0aaafa4a853",
   "metadata": {},
   "outputs": [],
   "source": [
    "# calculate Laplace Kernel\n",
    "\n",
    "def laplace_kernel_entry(x, y, sigma):\n",
    "    \"\"\"\n",
    "    x are y in R^2\n",
    "    \"\"\"\n",
    "    return np.exp(-np.linalg.norm(x - y) / sigma)"
   ]
  },
  {
   "cell_type": "code",
   "execution_count": 11,
   "id": "403491a7-2646-4790-b19a-e42db393deba",
   "metadata": {},
   "outputs": [],
   "source": [
    "# execute\n",
    "def calc_laplace_2d(sigma):\n",
    "    num_inputs = 100\n",
    "    pi = np.pi\n",
    "    # sin(theta) and cos(theta), theta ~ (0, 2*pi) uniform\n",
    "    # take 100 points on the unit circle\n",
    "    theta = np.linspace(0.0, 2 * pi, num=num_inputs)\n",
    "    x = np.asarray((np.cos(theta), np.sin(theta)))\n",
    "\n",
    "    # init kernel\n",
    "    kernel = np.zeros((num_inputs, num_inputs))\n",
    "\n",
    "    for i in range(num_inputs):\n",
    "        for j in range(num_inputs):\n",
    "            kernel[i][j] = laplace_kernel_entry(x[:, i], x[:, j], sigma)\n",
    "    \n",
    "    # sort eigenvalues in descending order\n",
    "    eigenvalues = np.linalg.eigvals(kernel)\n",
    "    sorted_eigenvalues = np.sort(eigenvalues)[::-1] \n",
    "    # plt.plot(sorted_eigenvalues)\n",
    "    plt.loglog(sorted_eigenvalues[:-1])"
   ]
  },
  {
   "cell_type": "code",
   "execution_count": 12,
   "id": "e95693c6-2463-4d18-8120-80704f4bc13e",
   "metadata": {},
   "outputs": [
    {
     "data": {
      "image/png": "[encoded data removed]",
      "text/plain": [
       "<Figure size 432x288 with 1 Axes>"
      ]
     },
     "metadata": {
      "needs_background": "light"
     },
     "output_type": "display_data"
    }
   ],
   "source": [
    "calc_NTK_2d(analytic_kernel_entry_2d)\n",
    "calc_laplace_2d(sigma=1.0)\n",
    "# calc_laplace_2d(sigma=1.5)\n",
    "# calc_laplace_2d(sigma=2.0)"
   ]
  },
  {
   "cell_type": "code",
   "execution_count": null,
   "id": "7337d681-e7e8-4a3e-8267-befd79dfcd62",
   "metadata": {},
   "outputs": [],
   "source": []
  }
 ],
 "metadata": {
  "kernelspec": {
   "display_name": "Python 3",
   "language": "python",
   "name": "python3"
  },
  "language_info": {
   "codemirror_mode": {
    "name": "ipython",
    "version": 3
   },
   "file_extension": ".py",
   "mimetype": "text/x-python",
   "name": "python",
   "nbconvert_exporter": "python",
   "pygments_lexer": "ipython3",
   "version": "3.8.8"
  }
 },
 "nbformat": 4,
 "nbformat_minor": 5
}
