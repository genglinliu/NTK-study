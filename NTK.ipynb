{
 "cells": [
  {
   "cell_type": "code",
   "execution_count": 1,
   "id": "c0b8c6a4-315b-4925-9089-b2ce85d2b8bc",
   "metadata": {},
   "outputs": [],
   "source": [
    "import numpy as np\n",
    "import matplotlib.pyplot as plt"
   ]
  },
  {
   "cell_type": "code",
   "execution_count": 2,
   "id": "5f17e683-ad39-4e6a-8de8-c29f71e302a3",
   "metadata": {},
   "outputs": [],
   "source": [
    "\"\"\"\n",
    "activation functions and their derivatives\n",
    "\"\"\"\n",
    "\n",
    "def relu_kth(x, k):\n",
    "    return np.maximum(x**k, 0)\n",
    "\n",
    "def relu(x):\n",
    "    return np.maximum(x, 0)\n",
    "\n",
    "def d_relu(x):\n",
    "    return 1.0 * (x > 0)\n",
    "\n",
    "def d_relu_kth(x, k):\n",
    "    return k * x**(k-1) * (x > 0)"
   ]
  },
  {
   "cell_type": "code",
   "execution_count": 3,
   "id": "e7cc7921-f748-46e8-9e8c-3f08cf1199b7",
   "metadata": {},
   "outputs": [],
   "source": [
    "\"\"\"\n",
    "analytic solution: Equation (4)-(5) on page 3\n",
    "\n",
    "u = <x, x'> / ||x|| ||x'||\n",
    "\n",
    "k(u) = u k_0(u) + k_1(u)\n",
    "\n",
    "k_0 = 1/pi (pi - arccos(u))\n",
    "k_1 = 1/pi (u (pi - arccos(u)) + sqrt(1 - u^2))\n",
    "\n",
    "assuming x == x'\n",
    "\"\"\"\n",
    "\n",
    "def kappa(u):\n",
    "    pi = np.pi\n",
    "    k_0 = (1/pi) * (pi - np.arccos(u))\n",
    "    k_1 = (1/pi) * (u * (pi - np.arccos(u)) + np.sqrt(1 - u**2))\n",
    "    return u * k_0 + k_1\n",
    "\n",
    "def analytic_kernel_entry_2d(x, y): # x, y vector\n",
    "    # don't need norm_prod because x y are both unit vector, norm=1\n",
    "    norm_prod = np.linalg.norm(x) * np.linalg.norm(y)\n",
    "    # for 1d input on line, it's just x * y\n",
    "    inner_prod = x.dot(y)\n",
    "    # for numeircal stability: if not -1 < u < 1, arccos(u) is undefined\n",
    "    if (inner_prod > 1.0):\n",
    "        inner_prod = 1.0\n",
    "    if (inner_prod < -1.0):\n",
    "        inner_prod = -1.0\n",
    "    u = inner_prod\n",
    "    \n",
    "    return kappa(u)"
   ]
  },
  {
   "cell_type": "code",
   "execution_count": 44,
   "id": "2f443ed5-46ba-473c-9088-9e7d2a83c23f",
   "metadata": {},
   "outputs": [],
   "source": [
    "\"\"\"\n",
    "Numerical approach at\n",
    "https://papers.nips.cc/paper/2019/file/c4ef9c39b300931b69a36fb3dbb8d60e-Paper.pdf\n",
    "equation (3) on page 3 and section 3.3 on page 7 \n",
    "\"\"\"\n",
    "\n",
    "# K(x, x') = <x, x'> E[sig'(<w, x>)sig'(<w, x'>)] + E[sig(<w, x>)sig(<w, x'>)]\n",
    "# E {w ~ N(0, 1)}\n",
    "\n",
    "def numerical_kernel_entry(x, y, num_samples=1000):\n",
    "\n",
    "    w1, w2 = np.random.normal(0.0, 1.0, size=[2, num_samples])\n",
    "    \n",
    "    w1_ = np.tile(w1, [2, 1]).T\n",
    "    w2_ = np.tile(w2, [2, 1]).T   \n",
    "    \n",
    "    print(w1_)\n",
    "    x_ = np.tile(x, (num_samples, 1))\n",
    "    print(x_)\n",
    "    y_ = np.tile(y, (num_samples, 1))\n",
    "    \n",
    "    w1x = w1_ * x_\n",
    "    w1y = w1_ * y_\n",
    "    sigma_w1x = relu(w1x)\n",
    "    sigma_w1y = relu(w1y)\n",
    "\n",
    "    w2x = w2_ * x_\n",
    "    w2y = w2_ * y_\n",
    "    sigma_w2x = d_relu(w2x)\n",
    "    sigma_w2y = d_relu(w2y)\n",
    "\n",
    "    expection_1 = sigma_w1x.dot(sigma_w1y) / num_samples\n",
    "    expection_2 = sigma_w2x.dot(sigma_w2y) / num_samples\n",
    "    \n",
    "    return (x.dot(y)) * expection_1 + expection_2"
   ]
  },
  {
   "cell_type": "code",
   "execution_count": 45,
   "id": "422de710-1502-48cd-923a-c4652b7a15c6",
   "metadata": {},
   "outputs": [],
   "source": [
    "# execute\n",
    "def calc_NTK_2d(kernel_entry_func):\n",
    "    num_inputs = 100\n",
    "    pi = np.pi\n",
    "    # sin(theta) and cos(theta), theta ~ (0, 2*pi) uniform\\\n",
    "    # take 100 points on uniit circle\n",
    "    theta = np.linspace(0.0, 2 * pi, num=num_inputs)\n",
    "    x = np.asarray((np.cos(theta), np.sin(theta)))\n",
    "\n",
    "    # make kernel\n",
    "    kernel = np.zeros((num_inputs, num_inputs))\n",
    "\n",
    "    for i in range(num_inputs):\n",
    "        for j in range(num_inputs):\n",
    "            kernel[i][j] = kernel_entry_func(x[:, i], x[:, j])\n",
    "    \n",
    "    # sort eigenvalues in descending order\n",
    "    eigenvalues = np.linalg.eigvals(kernel)\n",
    "    sorted_eigenvalues = np.sort(eigenvalues)[::-1] \n",
    "    # plt.plot(sorted_eigenvalues[20:])\n",
    "    plt.loglog(sorted_eigenvalues[:-1])"
   ]
  },
  {
   "cell_type": "code",
   "execution_count": 46,
   "id": "3dab19ac-62f5-4205-b545-afde7b2133f1",
   "metadata": {},
   "outputs": [
    {
     "name": "stdout",
     "output_type": "stream",
     "text": [
      "[[-0.98672335 -0.98672335]\n",
      " [-1.89843487 -1.89843487]\n",
      " [ 0.94684495  0.94684495]\n",
      " ...\n",
      " [-0.13421126 -0.13421126]\n",
      " [ 0.21705815  0.21705815]\n",
      " [ 0.45207803  0.45207803]]\n",
      "[[1. 0.]\n",
      " [1. 0.]\n",
      " [1. 0.]\n",
      " ...\n",
      " [1. 0.]\n",
      " [1. 0.]\n",
      " [1. 0.]]\n"
     ]
    },
    {
     "ename": "ValueError",
     "evalue": "shapes (1000,2) and (1000,2) not aligned: 2 (dim 1) != 1000 (dim 0)",
     "output_type": "error",
     "traceback": [
      "\u001b[1;31m---------------------------------------------------------------------------\u001b[0m",
      "\u001b[1;31mValueError\u001b[0m                                Traceback (most recent call last)",
      "\u001b[1;32m<ipython-input-46-b1f6a6f2cebd>\u001b[0m in \u001b[0;36m<module>\u001b[1;34m\u001b[0m\n\u001b[1;32m----> 1\u001b[1;33m \u001b[0mcalc_NTK_2d\u001b[0m\u001b[1;33m(\u001b[0m\u001b[0mnumerical_kernel_entry\u001b[0m\u001b[1;33m)\u001b[0m\u001b[1;33m\u001b[0m\u001b[1;33m\u001b[0m\u001b[0m\n\u001b[0m",
      "\u001b[1;32m<ipython-input-45-cb16288f6d85>\u001b[0m in \u001b[0;36mcalc_NTK_2d\u001b[1;34m(kernel_entry_func)\u001b[0m\n\u001b[0;32m     13\u001b[0m     \u001b[1;32mfor\u001b[0m \u001b[0mi\u001b[0m \u001b[1;32min\u001b[0m \u001b[0mrange\u001b[0m\u001b[1;33m(\u001b[0m\u001b[0mnum_inputs\u001b[0m\u001b[1;33m)\u001b[0m\u001b[1;33m:\u001b[0m\u001b[1;33m\u001b[0m\u001b[1;33m\u001b[0m\u001b[0m\n\u001b[0;32m     14\u001b[0m         \u001b[1;32mfor\u001b[0m \u001b[0mj\u001b[0m \u001b[1;32min\u001b[0m \u001b[0mrange\u001b[0m\u001b[1;33m(\u001b[0m\u001b[0mnum_inputs\u001b[0m\u001b[1;33m)\u001b[0m\u001b[1;33m:\u001b[0m\u001b[1;33m\u001b[0m\u001b[1;33m\u001b[0m\u001b[0m\n\u001b[1;32m---> 15\u001b[1;33m             \u001b[0mkernel\u001b[0m\u001b[1;33m[\u001b[0m\u001b[0mi\u001b[0m\u001b[1;33m]\u001b[0m\u001b[1;33m[\u001b[0m\u001b[0mj\u001b[0m\u001b[1;33m]\u001b[0m \u001b[1;33m=\u001b[0m \u001b[0mkernel_entry_func\u001b[0m\u001b[1;33m(\u001b[0m\u001b[0mx\u001b[0m\u001b[1;33m[\u001b[0m\u001b[1;33m:\u001b[0m\u001b[1;33m,\u001b[0m \u001b[0mi\u001b[0m\u001b[1;33m]\u001b[0m\u001b[1;33m,\u001b[0m \u001b[0mx\u001b[0m\u001b[1;33m[\u001b[0m\u001b[1;33m:\u001b[0m\u001b[1;33m,\u001b[0m \u001b[0mj\u001b[0m\u001b[1;33m]\u001b[0m\u001b[1;33m)\u001b[0m\u001b[1;33m\u001b[0m\u001b[1;33m\u001b[0m\u001b[0m\n\u001b[0m\u001b[0;32m     16\u001b[0m \u001b[1;33m\u001b[0m\u001b[0m\n\u001b[0;32m     17\u001b[0m     \u001b[1;31m# sort eigenvalues in descending order\u001b[0m\u001b[1;33m\u001b[0m\u001b[1;33m\u001b[0m\u001b[1;33m\u001b[0m\u001b[0m\n",
      "\u001b[1;32m<ipython-input-44-eb2013d3bf1d>\u001b[0m in \u001b[0;36mnumerical_kernel_entry\u001b[1;34m(x, y, num_samples)\u001b[0m\n\u001b[0;32m     30\u001b[0m     \u001b[0msigma_w2y\u001b[0m \u001b[1;33m=\u001b[0m \u001b[0md_relu\u001b[0m\u001b[1;33m(\u001b[0m\u001b[0mw2y\u001b[0m\u001b[1;33m)\u001b[0m\u001b[1;33m\u001b[0m\u001b[1;33m\u001b[0m\u001b[0m\n\u001b[0;32m     31\u001b[0m \u001b[1;33m\u001b[0m\u001b[0m\n\u001b[1;32m---> 32\u001b[1;33m     \u001b[0mexpection_1\u001b[0m \u001b[1;33m=\u001b[0m \u001b[0msigma_w1x\u001b[0m\u001b[1;33m.\u001b[0m\u001b[0mdot\u001b[0m\u001b[1;33m(\u001b[0m\u001b[0msigma_w1y\u001b[0m\u001b[1;33m)\u001b[0m \u001b[1;33m/\u001b[0m \u001b[0mnum_samples\u001b[0m\u001b[1;33m\u001b[0m\u001b[1;33m\u001b[0m\u001b[0m\n\u001b[0m\u001b[0;32m     33\u001b[0m     \u001b[0mexpection_2\u001b[0m \u001b[1;33m=\u001b[0m \u001b[0msigma_w2x\u001b[0m\u001b[1;33m.\u001b[0m\u001b[0mdot\u001b[0m\u001b[1;33m(\u001b[0m\u001b[0msigma_w2y\u001b[0m\u001b[1;33m)\u001b[0m \u001b[1;33m/\u001b[0m \u001b[0mnum_samples\u001b[0m\u001b[1;33m\u001b[0m\u001b[1;33m\u001b[0m\u001b[0m\n\u001b[0;32m     34\u001b[0m \u001b[1;33m\u001b[0m\u001b[0m\n",
      "\u001b[1;31mValueError\u001b[0m: shapes (1000,2) and (1000,2) not aligned: 2 (dim 1) != 1000 (dim 0)"
     ]
    }
   ],
   "source": [
    "calc_NTK_2d(numerical_kernel_entry)"
   ]
  },
  {
   "cell_type": "code",
   "execution_count": null,
   "id": "e729a711-6736-4be4-9f52-68d1455803bb",
   "metadata": {},
   "outputs": [],
   "source": []
  },
  {
   "cell_type": "code",
   "execution_count": 7,
   "id": "f2d2177e-e259-4543-86d8-59fa8d7f3c8a",
   "metadata": {},
   "outputs": [],
   "source": [
    "a = np.arange(5)"
   ]
  },
  {
   "cell_type": "code",
   "execution_count": 17,
   "id": "64f18187-a66c-4947-aa1f-4244ff2f98ff",
   "metadata": {},
   "outputs": [
    {
     "data": {
      "text/plain": [
       "array([0, 1, 2, 3, 4])"
      ]
     },
     "execution_count": 17,
     "metadata": {},
     "output_type": "execute_result"
    }
   ],
   "source": [
    "a"
   ]
  },
  {
   "cell_type": "code",
   "execution_count": 25,
   "id": "02234d8c-32ed-41a5-aec7-33413e9b14bd",
   "metadata": {},
   "outputs": [
    {
     "data": {
      "text/plain": [
       "array([[0, 0, 0],\n",
       "       [1, 1, 1],\n",
       "       [2, 2, 2],\n",
       "       [3, 3, 3],\n",
       "       [4, 4, 4]])"
      ]
     },
     "execution_count": 25,
     "metadata": {},
     "output_type": "execute_result"
    }
   ],
   "source": [
    "np.tile(a, [3, 1]).T"
   ]
  }
 ],
 "metadata": {
  "kernelspec": {
   "display_name": "Python 3",
   "language": "python",
   "name": "python3"
  },
  "language_info": {
   "codemirror_mode": {
    "name": "ipython",
    "version": 3
   },
   "file_extension": ".py",
   "mimetype": "text/x-python",
   "name": "python",
   "nbconvert_exporter": "python",
   "pygments_lexer": "ipython3",
   "version": "3.8.8"
  }
 },
 "nbformat": 4,
 "nbformat_minor": 5
}
