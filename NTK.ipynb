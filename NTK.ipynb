{
 "cells": [
  {
   "cell_type": "code",
   "execution_count": 1,
   "id": "c0b8c6a4-315b-4925-9089-b2ce85d2b8bc",
   "metadata": {},
   "outputs": [],
   "source": [
    "import numpy as np\n",
    "import matplotlib.pyplot as plt"
   ]
  },
  {
   "cell_type": "code",
   "execution_count": 2,
   "id": "5f17e683-ad39-4e6a-8de8-c29f71e302a3",
   "metadata": {},
   "outputs": [],
   "source": [
    "\"\"\"\n",
    "activation functions and their derivatives\n",
    "\"\"\"\n",
    "\n",
    "def relu_kth(x, k):\n",
    "    return np.maximum(x**k, 0)\n",
    "\n",
    "def relu(x):\n",
    "    return np.maximum(x, 0)\n",
    "\n",
    "def d_relu(x):\n",
    "    return 1.0 * (x > 0)\n",
    "\n",
    "def d_relu_kth(x, k):\n",
    "    return k * x**(k-1) * (x > 0)"
   ]
  },
  {
   "cell_type": "code",
   "execution_count": 3,
   "id": "e7cc7921-f748-46e8-9e8c-3f08cf1199b7",
   "metadata": {},
   "outputs": [],
   "source": [
    "\"\"\"\n",
    "analytic solution: Equation (4)-(5) on page 3\n",
    "\n",
    "u = <x, x'> / ||x|| ||x'||\n",
    "\n",
    "k(u) = u k_0(u) + k_1(u)\n",
    "\n",
    "k_0 = 1/pi (pi - arccos(u))\n",
    "k_1 = 1/pi (u (pi - arccos(u)) + sqrt(1 - u^2))\n",
    "\n",
    "assuming x == x'\n",
    "\"\"\"\n",
    "\n",
    "def kappa(u):\n",
    "    pi = np.pi\n",
    "    k_0 = (1/pi) * (pi - np.arccos(u))\n",
    "    k_1 = (1/pi) * (u * (pi - np.arccos(u)) + np.sqrt(1 - u**2))\n",
    "    return u * k_0 + k_1\n",
    "\n",
    "def analytic_kernel_entry_2d(x, y): # x, y vector\n",
    "    # don't need norm_prod because x y are both unit vector, norm=1\n",
    "    norm_prod = np.linalg.norm(x) * np.linalg.norm(y)\n",
    "    # for 1d input on line, it's just x * y\n",
    "    inner_prod = x.dot(y)\n",
    "    # for numeircal stability: if not -1 < u < 1, arccos(u) is undefined\n",
    "    if (inner_prod > 1.0):\n",
    "        inner_prod = 1.0\n",
    "    if (inner_prod < -1.0):\n",
    "        inner_prod = -1.0\n",
    "    u = inner_prod\n",
    "    \n",
    "    return kappa(u)"
   ]
  },
  {
   "cell_type": "code",
   "execution_count": 53,
   "id": "2f443ed5-46ba-473c-9088-9e7d2a83c23f",
   "metadata": {},
   "outputs": [],
   "source": [
    "\"\"\"\n",
    "Numerical approach at\n",
    "https://papers.nips.cc/paper/2019/file/c4ef9c39b300931b69a36fb3dbb8d60e-Paper.pdf\n",
    "equation (3) on page 3 and section 3.3 on page 7 \n",
    "\"\"\"\n",
    "\n",
    "# K(x, x') = <x, x'> E[sig'(<w, x>)sig'(<w, x'>)] + E[sig(<w, x>)sig(<w, x'>)]\n",
    "# E {w ~ N(0, 1)}\n",
    "\n",
    "def numerical_kernel_entry(x, y, num_samples=1000):\n",
    "    \"\"\"x, y are vectors\"\"\"\n",
    "    \n",
    "    expection_1 = 0\n",
    "    expection_2 = 0\n",
    "    \n",
    "    for i in range(num_samples):\n",
    "        w1, w2 = np.random.normal(0.0, 1.0, size=[2, 2])\n",
    "\n",
    "        w1x = w1.dot(x)\n",
    "        w1y = w1.dot(y)\n",
    "        sigma_w1x = np.asarray(relu(w1x))\n",
    "        sigma_w1y = np.asarray(relu(w1y))\n",
    "\n",
    "        w2x = w2.dot(x)\n",
    "        w2y = w2.dot(y)\n",
    "        sigma_w2x = np.asarray(d_relu(w2x))\n",
    "        sigma_w2y = np.asarray(d_relu(w2y))\n",
    "\n",
    "        expection_1 += sigma_w1x * (sigma_w1y) \n",
    "        expection_2 += sigma_w2x * (sigma_w2y) \n",
    "    \n",
    "    expection_1 /= num_samples\n",
    "    expection_2/= num_samples    \n",
    "\n",
    "    return (x.dot(y)) * expection_1 + expection_2"
   ]
  },
  {
   "cell_type": "code",
   "execution_count": 54,
   "id": "422de710-1502-48cd-923a-c4652b7a15c6",
   "metadata": {},
   "outputs": [],
   "source": [
    "# execute\n",
    "def calc_NTK_2d(kernel_entry_func):\n",
    "    num_inputs = 100\n",
    "    pi = np.pi\n",
    "    # sin(theta) and cos(theta), theta ~ (0, 2*pi) uniform\\\n",
    "    # take 100 points on uniit circle\n",
    "    theta = np.linspace(0.0, 2 * pi, num=num_inputs)\n",
    "    x = np.asarray((np.cos(theta), np.sin(theta)))\n",
    "\n",
    "    # make kernel\n",
    "    kernel = np.zeros((num_inputs, num_inputs))\n",
    "\n",
    "    for i in range(num_inputs):\n",
    "        for j in range(num_inputs):\n",
    "            kernel[i][j] = kernel_entry_func(x[:, i], x[:, j])\n",
    "    \n",
    "    # sort eigenvalues in descending order\n",
    "    eigenvalues = np.linalg.eigvals(kernel)\n",
    "    sorted_eigenvalues = np.sort(eigenvalues)[::-1] \n",
    "    # plt.plot(sorted_eigenvalues[20:])\n",
    "    plt.loglog(sorted_eigenvalues[:-1])"
   ]
  },
  {
   "cell_type": "code",
   "execution_count": 55,
   "id": "3dab19ac-62f5-4205-b545-afde7b2133f1",
   "metadata": {},
   "outputs": [
    {
     "name": "stderr",
     "output_type": "stream",
     "text": [
      "C:\\Users\\genglinliu\\anaconda3\\lib\\site-packages\\numpy\\core\\_asarray.py:102: ComplexWarning: Casting complex values to real discards the imaginary part\n",
      "  return array(a, dtype, copy=False, order=order)\n"
     ]
    },
    {
     "data": {
      "image/png": "[encoded data removed]",
      "text/plain": [
       "<Figure size 432x288 with 1 Axes>"
      ]
     },
     "metadata": {
      "needs_background": "light"
     },
     "output_type": "display_data"
    }
   ],
   "source": [
    "calc_NTK_2d(numerical_kernel_entry)"
   ]
  },
  {
   "cell_type": "code",
   "execution_count": 43,
   "id": "53f03100-ba77-420e-8e99-08dea64b659c",
   "metadata": {},
   "outputs": [
    {
     "data": {
      "image/png": "[encoded data removed]",
      "text/plain": [
       "<Figure size 432x288 with 1 Axes>"
      ]
     },
     "metadata": {
      "needs_background": "light"
     },
     "output_type": "display_data"
    }
   ],
   "source": [
    "calc_NTK_2d(analytic_kernel_entry_2d)"
   ]
  },
  {
   "cell_type": "code",
   "execution_count": 18,
   "id": "f835a18f-62be-483e-a4ef-35d7e531ae46",
   "metadata": {},
   "outputs": [
    {
     "data": {
      "text/plain": [
       "(2, 10, 2)"
      ]
     },
     "execution_count": 18,
     "metadata": {},
     "output_type": "execute_result"
    }
   ],
   "source": [
    "a = np.random.normal(0.0, 1.0, size=[2, 10, 2])"
   ]
  },
  {
   "cell_type": "code",
   "execution_count": 20,
   "id": "408fe016-f019-4c4f-bc08-7ab0d9be45f4",
   "metadata": {},
   "outputs": [
    {
     "data": {
      "text/plain": [
       "array([[-0.90007506, -0.34603373],\n",
       "       [-0.70772708, -0.06366486],\n",
       "       [ 0.70599542, -1.74948876],\n",
       "       [-0.489641  , -0.08264604],\n",
       "       [-1.30912521, -0.53894753],\n",
       "       [ 1.48891091,  1.11242826],\n",
       "       [ 0.04103648,  1.32202388],\n",
       "       [ 0.97035113,  0.30980508],\n",
       "       [ 0.9556652 , -1.08031559],\n",
       "       [-0.2083494 ,  1.14970811]])"
      ]
     },
     "execution_count": 20,
     "metadata": {},
     "output_type": "execute_result"
    }
   ],
   "source": [
    "a[0]"
   ]
  },
  {
   "cell_type": "code",
   "execution_count": 21,
   "id": "b40c6c32-f1ab-4bd0-925c-45d3a16e81dd",
   "metadata": {},
   "outputs": [
    {
     "data": {
      "text/plain": [
       "array([[-0.88559305,  0.33128955],\n",
       "       [-1.0007851 , -0.35512889],\n",
       "       [-1.01102451,  0.58793579],\n",
       "       [-0.36768279, -0.410832  ],\n",
       "       [-0.56949754,  0.02722825],\n",
       "       [ 0.74590796,  0.96001372],\n",
       "       [ 1.2190063 ,  0.21249122],\n",
       "       [-1.42300123, -0.06953141],\n",
       "       [ 0.17395206,  0.31504398],\n",
       "       [ 0.41786123, -0.29910394]])"
      ]
     },
     "execution_count": 21,
     "metadata": {},
     "output_type": "execute_result"
    }
   ],
   "source": [
    "a[1]"
   ]
  },
  {
   "cell_type": "code",
   "execution_count": 22,
   "id": "e6c1411a-5e1b-44ca-8e48-7a1b12bac53a",
   "metadata": {},
   "outputs": [
    {
     "data": {
      "text/plain": [
       "array([-0.88559305,  0.33128955])"
      ]
     },
     "execution_count": 22,
     "metadata": {},
     "output_type": "execute_result"
    }
   ],
   "source": [
    "a[1][0]"
   ]
  },
  {
   "cell_type": "code",
   "execution_count": 25,
   "id": "2bfa6922-8c49-40fb-b7a2-bde3a921c97d",
   "metadata": {},
   "outputs": [],
   "source": [
    "b, c = np.random.normal(0.0, 1.0, size=[2, 2])"
   ]
  },
  {
   "cell_type": "code",
   "execution_count": 26,
   "id": "75add6c6-6455-4f79-b628-96b92fda64f8",
   "metadata": {},
   "outputs": [
    {
     "data": {
      "text/plain": [
       "array([-2.00615984, -1.40161041])"
      ]
     },
     "execution_count": 26,
     "metadata": {},
     "output_type": "execute_result"
    }
   ],
   "source": [
    "b"
   ]
  },
  {
   "cell_type": "code",
   "execution_count": null,
   "id": "577b7437-e9c9-4a71-801a-171609f4de97",
   "metadata": {},
   "outputs": [],
   "source": []
  }
 ],
 "metadata": {
  "kernelspec": {
   "display_name": "Python 3",
   "language": "python",
   "name": "python3"
  },
  "language_info": {
   "codemirror_mode": {
    "name": "ipython",
    "version": 3
   },
   "file_extension": ".py",
   "mimetype": "text/x-python",
   "name": "python",
   "nbconvert_exporter": "python",
   "pygments_lexer": "ipython3",
   "version": "3.8.8"
  }
 },
 "nbformat": 4,
 "nbformat_minor": 5
}
