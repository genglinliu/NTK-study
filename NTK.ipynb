{
 "cells": [
  {
   "cell_type": "code",
   "execution_count": 17,
   "id": "c0b8c6a4-315b-4925-9089-b2ce85d2b8bc",
   "metadata": {},
   "outputs": [],
   "source": [
    "import numpy as np"
   ]
  },
  {
   "cell_type": "code",
   "execution_count": 27,
   "id": "a6e5e6d5-2cf6-4585-9458-3da7cbf20ae8",
   "metadata": {},
   "outputs": [],
   "source": [
    "num_samples = 5"
   ]
  },
  {
   "cell_type": "code",
   "execution_count": 28,
   "id": "1d514972-b1af-4412-9991-07aaba5622d5",
   "metadata": {},
   "outputs": [
    {
     "data": {
      "text/plain": [
       "array([0.33957926, 0.40224932, 0.37408439, 0.58212686, 0.0048228 ])"
      ]
     },
     "metadata": {},
     "output_type": "display_data"
    },
    {
     "data": {
      "text/plain": [
       "array([0.6468584 , 0.16578674, 0.36292382, 0.47927655, 0.24873697])"
      ]
     },
     "metadata": {},
     "output_type": "display_data"
    }
   ],
   "source": [
    "x_i = np.random.random_sample((num_samples,))\n",
    "x_j = np.random.random_sample((num_samples,))\n",
    "\n",
    "display(x_i)\n",
    "display(x_j)"
   ]
  },
  {
   "cell_type": "code",
   "execution_count": 29,
   "id": "b90ba849-c433-4fd1-87b5-35e6cacaee56",
   "metadata": {},
   "outputs": [],
   "source": [
    "n_0 = 2\n",
    "beta = 0.1"
   ]
  },
  {
   "cell_type": "code",
   "execution_count": 32,
   "id": "7342b53b-e696-439f-8743-2f44ab29f82f",
   "metadata": {},
   "outputs": [],
   "source": [
    "# outer product of x_i and x_j to get 100 x 100 matrix\n",
    "# in the paper sigma was defined entry-wise, but we want to compute the matrix at once\n",
    "sigma_1 = np.outer(x_i, x_j) / n_0 + beta**2"
   ]
  },
  {
   "cell_type": "code",
   "execution_count": 33,
   "id": "94d276a0-905d-4cfd-a2bf-b35a76022de5",
   "metadata": {},
   "outputs": [
    {
     "data": {
      "text/plain": [
       "array([[0.11982985, 0.03814887, 0.0716207 , 0.09137619, 0.05223296],\n",
       "       [0.14009917, 0.0433438 , 0.08299293, 0.10639433, 0.06002714],\n",
       "       [0.13098982, 0.04100912, 0.07788207, 0.09964494, 0.05652431],\n",
       "       [0.19827682, 0.05825446, 0.11563385, 0.14949988, 0.08239824],\n",
       "       [0.01155983, 0.01039978, 0.01087515, 0.01115573, 0.0105998 ]])"
      ]
     },
     "execution_count": 33,
     "metadata": {},
     "output_type": "execute_result"
    }
   ],
   "source": [
    "sigma_1"
   ]
  },
  {
   "cell_type": "code",
   "execution_count": 34,
   "id": "53939ad2-f9ee-40b3-a970-b3273dbdd530",
   "metadata": {},
   "outputs": [
    {
     "data": {
      "text/plain": [
       "0.219659696796784"
      ]
     },
     "execution_count": 34,
     "metadata": {},
     "output_type": "execute_result"
    }
   ],
   "source": []
  },
  {
   "cell_type": "code",
   "execution_count": 35,
   "id": "828b1381-6528-427a-9569-25c6579e9684",
   "metadata": {},
   "outputs": [
    {
     "data": {
      "text/plain": [
       "array([[0.21965969, 0.05629774, 0.1232414 , 0.16275237, 0.08446592],\n",
       "       [0.26019835, 0.06668761, 0.14598586, 0.19278866, 0.10005428],\n",
       "       [0.24197963, 0.06201823, 0.13576414, 0.17928988, 0.09304862],\n",
       "       [0.37655365, 0.09650892, 0.21126771, 0.27899975, 0.14479647],\n",
       "       [0.00311967, 0.00079956, 0.00175031, 0.00231146, 0.00119961]])"
      ]
     },
     "execution_count": 35,
     "metadata": {},
     "output_type": "execute_result"
    }
   ],
   "source": [
    "np.outer(x_i, x_j)"
   ]
  },
  {
   "cell_type": "code",
   "execution_count": 48,
   "id": "a5366ab9-03ea-4ee0-bc53-319d2dc97f5c",
   "metadata": {},
   "outputs": [
    {
     "data": {
      "image/png": "[encoded data removed]",
      "text/plain": [
       "<Figure size 432x288 with 1 Axes>"
      ]
     },
     "metadata": {
      "needs_background": "light"
     },
     "output_type": "display_data"
    }
   ],
   "source": [
    "# sample from multivariate gaussian example\n",
    "# import matplotlib.pyplot as plt\n",
    "# mean = [0, 0]\n",
    "# cov = [[1, 0], [0, 100]]\n",
    "# x, y = np.random.multivariate_normal(mean, cov, size=5000, check_valid='warn').T\n",
    "# plt.plot(x, y, 'x')\n",
    "# plt.axis('equal')\n",
    "# plt.show()"
   ]
  },
  {
   "cell_type": "code",
   "execution_count": 71,
   "id": "763ff178-1c88-40c2-9e73-d5ea3ee29d24",
   "metadata": {},
   "outputs": [
    {
     "name": "stderr",
     "output_type": "stream",
     "text": [
      "<ipython-input-71-8d131f224a00>:4: RuntimeWarning: covariance is not positive-semidefinite.\n",
      "  x1, x2, x3, x4, x5 = x = np.random.multivariate_normal(mean, cov, 5)\n"
     ]
    }
   ],
   "source": [
    "# compute sigma_2\n",
    "mean = [0] * num_samples # (N,)\n",
    "cov = sigma_1 # (N, N)\n",
    "x1, x2, x3, x4, x5 = x = np.random.multivariate_normal(mean, cov, 5)"
   ]
  },
  {
   "cell_type": "code",
   "execution_count": null,
   "id": "3641a1bf-2486-4474-86de-592d66290fe4",
   "metadata": {},
   "outputs": [],
   "source": []
  },
  {
   "cell_type": "code",
   "execution_count": 72,
   "id": "5873d7ea-5e3a-4f86-a907-664e97c12994",
   "metadata": {},
   "outputs": [
    {
     "data": {
      "text/plain": [
       "array([[-0.23428503, -0.12005381, -0.16686431, -0.19449245, -0.13975047],\n",
       "       [-0.11052223, -0.17439462, -0.14822053, -0.13277226, -0.16338124],\n",
       "       [-0.07140218, -0.01845281, -0.04015079, -0.0529572 , -0.02758276],\n",
       "       [-0.85476438, -0.35626962, -0.56054648, -0.68111318, -0.44222409],\n",
       "       [-0.15442087, -0.01891294, -0.07444237, -0.10721653, -0.0422783 ]])"
      ]
     },
     "execution_count": 72,
     "metadata": {},
     "output_type": "execute_result"
    }
   ],
   "source": [
    "x"
   ]
  },
  {
   "cell_type": "code",
   "execution_count": 73,
   "id": "fc8b56eb-d41f-4bc3-b552-2b829a046166",
   "metadata": {},
   "outputs": [
    {
     "data": {
      "text/plain": [
       "array([-0.11052223, -0.17439462, -0.14822053, -0.13277226, -0.16338124])"
      ]
     },
     "execution_count": 73,
     "metadata": {},
     "output_type": "execute_result"
    }
   ],
   "source": [
    "x2"
   ]
  },
  {
   "cell_type": "code",
   "execution_count": 74,
   "id": "22e011ba-6f3a-4b5d-a647-341aa1525a5d",
   "metadata": {},
   "outputs": [
    {
     "data": {
      "text/plain": [
       "array([-0.07140218, -0.01845281, -0.04015079, -0.0529572 , -0.02758276])"
      ]
     },
     "execution_count": 74,
     "metadata": {},
     "output_type": "execute_result"
    }
   ],
   "source": [
    "x3"
   ]
  },
  {
   "cell_type": "code",
   "execution_count": null,
   "id": "26151b5b-f22f-4855-9851-65c199ebcbdc",
   "metadata": {},
   "outputs": [],
   "source": []
  }
 ],
 "metadata": {
  "kernelspec": {
   "display_name": "Python 3",
   "language": "python",
   "name": "python3"
  },
  "language_info": {
   "codemirror_mode": {
    "name": "ipython",
    "version": 3
   },
   "file_extension": ".py",
   "mimetype": "text/x-python",
   "name": "python",
   "nbconvert_exporter": "python",
   "pygments_lexer": "ipython3",
   "version": "3.8.8"
  }
 },
 "nbformat": 4,
 "nbformat_minor": 5
}
