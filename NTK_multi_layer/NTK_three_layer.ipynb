{
 "cells": [
  {
   "cell_type": "markdown",
   "id": "dbedd234-f914-4a44-a1b2-c437dd8128fb",
   "metadata": {},
   "source": [
    "### Three-Layer NTK\n",
    "\n",
    "[NTK paper](https://papers.nips.cc/paper/2019/file/c4ef9c39b300931b69a36fb3dbb8d60e-Paper.pdf)\n",
    "\n",
    "[GitHub Repo for this project](https://github.com/genglinliu/NTK-study)"
   ]
  },
  {
   "cell_type": "code",
   "execution_count": 1,
   "id": "5e8c95c0-f769-4af8-a7eb-7333b5cdf811",
   "metadata": {},
   "outputs": [],
   "source": [
    "import numpy as np\n",
    "import matplotlib.pyplot as plt\n",
    "\n",
    "from tqdm import tqdm\n",
    "\n",
    "import warnings\n",
    "warnings.filterwarnings('ignore')"
   ]
  },
  {
   "cell_type": "markdown",
   "id": "8c800a52-23a0-4936-8e29-bcbb91f90106",
   "metadata": {},
   "source": [
    "#### Activation Functions, Plot Functions, Input Initialization, Utility Functions to Check Matrix"
   ]
  },
  {
   "cell_type": "code",
   "execution_count": 2,
   "id": "df01bbb3-9540-44c7-b898-fd613e52377a",
   "metadata": {},
   "outputs": [],
   "source": [
    "\"\"\"\n",
    "activation functions and their derivatives\n",
    "\"\"\"\n",
    "\n",
    "def relu_k(x, k):\n",
    "    return np.maximum(x**k, 0)\n",
    "\n",
    "def d_relu_k(x, k):\n",
    "    return k * x**(k-1) * (x > 0)\n",
    "\n",
    "def relu(x):\n",
    "    return np.maximum(x, 0)\n",
    "\n",
    "def d_relu(x):\n",
    "    return 1.0 * (x > 0)\n",
    "\n",
    "def sin(x, k=None):\n",
    "    return np.sin(x)\n",
    "\n",
    "def cos(x, k=None):\n",
    "    return np.cos(x)\n",
    "\n",
    "def d_cos(x, k=None):\n",
    "    return -np.sin(x)"
   ]
  },
  {
   "cell_type": "code",
   "execution_count": 3,
   "id": "c851e028-482c-4ae3-abb0-cad9ebb7cd04",
   "metadata": {},
   "outputs": [],
   "source": [
    "def init_inputs(num_inputs=400):\n",
    "    # sin(theta) and cos(theta), theta ~ (0, 2*pi) uniformly sampled\n",
    "    # take 100 points on the unit circle\n",
    "    theta = np.linspace(0.0, 2 * np.pi, num=num_inputs)\n",
    "    x = np.asarray((np.cos(theta), np.sin(theta))) # (2, 100)\n",
    "    return x"
   ]
  },
  {
   "cell_type": "code",
   "execution_count": 4,
   "id": "7f760b54-d2be-427a-98e3-cda399cfdcb5",
   "metadata": {},
   "outputs": [],
   "source": [
    "def plot_eigendecay(kernel, label):\n",
    "    # plot\n",
    "    eigenvalues = np.linalg.eigvals(kernel)\n",
    "    # sort in descending order\n",
    "    sorted_eigenvalues = np.sort(eigenvalues)[::-1]\n",
    "    plt.loglog(sorted_eigenvalues[:-1], label=label)\n",
    "    plt.legend(loc='center left', bbox_to_anchor=(1, 0.5))\n",
    "    \n",
    "def plot_eigendecay_trig(kernel, label):\n",
    "    # plot\n",
    "    eigenvalues = np.linalg.eigvals(kernel)\n",
    "    # sort in descending order\n",
    "    sorted_eigenvalues = np.sort(eigenvalues)[::-1]\n",
    "    plt.yscale('log')\n",
    "    plt.plot(sorted_eigenvalues[:-100], label=label)\n",
    "    plt.legend(loc='center left', bbox_to_anchor=(1, 0.5))"
   ]
  },
  {
   "cell_type": "code",
   "execution_count": 5,
   "id": "d4656f7c-ca55-48d1-9a17-081fd7d57fb4",
   "metadata": {},
   "outputs": [],
   "source": [
    "# check kernel symmetry and positive definitiveness\n",
    "def check(matrix, tol=1e-4):\n",
    "    error = np.max(matrix - matrix.T) / np.max(matrix)\n",
    "    if not error < tol:\n",
    "        print(\"warning: kernel is not symmetric\")\n",
    "    if not np.all(np.linalg.eigvals(matrix) >= -tol):\n",
    "        print(\"warning: kernel is not positive semi-definite\")"
   ]
  },
  {
   "cell_type": "markdown",
   "id": "b67320df-db22-49e0-b16d-51ff0c810ab4",
   "metadata": {},
   "source": [
    "#### Calculate the NTK - Build the Matrices one by one"
   ]
  },
  {
   "cell_type": "code",
   "execution_count": 6,
   "id": "1e82de13-8629-46e8-a474-d45bc21e0980",
   "metadata": {},
   "outputs": [],
   "source": [
    "\"\"\"\n",
    "see page 3-4 of the paper\n",
    "\n",
    "ROAD MAP:\n",
    "\n",
    "STEP 0\n",
    "    x and x' are 2-dimensional points of shape (2,)\n",
    "    K_0(x, x') = sigma_0(x, x') = <x, x'> = (x^T).dot(x')\n",
    "\n",
    "STEP 1a\n",
    "    B_1 = [sigma_0(x, x),  sigma_0(x, x'),\n",
    "           sigma_0(x, x'), sigma_0(x', x')]\n",
    "           \n",
    "STEP 1b\n",
    "    sigma_1(x, x') = 2 E(u, v)~N(0, B_1) [activation(u) activation(v)]\n",
    "    sigma_1'(x, x') = 2 E(u, v)~N(0, B_1) [activation'(u) activation'(v)]\n",
    "\n",
    "STEP 1c\n",
    "    K_1(x, x') = sigma_1(x, x') + K_0(x, x') sigma_1'(x, x')\n",
    "    \n",
    "    \n",
    "STEP 2a\n",
    "    B_2 = [sigma_1(x, x),  sigma_1(x, x'),\n",
    "           sigma_1(x, x'), sigma_1(x', x')]\n",
    "           \n",
    "STEP 2b\n",
    "    sigma_2(x, x') = 2 E(u, v)~N(0, B_2) [activation(u) activation(v)]\n",
    "    sigma_2'(x, x') = 2 E(u, v)~N(0, B_2) [activation'(u) activation'(v)]\n",
    "\n",
    "STEP 2c\n",
    "    K_2(x, x') = sigma_2(x, x') + K_1(x, x') sigma_2'(x, x')\n",
    "\n",
    "\"\"\"\n",
    "pass"
   ]
  },
  {
   "cell_type": "code",
   "execution_count": 7,
   "id": "f840b238-fccc-4081-9cea-876f24ba7c67",
   "metadata": {},
   "outputs": [],
   "source": [
    "#--------------------\n",
    "# step 0: K0, sigma_0\n",
    "#--------------------\n",
    "\n",
    "# init input\n",
    "X = init_inputs(num_inputs=400) # (2, num_inputs)\n",
    "num_inputs = X.shape[1]\n",
    "\n",
    "# activation function setup\n",
    "activation_map = {\n",
    "    'relu_k': [relu_k, d_relu_k],\n",
    "    'sin': [sin, cos],\n",
    "    'cos': [cos, d_cos]\n",
    "}\n",
    "\n",
    "def calc_K0():\n",
    "    return np.dot(X.T, X)  # (num_inputs, num_inputs)\n",
    "\n",
    "def calc_sigma0():\n",
    "    return np.dot(X.T, X)  # (num_inputs, num_inputs)"
   ]
  },
  {
   "cell_type": "code",
   "execution_count": 8,
   "id": "d9e24370-edfd-4478-80c8-2d7ac3c0dc6e",
   "metadata": {},
   "outputs": [],
   "source": [
    "#--------------------\n",
    "# step 1a: build B_1\n",
    "#--------------------\n",
    "def calc_B1():\n",
    "    # because x == x', all the sigma_0's are the same\n",
    "    # B_1 is a concatenation of 4 of them\n",
    "    sigma_0 = calc_sigma0()\n",
    "    v1 = np.vstack((sigma_0, sigma_0))\n",
    "    v2 = np.vstack((sigma_0, sigma_0))\n",
    "    B_1 = np.hstack((v1, v2)) #(2*num_inputs, 2*num_inputs)\n",
    "    \n",
    "    return B_1"
   ]
  },
  {
   "cell_type": "code",
   "execution_count": 9,
   "id": "3f1a9105-79f4-4686-9aa7-1f27953808cb",
   "metadata": {},
   "outputs": [],
   "source": [
    "#--------------------\n",
    "# step 1b: sigma_1\n",
    "#--------------------\n",
    "\n",
    "def calc_sigma_1(activation_h1, h1_k):\n",
    "    \n",
    "    activation_func, d_activation = activation_map[activation_h1]\n",
    "    num_samples = 4000\n",
    "    mean = np.zeros(2 * num_inputs)\n",
    "    cov = calc_B1()\n",
    "\n",
    "    # generate 1000 pairs of (u, v), 1st half of the sample is u, 2nd half is v\n",
    "    sample = np.random.multivariate_normal(mean, cov, num_samples)\n",
    "    u, v = sample[:, :num_inputs], sample[:, num_inputs:] # (num_samples, num_inputs) = (1000, 100)\n",
    "\n",
    "    # dot product to sum up the sampled u and v after being activated; this step same as the two-layer case\n",
    "    expectation_1 = np.dot(activation_func(u, h1_k).T, activation_func(v, h1_k)) / num_samples\n",
    "    expectation_2 = np.dot(d_activation(u, h1_k).T, d_activation(v, h1_k)) / num_samples\n",
    "\n",
    "    sigma_1 = 2 * expectation_1\n",
    "    sigma_1_prime = 2 * expectation_2\n",
    "    \n",
    "    return sigma_1, sigma_1_prime"
   ]
  },
  {
   "cell_type": "code",
   "execution_count": 10,
   "id": "d083561d-7eb0-46bc-99e3-0697f60ae2f7",
   "metadata": {},
   "outputs": [],
   "source": [
    "#--------------------\n",
    "# step 1c: K1\n",
    "#--------------------\n",
    "def calc_K1(activation_h1, h1_k):\n",
    "    K_0 = calc_K0()\n",
    "    sigma_1, sigma_1_prime = calc_sigma_1(activation_h1, h1_k)\n",
    "    \n",
    "    K1 = sigma_1 + K_0 * sigma_1_prime\n",
    "    check(K1)\n",
    "    \n",
    "    return K1"
   ]
  },
  {
   "cell_type": "code",
   "execution_count": 11,
   "id": "19102924-6207-40d3-8486-4522f25c5b68",
   "metadata": {},
   "outputs": [],
   "source": [
    "#--------------------\n",
    "# 2a: B2\n",
    "#--------------------\n",
    "def calc_B2(activation_h1, h1_k):\n",
    "    sigma_1, _ = calc_sigma_1(activation_h1, h1_k)\n",
    "    v3 = np.vstack((sigma_1, sigma_1))\n",
    "    v4 = np.vstack((sigma_1, sigma_1))\n",
    "    B_2 = np.hstack((v3, v4))\n",
    "    \n",
    "    return B_2"
   ]
  },
  {
   "cell_type": "code",
   "execution_count": 12,
   "id": "efe61bb5-8e0e-4d55-8413-a9795a40804b",
   "metadata": {},
   "outputs": [],
   "source": [
    "#--------------------\n",
    "# 2b: sigma_2\n",
    "#--------------------\n",
    "\n",
    "def calc_sigma_2(activation_h1, activation_h2, h1_k, h2_k):\n",
    "    \n",
    "    activation_func, d_activation = activation_map[activation_h2]\n",
    "    num_samples = 4000\n",
    "    mean = np.zeros(2 * num_inputs)\n",
    "    cov = calc_B2(activation_h1, h1_k)\n",
    "\n",
    "    # generate 1000 pairs of (u, v), 1st half of the sample is u, 2nd half is v\n",
    "    sample = np.random.multivariate_normal(mean, cov, num_samples)\n",
    "    u, v = sample[:, :num_inputs], sample[:, num_inputs:] # (num_samples, num_inputs) = (1000, 100)\n",
    "\n",
    "    # dot product to sum up the sampled u and v after being activated; this step same as the two-layer case\n",
    "    expectation_1 = np.dot(activation_func(u, h2_k).T, activation_func(v, h2_k)) / num_samples\n",
    "    expectation_2 = np.dot(d_activation(u, h2_k).T, d_activation(v, h2_k)) / num_samples\n",
    "\n",
    "    sigma_2 = 2 * expectation_1\n",
    "    sigma_2_prime = 2 * expectation_2\n",
    "    \n",
    "    return sigma_2, sigma_2_prime"
   ]
  },
  {
   "cell_type": "code",
   "execution_count": 13,
   "id": "8119d749-11ef-4dda-9546-4622298f5077",
   "metadata": {},
   "outputs": [],
   "source": [
    "#--------------------\n",
    "# step 2c: K2\n",
    "#--------------------\n",
    "def calc_K2(activation_h1, activation_h2, h1_k=1, h2_k=1):\n",
    "    \"\"\"\n",
    "    activation_h1 is activation for the 1st hidden layer\n",
    "    activation_h2 is activation for the 2nd hidden layer\n",
    "    \"\"\"\n",
    "    K_1 = calc_K1(activation_h1, h1_k)\n",
    "    sigma_2, sigma_2_prime = calc_sigma_2(activation_h1, activation_h2, h1_k, h2_k)\n",
    "    \n",
    "    K2 = sigma_2 + K_1 * sigma_2_prime\n",
    "    check(K2)\n",
    "    \n",
    "    return K2"
   ]
  },
  {
   "cell_type": "code",
   "execution_count": 14,
   "id": "d7ba02f4-3d72-464c-b6f7-4e9b06d5ade6",
   "metadata": {},
   "outputs": [],
   "source": [
    "\"\"\"\n",
    "Analytic Solution\n",
    "page 4 equation (6)-(7)\n",
    "\"\"\"\n",
    "def kappa_0(u):\n",
    "    pi = np.pi\n",
    "    k_0 = (1/pi) * (pi - np.arccos(u))\n",
    "    return k_0\n",
    "\n",
    "def kappa_1(u):\n",
    "    pi = np.pi\n",
    "    k_1 = (1/pi) * (u * (pi - np.arccos(u)) + np.sqrt(1 - u**2))\n",
    "    return k_1\n",
    "\n",
    "def K_0_analytical(x, y):\n",
    "    return np.dot(x.T, y)\n",
    "\n",
    "def sigma_0_analytical(x, y):\n",
    "    return np.dot(x.T, y)\n",
    "\n",
    "def sigma_1_and_prime_analytical(x, y):\n",
    "    sig_0_xx = sigma_0_analytical(x, x)\n",
    "    sig_0_yy = sigma_0_analytical(y, y)\n",
    "    sig_0_xy = sigma_0_analytical(x, y)\n",
    "    sqrt_term = np.sqrt(sig_0_xx * sig_0_yy)\n",
    "    \n",
    "    u = sig_0_xy / sqrt_term\n",
    "    k_1 = kappa_1(u)\n",
    "    sigma_1 = sqrt_term * k_1\n",
    "    sigma_1_prime = kappa_0(u)\n",
    "    \n",
    "    return sigma_1, sigma_1_prime\n",
    "    \n",
    "def sigma_2_prime_analytical(x, y):\n",
    "    sig_1_xx, _ = sigma_1_and_prime_analytical(x, y)\n",
    "    sig_1_xy, _ = sigma_1_and_prime_analytical(x, y)\n",
    "    sig_1_yy, _ = sigma_1_and_prime_analytical(y, y)\n",
    "    sqrt_term = np.sqrt(sig_1_xx * sig_1_yy)\n",
    "    \n",
    "    u = sig_1_xy / sqrt_term\n",
    "    k_1 = kappa_1(u)\n",
    "    sigma_2 = sqrt_term * k_1\n",
    "    sigma_2_prime = kappa_0(u)\n",
    "    \n",
    "    return sigma_2, sigma_2_prime\n",
    "\n",
    "def K_1_analytical(x, y):\n",
    "    sigma_1, sigma_1_prime = sigma_1_and_prime_analytical(x, y)\n",
    "    K_0 = K_0_analytical(x, y)\n",
    "    K_1 = sigma_1 + K_0 * sigma_1_prime\n",
    "    return K_1\n",
    "\n",
    "def K_2_analytical(x, y):\n",
    "    sigma_2, sigma_2_prime = sigma_2_prime_analytical(x, y)\n",
    "    K_1 = K_1_analytical(x, y)\n",
    "    K_2 = sigma_2 + K_1 * sigma_2_prime\n",
    "    return K_2\n",
    "\n",
    "def calc_NTK_analytical():\n",
    "    # init input\n",
    "    x = init_inputs() # (2, 100)\n",
    "    num_inputs = x.shape[1]\n",
    "    \n",
    "    # initialize kernel \n",
    "    kernel = np.zeros((num_inputs, num_inputs))\n",
    "    \n",
    "    for i in range(num_inputs):\n",
    "        for j in range(num_inputs):\n",
    "            kernel[i][j] = K_2_analytical(x[:, i], x[:, j])\n",
    "    \n",
    "    check(kernel)\n",
    "    \n",
    "    return kernel"
   ]
  },
  {
   "cell_type": "markdown",
   "id": "90f75e88-a0d2-49fe-863c-1ac49fa4b6f3",
   "metadata": {},
   "source": [
    "#### Utility functions to calculate rate/slope of decay under log-log scales"
   ]
  },
  {
   "cell_type": "code",
   "execution_count": 15,
   "id": "07a3a3c2-646b-4c7a-ad32-330084746233",
   "metadata": {},
   "outputs": [],
   "source": [
    "\"\"\"\n",
    "the naive approach takes two end points and calculate the slope:\n",
    "    calculate slope:\n",
    "    (x1, y1) => (x2, y2)\n",
    "    where x1 = 20, x2 = 100 \n",
    "    y values are eigenvalues[20], eigenvalues[100]\n",
    "the regression approach fits a linear regression with all the eigenvalues in [20:100]\n",
    "\n",
    "log(y) = k * log(x) + log(b)\n",
    "\n",
    "returns k\n",
    "\"\"\"\n",
    "def calc_slope_naive(kernel):\n",
    "    eigenvalues = np.linalg.eigvals(kernel)\n",
    "    sorted_eigenvalues = np.sort(eigenvalues)[::-1]\n",
    "    x1 = 20\n",
    "    x2 = 100\n",
    "    y1 = np.log2(sorted_eigenvalues[20])\n",
    "    y2 = np.log2(sorted_eigenvalues[100])\n",
    "    \n",
    "    slope = (y2-y1) / (x2-x1)\n",
    "    b = y1 - slope * x1\n",
    "    \n",
    "    return slope\n",
    "\n",
    "def calc_slope_regression(kernel):\n",
    "    \"\"\" the range between two end points may be adjusted\"\"\"\n",
    "    eigenvalues = np.linalg.eigvals(kernel)\n",
    "    sorted_eigenvalues = np.sort(eigenvalues)[::-1]\n",
    "    x = np.log10(np.arange(30, 100))\n",
    "    y = np.log10(sorted_eigenvalues[30:100])\n",
    "    \n",
    "    slope, b = np.polyfit(x, y, deg=1)\n",
    "    \n",
    "    return slope"
   ]
  },
  {
   "cell_type": "code",
   "execution_count": 16,
   "id": "088c6b40-7d34-4429-8c4e-96f6c2f7ceb7",
   "metadata": {},
   "outputs": [],
   "source": [
    "\"\"\"\n",
    "experiment:\n",
    "1. first hidden layer: smooth (sin/cos), second: non-smooth (ReLU^k)\n",
    "2. reverse the order of activation\n",
    "\"\"\" \n",
    "activation_1 = 'relu_k'\n",
    "activation_2 = 'sin'\n",
    "activation_3 = 'cos'\n",
    "\n",
    "kernel_analytical = calc_NTK_analytical()\n",
    "K2_relu_relu = calc_K2(activation_1, activation_1)\n",
    "K2_relu_sin = calc_K2(activation_1, activation_2)\n",
    "K2_sin_relu = calc_K2(activation_2, activation_1)\n",
    "K2_sin_sin = calc_K2(activation_2, activation_2)\n",
    "\n",
    "K2_relu_cos = calc_K2(activation_1, activation_3)"
   ]
  },
  {
   "cell_type": "code",
   "execution_count": 17,
   "id": "f5f9bd90-598a-43a4-9190-f8cd2e624419",
   "metadata": {},
   "outputs": [
    {
     "data": {
      "image/png": "[encoded data removed]",
      "text/plain": [
       "<Figure size 432x288 with 1 Axes>"
      ]
     },
     "metadata": {
      "needs_background": "light"
     },
     "output_type": "display_data"
    }
   ],
   "source": [
    "# plot_eigendecay(kernel_analytical, 'analytical')\n",
    "plot_eigendecay(K2_relu_relu, 'relu+relu')\n",
    "plot_eigendecay(K2_sin_relu, 'sin+relu')\n",
    "plot_eigendecay(K2_relu_sin, 'relu+sin')\n",
    "plot_eigendecay(K2_sin_sin, 'sin+sin')\n"
   ]
  },
  {
   "cell_type": "code",
   "execution_count": 18,
   "id": "9b3cf87a-0f00-4ef7-b22f-0940fc8854a4",
   "metadata": {},
   "outputs": [
    {
     "name": "stdout",
     "output_type": "stream",
     "text": [
      "warning: kernel is not positive semi-definite\n"
     ]
    }
   ],
   "source": [
    "\"\"\"\n",
    "experiment 3. relu^k decay rate vs (relu^k + sin) decay rate\n",
    "\n",
    "make table of slopes\n",
    "\n",
    "         (relu_k)+(relu_k)      (relu_k)+(sin)\n",
    "K=1          \n",
    "K=2\n",
    "K=3\n",
    "k=4\n",
    "\n",
    "\"\"\"\n",
    "\n",
    "activation_relu = 'relu_k'\n",
    "activation_sin = 'sin'\n",
    "\n",
    "relu_k1 = calc_K2(activation_relu, activation_relu, h1_k=1, h2_k=1)\n",
    "relu_k2 = calc_K2(activation_relu, activation_relu, h1_k=2, h2_k=2)\n",
    "relu_k3 = calc_K2(activation_relu, activation_relu, h1_k=3, h2_k=3)\n",
    "relu_k4 = calc_K2(activation_relu, activation_relu, h1_k=4, h2_k=4)\n",
    "\n",
    "sin_relu_k1 = calc_K2(activation_sin, activation_relu, h1_k=1)\n",
    "sin_relu_k2 = calc_K2(activation_sin, activation_relu, h1_k=2)\n",
    "sin_relu_k3 = calc_K2(activation_sin, activation_relu, h1_k=3)\n",
    "sin_relu_k4 = calc_K2(activation_sin, activation_relu, h1_k=4)\n",
    "\n",
    "relu_sin_k1 = calc_K2(activation_relu, activation_sin, h1_k=1)\n",
    "relu_sin_k2 = calc_K2(activation_relu, activation_sin, h1_k=2)\n",
    "relu_sin_k3 = calc_K2(activation_relu, activation_sin, h1_k=3)\n",
    "relu_sin_k4 = calc_K2(activation_relu, activation_sin, h1_k=4)"
   ]
  },
  {
   "cell_type": "code",
   "execution_count": 19,
   "id": "79d6cf32-22f1-4cf9-a1e2-96a6d78532c8",
   "metadata": {},
   "outputs": [
    {
     "data": {
      "text/plain": [
       "True"
      ]
     },
     "execution_count": 19,
     "metadata": {},
     "output_type": "execute_result"
    }
   ],
   "source": [
    "matrix = sin_relu_k1\n",
    "np.all(np.linalg.eigvals(matrix) >= -1e-4)"
   ]
  },
  {
   "cell_type": "code",
   "execution_count": 20,
   "id": "d16562b8-4168-46d1-b936-5f4e4d5e154b",
   "metadata": {},
   "outputs": [
    {
     "data": {
      "image/png": "[encoded data removed]",
      "text/plain": [
       "<Figure size 432x288 with 1 Axes>"
      ]
     },
     "metadata": {
      "needs_background": "light"
     },
     "output_type": "display_data"
    }
   ],
   "source": [
    "plot_eigendecay( relu_k1, 'relu_k1' )\n",
    "plot_eigendecay( sin_relu_k1, 'sin_relu_k1' )\n",
    "plot_eigendecay( relu_sin_k1, 'relu_sin_k1' )"
   ]
  },
  {
   "cell_type": "code",
   "execution_count": 21,
   "id": "f52ce213-026a-42c4-b67f-015679b25c40",
   "metadata": {},
   "outputs": [
    {
     "data": {
      "image/png": "[encoded data removed]",
      "text/plain": [
       "<Figure size 432x288 with 1 Axes>"
      ]
     },
     "metadata": {
      "needs_background": "light"
     },
     "output_type": "display_data"
    }
   ],
   "source": [
    "plot_eigendecay( relu_k2, 'relu_k2' )\n",
    "plot_eigendecay( sin_relu_k2, 'sin_relu_k2' )\n",
    "plot_eigendecay( relu_sin_k2, 'relu_sin_k2' )"
   ]
  },
  {
   "cell_type": "code",
   "execution_count": 22,
   "id": "5867a468-83fb-4136-9580-769136df8e77",
   "metadata": {},
   "outputs": [
    {
     "data": {
      "image/png": "[encoded data removed]",
      "text/plain": [
       "<Figure size 432x288 with 1 Axes>"
      ]
     },
     "metadata": {
      "needs_background": "light"
     },
     "output_type": "display_data"
    }
   ],
   "source": [
    "plot_eigendecay( relu_k3, 'relu_k3' )\n",
    "plot_eigendecay( sin_relu_k3, 'sin_relu_k3' )\n",
    "plot_eigendecay( relu_sin_k3, 'relu_sin_k3' )"
   ]
  },
  {
   "cell_type": "code",
   "execution_count": 23,
   "id": "5ab7be90-b10e-44cc-962c-60c89d93deb3",
   "metadata": {},
   "outputs": [
    {
     "data": {
      "image/png": "[encoded data removed]",
      "text/plain": [
       "<Figure size 432x288 with 1 Axes>"
      ]
     },
     "metadata": {
      "needs_background": "light"
     },
     "output_type": "display_data"
    }
   ],
   "source": [
    "plot_eigendecay( relu_k4, 'relu_k4' )\n",
    "plot_eigendecay( sin_relu_k4, 'sin_relu_k4' )\n",
    "plot_eigendecay( relu_sin_k4, 'relu_sin_k4' )"
   ]
  },
  {
   "cell_type": "code",
   "execution_count": 24,
   "id": "b2acdb04-c8ac-47b8-9407-5aa38f5d8128",
   "metadata": {},
   "outputs": [],
   "source": [
    "# frequency is the x axis\n",
    "# smaller eigenvalue -> high frequency\n",
    "# large eigenvalue -> low frequency\n",
    "# green curves (relu + sin) cannot learn a lot of high frequency because eigenvalues cluster at above 1. High frequency region is near 0\n",
    "# blue curves (relu_k) can learn high/mid/low frequency\n",
    "# fast decay - cannot learn high frequency components as well (check fact) \n",
    "# orange curves (sin+relu) have slower decay rate than blue curves\n",
    "# if we have a function with high/mid/low frequency and use relu+sin activation, then error should be large"
   ]
  }
 ],
 "metadata": {
  "kernelspec": {
   "display_name": "Python 3",
   "language": "python",
   "name": "python3"
  },
  "language_info": {
   "codemirror_mode": {
    "name": "ipython",
    "version": 3
   },
   "file_extension": ".py",
   "mimetype": "text/x-python",
   "name": "python",
   "nbconvert_exporter": "python",
   "pygments_lexer": "ipython3",
   "version": "3.8.10"
  }
 },
 "nbformat": 4,
 "nbformat_minor": 5
}
